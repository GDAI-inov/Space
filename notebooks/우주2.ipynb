{
 "cells": [
  {
   "cell_type": "code",
   "execution_count": 1,
   "metadata": {},
   "outputs": [],
   "source": [
    "import pandas as pd\n",
    "import numpy as np\n",
    "import matplotlib.pyplot as plt\n",
    "import seaborn as sns\n",
    "import missingno as mino\n",
    "import sklearn\n",
    "import pickle"
   ]
  },
  {
   "cell_type": "code",
   "execution_count": 2,
   "metadata": {},
   "outputs": [],
   "source": [
    "%load_ext watermark"
   ]
  },
  {
   "cell_type": "code",
   "execution_count": 3,
   "metadata": {},
   "outputs": [
    {
     "name": "stdout",
     "output_type": "stream",
     "text": [
      "jinhyo \n",
      "last updated: 2019-09-07 \n",
      "\n",
      "CPython 3.7.3\n",
      "IPython 7.4.0\n",
      "\n",
      "numpy 1.16.2\n",
      "pandas 0.24.2\n",
      "matplotlib 3.0.3\n",
      "seaborn 0.9.0\n",
      "missingno 0.4.2\n",
      "sklearn 0.20.3\n"
     ]
    }
   ],
   "source": [
    "%watermark -ajinhyo -u -d -v -pnumpy,pandas,matplotlib,seaborn,missingno,sklearn"
   ]
  },
  {
   "cell_type": "markdown",
   "metadata": {},
   "source": [
    "---"
   ]
  },
  {
   "cell_type": "markdown",
   "metadata": {},
   "source": [
    "# 1. 데이터 불러오기"
   ]
  },
  {
   "cell_type": "code",
   "execution_count": 4,
   "metadata": {},
   "outputs": [
    {
     "data": {
      "text/html": [
       "<div>\n",
       "<style scoped>\n",
       "    .dataframe tbody tr th:only-of-type {\n",
       "        vertical-align: middle;\n",
       "    }\n",
       "\n",
       "    .dataframe tbody tr th {\n",
       "        vertical-align: top;\n",
       "    }\n",
       "\n",
       "    .dataframe thead th {\n",
       "        text-align: right;\n",
       "    }\n",
       "</style>\n",
       "<table border=\"1\" class=\"dataframe\">\n",
       "  <thead>\n",
       "    <tr style=\"text-align: right;\">\n",
       "      <th></th>\n",
       "      <th>date</th>\n",
       "      <th>kp_0h</th>\n",
       "      <th>kp_3h</th>\n",
       "      <th>kp_6h</th>\n",
       "      <th>kp_9h</th>\n",
       "      <th>kp_12h</th>\n",
       "      <th>kp_15h</th>\n",
       "      <th>kp_18h</th>\n",
       "      <th>kp_21h</th>\n",
       "    </tr>\n",
       "  </thead>\n",
       "  <tbody>\n",
       "    <tr>\n",
       "      <th>0</th>\n",
       "      <td>1999-01-01</td>\n",
       "      <td>0</td>\n",
       "      <td>2</td>\n",
       "      <td>1</td>\n",
       "      <td>2</td>\n",
       "      <td>2</td>\n",
       "      <td>1</td>\n",
       "      <td>1</td>\n",
       "      <td>1</td>\n",
       "    </tr>\n",
       "    <tr>\n",
       "      <th>1</th>\n",
       "      <td>1999-01-02</td>\n",
       "      <td>1</td>\n",
       "      <td>2</td>\n",
       "      <td>2</td>\n",
       "      <td>3</td>\n",
       "      <td>3</td>\n",
       "      <td>2</td>\n",
       "      <td>2</td>\n",
       "      <td>1</td>\n",
       "    </tr>\n",
       "    <tr>\n",
       "      <th>2</th>\n",
       "      <td>1999-01-03</td>\n",
       "      <td>2</td>\n",
       "      <td>2</td>\n",
       "      <td>0</td>\n",
       "      <td>0</td>\n",
       "      <td>1</td>\n",
       "      <td>1</td>\n",
       "      <td>1</td>\n",
       "      <td>1</td>\n",
       "    </tr>\n",
       "    <tr>\n",
       "      <th>3</th>\n",
       "      <td>1999-01-04</td>\n",
       "      <td>1</td>\n",
       "      <td>2</td>\n",
       "      <td>3</td>\n",
       "      <td>2</td>\n",
       "      <td>3</td>\n",
       "      <td>2</td>\n",
       "      <td>1</td>\n",
       "      <td>2</td>\n",
       "    </tr>\n",
       "    <tr>\n",
       "      <th>4</th>\n",
       "      <td>1999-01-05</td>\n",
       "      <td>3</td>\n",
       "      <td>3</td>\n",
       "      <td>2</td>\n",
       "      <td>3</td>\n",
       "      <td>1</td>\n",
       "      <td>1</td>\n",
       "      <td>2</td>\n",
       "      <td>1</td>\n",
       "    </tr>\n",
       "  </tbody>\n",
       "</table>\n",
       "</div>"
      ],
      "text/plain": [
       "         date  kp_0h  kp_3h  kp_6h  kp_9h  kp_12h  kp_15h  kp_18h  kp_21h\n",
       "0  1999-01-01      0      2      1      2       2       1       1       1\n",
       "1  1999-01-02      1      2      2      3       3       2       2       1\n",
       "2  1999-01-03      2      2      0      0       1       1       1       1\n",
       "3  1999-01-04      1      2      3      2       3       2       1       2\n",
       "4  1999-01-05      3      3      2      3       1       1       2       1"
      ]
     },
     "execution_count": 4,
     "metadata": {},
     "output_type": "execute_result"
    }
   ],
   "source": [
    "# 붙임1 지자기교란 예측모델 개발용 데이터셋_수정190820/지자기교란 지수\n",
    "\n",
    "target = pd.read_csv(\"kp_1999-2013.csv\")\n",
    "target.head()"
   ]
  },
  {
   "cell_type": "code",
   "execution_count": 5,
   "metadata": {},
   "outputs": [
    {
     "data": {
      "text/html": [
       "<div>\n",
       "<style scoped>\n",
       "    .dataframe tbody tr th:only-of-type {\n",
       "        vertical-align: middle;\n",
       "    }\n",
       "\n",
       "    .dataframe tbody tr th {\n",
       "        vertical-align: top;\n",
       "    }\n",
       "\n",
       "    .dataframe thead th {\n",
       "        text-align: right;\n",
       "    }\n",
       "</style>\n",
       "<table border=\"1\" class=\"dataframe\">\n",
       "  <thead>\n",
       "    <tr style=\"text-align: right;\">\n",
       "      <th></th>\n",
       "      <th>doy</th>\n",
       "      <th>h</th>\n",
       "      <th>m</th>\n",
       "      <th>Np</th>\n",
       "      <th>Tp</th>\n",
       "      <th>Vp</th>\n",
       "      <th>B_gsm_x</th>\n",
       "      <th>B_gsm_y</th>\n",
       "      <th>B_gsm_z</th>\n",
       "      <th>Bmag</th>\n",
       "    </tr>\n",
       "  </thead>\n",
       "  <tbody>\n",
       "    <tr>\n",
       "      <th>0</th>\n",
       "      <td>1</td>\n",
       "      <td>0</td>\n",
       "      <td>0</td>\n",
       "      <td>1.852</td>\n",
       "      <td>41618.0</td>\n",
       "      <td>455.61</td>\n",
       "      <td>6.098</td>\n",
       "      <td>2.449</td>\n",
       "      <td>-13.415</td>\n",
       "      <td>14.952</td>\n",
       "    </tr>\n",
       "    <tr>\n",
       "      <th>1</th>\n",
       "      <td>1</td>\n",
       "      <td>0</td>\n",
       "      <td>1</td>\n",
       "      <td>2.181</td>\n",
       "      <td>33781.0</td>\n",
       "      <td>461.07</td>\n",
       "      <td>6.700</td>\n",
       "      <td>1.502</td>\n",
       "      <td>-13.232</td>\n",
       "      <td>14.912</td>\n",
       "    </tr>\n",
       "    <tr>\n",
       "      <th>2</th>\n",
       "      <td>1</td>\n",
       "      <td>0</td>\n",
       "      <td>2</td>\n",
       "      <td>2.415</td>\n",
       "      <td>34709.0</td>\n",
       "      <td>464.84</td>\n",
       "      <td>7.390</td>\n",
       "      <td>0.523</td>\n",
       "      <td>-12.941</td>\n",
       "      <td>14.928</td>\n",
       "    </tr>\n",
       "    <tr>\n",
       "      <th>3</th>\n",
       "      <td>1</td>\n",
       "      <td>0</td>\n",
       "      <td>3</td>\n",
       "      <td>2.359</td>\n",
       "      <td>34183.0</td>\n",
       "      <td>470.76</td>\n",
       "      <td>8.011</td>\n",
       "      <td>-0.098</td>\n",
       "      <td>-12.694</td>\n",
       "      <td>15.013</td>\n",
       "    </tr>\n",
       "    <tr>\n",
       "      <th>4</th>\n",
       "      <td>1</td>\n",
       "      <td>0</td>\n",
       "      <td>4</td>\n",
       "      <td>1.237</td>\n",
       "      <td>32467.0</td>\n",
       "      <td>469.51</td>\n",
       "      <td>7.493</td>\n",
       "      <td>0.410</td>\n",
       "      <td>-13.058</td>\n",
       "      <td>15.064</td>\n",
       "    </tr>\n",
       "  </tbody>\n",
       "</table>\n",
       "</div>"
      ],
      "text/plain": [
       "   doy  h  m     Np       Tp      Vp  B_gsm_x  B_gsm_y  B_gsm_z    Bmag\n",
       "0    1  0  0  1.852  41618.0  455.61    6.098    2.449  -13.415  14.952\n",
       "1    1  0  1  2.181  33781.0  461.07    6.700    1.502  -13.232  14.912\n",
       "2    1  0  2  2.415  34709.0  464.84    7.390    0.523  -12.941  14.928\n",
       "3    1  0  3  2.359  34183.0  470.76    8.011   -0.098  -12.694  15.013\n",
       "4    1  0  4  1.237  32467.0  469.51    7.493    0.410  -13.058  15.064"
      ]
     },
     "execution_count": 5,
     "metadata": {},
     "output_type": "execute_result"
    }
   ],
   "source": [
    "# 붙임2 AI 경진대회 문제(태양풍 데이터)\n",
    "\n",
    "problem = pd.read_csv(\"problem.csv\")\n",
    "problem.head()"
   ]
  },
  {
   "cell_type": "code",
   "execution_count": 6,
   "metadata": {},
   "outputs": [
    {
     "data": {
      "text/html": [
       "<div>\n",
       "<style scoped>\n",
       "    .dataframe tbody tr th:only-of-type {\n",
       "        vertical-align: middle;\n",
       "    }\n",
       "\n",
       "    .dataframe tbody tr th {\n",
       "        vertical-align: top;\n",
       "    }\n",
       "\n",
       "    .dataframe thead th {\n",
       "        text-align: right;\n",
       "    }\n",
       "</style>\n",
       "<table border=\"1\" class=\"dataframe\">\n",
       "  <thead>\n",
       "    <tr style=\"text-align: right;\">\n",
       "      <th></th>\n",
       "      <th>doy</th>\n",
       "      <th>h</th>\n",
       "      <th>m</th>\n",
       "      <th>Np</th>\n",
       "      <th>Tp</th>\n",
       "      <th>Vp</th>\n",
       "      <th>B_gsm_x</th>\n",
       "      <th>B_gsm_y</th>\n",
       "      <th>B_gsm_z</th>\n",
       "      <th>Bmag</th>\n",
       "    </tr>\n",
       "  </thead>\n",
       "  <tbody>\n",
       "    <tr>\n",
       "      <th>0</th>\n",
       "      <td>180</td>\n",
       "      <td>0</td>\n",
       "      <td>1</td>\n",
       "      <td>2.416</td>\n",
       "      <td>65701.0</td>\n",
       "      <td>402.18</td>\n",
       "      <td>-4.212</td>\n",
       "      <td>-3.982</td>\n",
       "      <td>2.445</td>\n",
       "      <td>6.298</td>\n",
       "    </tr>\n",
       "    <tr>\n",
       "      <th>1</th>\n",
       "      <td>180</td>\n",
       "      <td>0</td>\n",
       "      <td>2</td>\n",
       "      <td>2.493</td>\n",
       "      <td>68240.0</td>\n",
       "      <td>399.89</td>\n",
       "      <td>-4.566</td>\n",
       "      <td>-3.473</td>\n",
       "      <td>2.766</td>\n",
       "      <td>6.430</td>\n",
       "    </tr>\n",
       "    <tr>\n",
       "      <th>2</th>\n",
       "      <td>180</td>\n",
       "      <td>0</td>\n",
       "      <td>3</td>\n",
       "      <td>2.582</td>\n",
       "      <td>85224.0</td>\n",
       "      <td>389.17</td>\n",
       "      <td>-5.456</td>\n",
       "      <td>-2.370</td>\n",
       "      <td>2.837</td>\n",
       "      <td>6.596</td>\n",
       "    </tr>\n",
       "    <tr>\n",
       "      <th>3</th>\n",
       "      <td>180</td>\n",
       "      <td>0</td>\n",
       "      <td>4</td>\n",
       "      <td>2.686</td>\n",
       "      <td>90925.0</td>\n",
       "      <td>390.59</td>\n",
       "      <td>-5.550</td>\n",
       "      <td>-1.988</td>\n",
       "      <td>2.768</td>\n",
       "      <td>6.519</td>\n",
       "    </tr>\n",
       "    <tr>\n",
       "      <th>4</th>\n",
       "      <td>180</td>\n",
       "      <td>0</td>\n",
       "      <td>5</td>\n",
       "      <td>2.676</td>\n",
       "      <td>79821.0</td>\n",
       "      <td>392.44</td>\n",
       "      <td>-4.922</td>\n",
       "      <td>-3.073</td>\n",
       "      <td>2.679</td>\n",
       "      <td>6.416</td>\n",
       "    </tr>\n",
       "  </tbody>\n",
       "</table>\n",
       "</div>"
      ],
      "text/plain": [
       "   doy  h  m     Np       Tp      Vp  B_gsm_x  B_gsm_y  B_gsm_z   Bmag\n",
       "0  180  0  1  2.416  65701.0  402.18   -4.212   -3.982    2.445  6.298\n",
       "1  180  0  2  2.493  68240.0  399.89   -4.566   -3.473    2.766  6.430\n",
       "2  180  0  3  2.582  85224.0  389.17   -5.456   -2.370    2.837  6.596\n",
       "3  180  0  4  2.686  90925.0  390.59   -5.550   -1.988    2.768  6.519\n",
       "4  180  0  5  2.676  79821.0  392.44   -4.922   -3.073    2.679  6.416"
      ]
     },
     "execution_count": 6,
     "metadata": {},
     "output_type": "execute_result"
    }
   ],
   "source": [
    "# 붙임5 추가 태양풍 데이터(과제문제의 전년도 6개월)\n",
    "\n",
    "additional = pd.read_csv(\"additional.csv\", skiprows=14, delim_whitespace=True, names=problem.columns)\n",
    "additional.head()"
   ]
  },
  {
   "cell_type": "code",
   "execution_count": 7,
   "metadata": {},
   "outputs": [
    {
     "data": {
      "text/plain": [
       "['year',\n",
       " 'doy',\n",
       " 'h',\n",
       " 'm',\n",
       " 'Np',\n",
       " 'Tp',\n",
       " 'Vp',\n",
       " 'B_gsm_x',\n",
       " 'B_gsm_y',\n",
       " 'B_gsm_z',\n",
       " 'Bmag']"
      ]
     },
     "execution_count": 7,
     "metadata": {},
     "output_type": "execute_result"
    }
   ],
   "source": [
    "# 붙임5의 columns를 카피함.\n",
    "\n",
    "names = [\"year\"]\n",
    "names.extend(problem.columns)\n",
    "names"
   ]
  },
  {
   "cell_type": "code",
   "execution_count": 8,
   "metadata": {},
   "outputs": [
    {
     "data": {
      "text/html": [
       "<div>\n",
       "<style scoped>\n",
       "    .dataframe tbody tr th:only-of-type {\n",
       "        vertical-align: middle;\n",
       "    }\n",
       "\n",
       "    .dataframe tbody tr th {\n",
       "        vertical-align: top;\n",
       "    }\n",
       "\n",
       "    .dataframe thead th {\n",
       "        text-align: right;\n",
       "    }\n",
       "</style>\n",
       "<table border=\"1\" class=\"dataframe\">\n",
       "  <thead>\n",
       "    <tr style=\"text-align: right;\">\n",
       "      <th></th>\n",
       "      <th>year</th>\n",
       "      <th>doy</th>\n",
       "      <th>h</th>\n",
       "      <th>m</th>\n",
       "      <th>Np</th>\n",
       "      <th>Tp</th>\n",
       "      <th>Vp</th>\n",
       "      <th>B_gsm_x</th>\n",
       "      <th>B_gsm_y</th>\n",
       "      <th>B_gsm_z</th>\n",
       "      <th>Bmag</th>\n",
       "    </tr>\n",
       "  </thead>\n",
       "  <tbody>\n",
       "    <tr>\n",
       "      <th>0</th>\n",
       "      <td>1999</td>\n",
       "      <td>1</td>\n",
       "      <td>0</td>\n",
       "      <td>0</td>\n",
       "      <td>7.149</td>\n",
       "      <td>92352.0</td>\n",
       "      <td>406.00</td>\n",
       "      <td>-2.174</td>\n",
       "      <td>-2.598</td>\n",
       "      <td>5.550</td>\n",
       "      <td>6.630</td>\n",
       "    </tr>\n",
       "    <tr>\n",
       "      <th>1</th>\n",
       "      <td>1999</td>\n",
       "      <td>1</td>\n",
       "      <td>0</td>\n",
       "      <td>1</td>\n",
       "      <td>5.998</td>\n",
       "      <td>85859.0</td>\n",
       "      <td>419.12</td>\n",
       "      <td>-1.245</td>\n",
       "      <td>-0.140</td>\n",
       "      <td>6.558</td>\n",
       "      <td>6.796</td>\n",
       "    </tr>\n",
       "    <tr>\n",
       "      <th>2</th>\n",
       "      <td>1999</td>\n",
       "      <td>1</td>\n",
       "      <td>0</td>\n",
       "      <td>2</td>\n",
       "      <td>6.211</td>\n",
       "      <td>81547.0</td>\n",
       "      <td>411.99</td>\n",
       "      <td>-2.003</td>\n",
       "      <td>-1.198</td>\n",
       "      <td>6.306</td>\n",
       "      <td>6.802</td>\n",
       "    </tr>\n",
       "    <tr>\n",
       "      <th>3</th>\n",
       "      <td>1999</td>\n",
       "      <td>1</td>\n",
       "      <td>0</td>\n",
       "      <td>3</td>\n",
       "      <td>6.680</td>\n",
       "      <td>72308.0</td>\n",
       "      <td>405.25</td>\n",
       "      <td>-3.093</td>\n",
       "      <td>-2.483</td>\n",
       "      <td>5.545</td>\n",
       "      <td>6.854</td>\n",
       "    </tr>\n",
       "    <tr>\n",
       "      <th>4</th>\n",
       "      <td>1999</td>\n",
       "      <td>1</td>\n",
       "      <td>0</td>\n",
       "      <td>4</td>\n",
       "      <td>-9999.900</td>\n",
       "      <td>-9999.9</td>\n",
       "      <td>-9999.90</td>\n",
       "      <td>-3.009</td>\n",
       "      <td>-1.500</td>\n",
       "      <td>5.908</td>\n",
       "      <td>6.842</td>\n",
       "    </tr>\n",
       "  </tbody>\n",
       "</table>\n",
       "</div>"
      ],
      "text/plain": [
       "   year  doy  h  m        Np       Tp       Vp  B_gsm_x  B_gsm_y  B_gsm_z  \\\n",
       "0  1999    1  0  0     7.149  92352.0   406.00   -2.174   -2.598    5.550   \n",
       "1  1999    1  0  1     5.998  85859.0   419.12   -1.245   -0.140    6.558   \n",
       "2  1999    1  0  2     6.211  81547.0   411.99   -2.003   -1.198    6.306   \n",
       "3  1999    1  0  3     6.680  72308.0   405.25   -3.093   -2.483    5.545   \n",
       "4  1999    1  0  4 -9999.900  -9999.9 -9999.90   -3.009   -1.500    5.908   \n",
       "\n",
       "    Bmag  \n",
       "0  6.630  \n",
       "1  6.796  \n",
       "2  6.802  \n",
       "3  6.854  \n",
       "4  6.842  "
      ]
     },
     "execution_count": 8,
     "metadata": {},
     "output_type": "execute_result"
    }
   ],
   "source": [
    "# 붙임1 지자기교란 예측모델 개발용 데이터셋_수정190820/태양풍\n",
    "\n",
    "ace = {}\n",
    "for y in range(1999, 2014):\n",
    "    ace[y] = pd.read_csv(f\"ace_{y}.csv\", skiprows=15, delim_whitespace=True, names=names)\n",
    "\n",
    "ace[1999].head(5)"
   ]
  },
  {
   "cell_type": "markdown",
   "metadata": {},
   "source": [
    "---"
   ]
  },
  {
   "cell_type": "markdown",
   "metadata": {},
   "source": [
    "# 2.데이터 전처리\n",
    "- 3시간 단위로 데이터를 묶어서 label과 row수를 같게 만들자.\n",
    "- 각 수치에 대해서 3시간 동안의 mean, max, min을 만들자."
   ]
  },
  {
   "cell_type": "code",
   "execution_count": 9,
   "metadata": {},
   "outputs": [],
   "source": [
    "from copy import deepcopy\n",
    "ace_origin = deepcopy(ace)\n",
    "target_origin = target.copy()"
   ]
  },
  {
   "cell_type": "markdown",
   "metadata": {},
   "source": [
    "### 함수화"
   ]
  },
  {
   "cell_type": "code",
   "execution_count": 10,
   "metadata": {},
   "outputs": [],
   "source": [
    "def ace_grouper(df, aggfunc=\"mean\"):\n",
    "    \"\"\"태양풍 데이터를 3시간 단위로 묶은 데이터프레임을 반환합니다.\n",
    "    parameters\n",
    "    -----------\n",
    "    - df : 태양풍 데이터 DataFrame.\n",
    "    - aggfunc : 집계함수 (예: mean, max, min 등)\"\"\"\n",
    "    # 3시간 단위 label 만들기\n",
    "    df[\"kp_h\"] = df[\"h\"].map({\n",
    "                        0:\"kp_00h\",    1:\"kp_00h\",    2:\"kp_00h\",\n",
    "                        3:\"kp_03h\",    4:\"kp_03h\",    5:\"kp_03h\",\n",
    "                        6:\"kp_06h\",    7:\"kp_06h\",    8:\"kp_06h\",\n",
    "                        9:\"kp_09h\",    10:\"kp_09h\",    11:\"kp_09h\",\n",
    "                        12:\"kp_12h\",    13:\"kp_12h\",    14:\"kp_12h\",\n",
    "                        15:\"kp_15h\",    16:\"kp_15h\",    17:\"kp_15h\",\n",
    "                        18:\"kp_18h\",    19:\"kp_18h\",    20:\"kp_18h\",\n",
    "                        21:\"kp_21h\",    22:\"kp_21h\",    23:\"kp_21h\",\n",
    "                                  })\n",
    "    \n",
    "    # 집계 만들기\n",
    "#     df_mean = df.groupby([\"doy\", \"kp_h\"]).mean().reset_index()\n",
    "    df_grouper = df.pivot_table(index=[\"doy\", \"kp_h\"], aggfunc=aggfunc).reset_index()\n",
    "\n",
    "    # 시계열 column 생성\n",
    "    df_grouper[\"year\"] = pd.to_datetime(df_grouper[\"year\"], format=\"%Y\")\n",
    "    df_grouper[\"doy\"] = df_grouper[\"doy\"].apply(pd.Timedelta, unit=\"d\")\n",
    "    df_grouper[\"date\"] = df_grouper[\"year\"] + df_grouper[\"doy\"] - pd.Timedelta(1, unit=\"d\")\n",
    "\n",
    "    # 불필요한 column 삭제\n",
    "    df_grouper.drop(columns=[\"doy\", \"year\", \"h\", \"m\"], inplace=True)\n",
    "    \n",
    "    # column 재정렬\n",
    "    df_grouper = df_grouper[[\"date\", \"kp_h\", \"Np\", \"Tp\", \"Vp\", \"B_gsm_x\", \"B_gsm_y\", \"B_gsm_z\", \"Bmag\"]]\n",
    "    df_grouper.sort_values([\"date\", \"kp_h\"], inplace=True)\n",
    "    \n",
    "    # column name mangling\n",
    "    mangling = {_:aggfunc+\"_\"+_ for _ in df_grouper.columns[2:]}\n",
    "    df_grouper.rename(columns=mangling, inplace=True)\n",
    "    \n",
    "    return df_grouper"
   ]
  },
  {
   "cell_type": "code",
   "execution_count": 11,
   "metadata": {},
   "outputs": [],
   "source": [
    "def target_melt(target:pd.DataFrame, year:int) -> pd.DataFrame :\n",
    "    \"\"\"지자기교란 지수 데이터를 column 1개로 만들어준다. \n",
    "    \n",
    "    parameters\n",
    "    -----------\n",
    "    - target: 지자기교란 지수 DataFrame.\n",
    "    - date: 필요한 연도.\n",
    "    \"\"\"\n",
    "    # 연도 잘라내기\n",
    "    target[\"index\"] = target.date\n",
    "    target = target.set_index(\"index\").loc[f\"{year}-01-01\":f\"{year}-12-31\"]\n",
    "    \n",
    "    # kp_h명 바꾸기\n",
    "    cols = {\n",
    "        \"kp_0h\":\"kp_00h\",\n",
    "        \"kp_3h\":\"kp_03h\",\n",
    "        \"kp_6h\":\"kp_06h\",\n",
    "        \"kp_9h\":\"kp_09h\",\n",
    "    }\n",
    "    target.rename(columns=cols, inplace=True)\n",
    "        \n",
    "    # melt\n",
    "    return target.melt(\"date\").sort_values([\"date\", \"variable\"]).reset_index(drop=True)"
   ]
  },
  {
   "cell_type": "code",
   "execution_count": 12,
   "metadata": {},
   "outputs": [],
   "source": [
    "import math"
   ]
  },
  {
   "cell_type": "code",
   "execution_count": 174,
   "metadata": {},
   "outputs": [],
   "source": [
    "def weightedRMSE(model, test):\n",
    "    \"\"\"홈페이지에 공지된 평가기준\"\"\"\n",
    "    ks = test.value.to_numpy()\n",
    "    kps = model.predict(test.iloc[:,:-1])\n",
    "    sum_temp = 0\n",
    "    n = sum(ks)\n",
    "\n",
    "    for k, kp in zip(ks, kps):\n",
    "        temp = ((kp-k)**2) * (k/n)\n",
    "        sum_temp += temp\n",
    "\n",
    "    return math.sqrt(sum_temp)"
   ]
  },
  {
   "cell_type": "markdown",
   "metadata": {},
   "source": [
    "---"
   ]
  },
  {
   "cell_type": "code",
   "execution_count": 14,
   "metadata": {},
   "outputs": [],
   "source": [
    "ace_mean = {k: ace_grouper(v, \"mean\") for k,v in ace.items()}\n",
    "ace_min = {k: ace_grouper(v, \"min\") for k,v in ace.items()}\n",
    "ace_max = {k: ace_grouper(v, \"max\") for k,v in ace.items()}"
   ]
  },
  {
   "cell_type": "code",
   "execution_count": 15,
   "metadata": {},
   "outputs": [],
   "source": [
    "target_melted = {k: target_melt(target, k) for k in range(1999,2014)}"
   ]
  },
  {
   "cell_type": "code",
   "execution_count": 16,
   "metadata": {},
   "outputs": [],
   "source": [
    "total = {k: pd.concat([ace_mean[k], \n",
    "                       ace_min[k], \n",
    "                       ace_max[k], \n",
    "                       target_melted[k]], axis=1)\n",
    "         for k in range(1999,2014)}"
   ]
  },
  {
   "cell_type": "code",
   "execution_count": 17,
   "metadata": {},
   "outputs": [],
   "source": [
    "total_concat = pd.concat(total.values(), axis=0)"
   ]
  },
  {
   "cell_type": "code",
   "execution_count": 18,
   "metadata": {},
   "outputs": [],
   "source": [
    "with open(\"우주2_20190906.pickle\", \"wb\") as fp:\n",
    "    pickle.dump(ace_mean, fp)\n",
    "    pickle.dump(ace_min, fp)\n",
    "    pickle.dump(ace_max, fp)\n",
    "    pickle.dump(total, fp)\n",
    "    pickle.dump(total_concat, fp)"
   ]
  },
  {
   "cell_type": "markdown",
   "metadata": {},
   "source": [
    "---"
   ]
  },
  {
   "cell_type": "code",
   "execution_count": 20,
   "metadata": {},
   "outputs": [],
   "source": [
    "# pickle 데이터 불러오기\n",
    "\n",
    "# with open(\"우주2_20190906.pickle\", \"rb\") as fp:\n",
    "#     ace_mean = pickle.load(fp)\n",
    "#     ace_min = pickle.load(fp)\n",
    "#     ace_max = pickle.load(fp)\n",
    "#     total = pickle.load(fp)\n",
    "#     total_concat = pickle.load(fp)"
   ]
  },
  {
   "cell_type": "code",
   "execution_count": 175,
   "metadata": {},
   "outputs": [],
   "source": [
    "# train test split\n",
    "\n",
    "split = 365 # + 182\n",
    "\n",
    "train = total_concat[:-split].drop(columns=[\"date\", \"kp_h\", \"variable\"])\n",
    "test = total_concat[-split:].drop(columns=[\"date\", \"kp_h\", \"variable\"])"
   ]
  },
  {
   "cell_type": "markdown",
   "metadata": {},
   "source": [
    "# 모델"
   ]
  },
  {
   "cell_type": "code",
   "execution_count": 184,
   "metadata": {},
   "outputs": [],
   "source": [
    "from sklearn.linear_model import LogisticRegression"
   ]
  },
  {
   "cell_type": "code",
   "execution_count": 185,
   "metadata": {},
   "outputs": [],
   "source": [
    "lr_l1 = LogisticRegression(penalty='l1')\n",
    "lr_l2 = LogisticRegression(penalty='l2')"
   ]
  },
  {
   "cell_type": "code",
   "execution_count": 186,
   "metadata": {},
   "outputs": [
    {
     "name": "stderr",
     "output_type": "stream",
     "text": [
      "C:\\Users\\JINHYO\\Anaconda3\\lib\\site-packages\\sklearn\\linear_model\\logistic.py:433: FutureWarning: Default solver will be changed to 'lbfgs' in 0.22. Specify a solver to silence this warning.\n",
      "  FutureWarning)\n",
      "C:\\Users\\JINHYO\\Anaconda3\\lib\\site-packages\\sklearn\\linear_model\\logistic.py:460: FutureWarning: Default multi_class will be changed to 'auto' in 0.22. Specify the multi_class option to silence this warning.\n",
      "  \"this warning.\", FutureWarning)\n",
      "C:\\Users\\JINHYO\\Anaconda3\\lib\\site-packages\\sklearn\\linear_model\\logistic.py:433: FutureWarning: Default solver will be changed to 'lbfgs' in 0.22. Specify a solver to silence this warning.\n",
      "  FutureWarning)\n",
      "C:\\Users\\JINHYO\\Anaconda3\\lib\\site-packages\\sklearn\\linear_model\\logistic.py:460: FutureWarning: Default multi_class will be changed to 'auto' in 0.22. Specify the multi_class option to silence this warning.\n",
      "  \"this warning.\", FutureWarning)\n",
      "C:\\Users\\JINHYO\\Anaconda3\\lib\\site-packages\\sklearn\\svm\\base.py:931: ConvergenceWarning: Liblinear failed to converge, increase the number of iterations.\n",
      "  \"the number of iterations.\", ConvergenceWarning)\n"
     ]
    },
    {
     "data": {
      "text/plain": [
       "LogisticRegression(C=1.0, class_weight=None, dual=False, fit_intercept=True,\n",
       "          intercept_scaling=1, max_iter=100, multi_class='warn',\n",
       "          n_jobs=None, penalty='l2', random_state=None, solver='warn',\n",
       "          tol=0.0001, verbose=0, warm_start=False)"
      ]
     },
     "execution_count": 186,
     "metadata": {},
     "output_type": "execute_result"
    }
   ],
   "source": [
    "lr_l1.fit(train.iloc[:,:-1], train.value)\n",
    "lr_l2.fit(train.iloc[:,:-1], train.value)"
   ]
  },
  {
   "cell_type": "markdown",
   "metadata": {},
   "source": [
    "> LogisticRegression은 L1이 L2보다 나은 것 같다."
   ]
  },
  {
   "cell_type": "code",
   "execution_count": 187,
   "metadata": {},
   "outputs": [
    {
     "data": {
      "text/plain": [
       "0.9133161235100445"
      ]
     },
     "execution_count": 187,
     "metadata": {},
     "output_type": "execute_result"
    }
   ],
   "source": [
    "weightedRMSE(lr_l1, test)"
   ]
  },
  {
   "cell_type": "code",
   "execution_count": 188,
   "metadata": {},
   "outputs": [
    {
     "data": {
      "text/plain": [
       "0.9331300591648913"
      ]
     },
     "execution_count": 188,
     "metadata": {},
     "output_type": "execute_result"
    }
   ],
   "source": [
    "weightedRMSE(lr_l2, test)"
   ]
  },
  {
   "cell_type": "markdown",
   "metadata": {},
   "source": [
    "### 전체 데이터로 학습하고 최종 제출한다."
   ]
  },
  {
   "cell_type": "code",
   "execution_count": 223,
   "metadata": {},
   "outputs": [],
   "source": [
    "lr_l1_total = LogisticRegression(penalty=\"l1\")\n",
    "lr_l2_total = LogisticRegression(penalty=\"l2\")"
   ]
  },
  {
   "cell_type": "code",
   "execution_count": 226,
   "metadata": {},
   "outputs": [
    {
     "name": "stderr",
     "output_type": "stream",
     "text": [
      "C:\\Users\\JINHYO\\Anaconda3\\lib\\site-packages\\sklearn\\linear_model\\logistic.py:433: FutureWarning: Default solver will be changed to 'lbfgs' in 0.22. Specify a solver to silence this warning.\n",
      "  FutureWarning)\n",
      "C:\\Users\\JINHYO\\Anaconda3\\lib\\site-packages\\sklearn\\linear_model\\logistic.py:460: FutureWarning: Default multi_class will be changed to 'auto' in 0.22. Specify the multi_class option to silence this warning.\n",
      "  \"this warning.\", FutureWarning)\n",
      "C:\\Users\\JINHYO\\Anaconda3\\lib\\site-packages\\sklearn\\linear_model\\logistic.py:433: FutureWarning: Default solver will be changed to 'lbfgs' in 0.22. Specify a solver to silence this warning.\n",
      "  FutureWarning)\n",
      "C:\\Users\\JINHYO\\Anaconda3\\lib\\site-packages\\sklearn\\linear_model\\logistic.py:460: FutureWarning: Default multi_class will be changed to 'auto' in 0.22. Specify the multi_class option to silence this warning.\n",
      "  \"this warning.\", FutureWarning)\n",
      "C:\\Users\\JINHYO\\Anaconda3\\lib\\site-packages\\sklearn\\svm\\base.py:931: ConvergenceWarning: Liblinear failed to converge, increase the number of iterations.\n",
      "  \"the number of iterations.\", ConvergenceWarning)\n"
     ]
    },
    {
     "data": {
      "text/plain": [
       "LogisticRegression(C=1.0, class_weight=None, dual=False, fit_intercept=True,\n",
       "          intercept_scaling=1, max_iter=100, multi_class='warn',\n",
       "          n_jobs=None, penalty='l2', random_state=None, solver='warn',\n",
       "          tol=0.0001, verbose=0, warm_start=False)"
      ]
     },
     "execution_count": 226,
     "metadata": {},
     "output_type": "execute_result"
    }
   ],
   "source": [
    "lr_l1_total.fit(total_concat.drop(columns=[\"date\", \"kp_h\", \"variable\"]).iloc[:,:-1], total_concat.value)\n",
    "lr_l2_total.fit(total_concat.drop(columns=[\"date\", \"kp_h\", \"variable\"]).iloc[:,:-1], total_concat.value)"
   ]
  },
  {
   "cell_type": "markdown",
   "metadata": {},
   "source": [
    "> 전체 데이터(1999-2013)로 학습한 후에, 2013년만 예측했더니 L2가 더 잘 나왔다."
   ]
  },
  {
   "cell_type": "code",
   "execution_count": 227,
   "metadata": {},
   "outputs": [
    {
     "data": {
      "text/plain": [
       "0.931822237836611"
      ]
     },
     "execution_count": 227,
     "metadata": {},
     "output_type": "execute_result"
    }
   ],
   "source": [
    "weightedRMSE(lr_l1_total, test)"
   ]
  },
  {
   "cell_type": "code",
   "execution_count": 228,
   "metadata": {},
   "outputs": [
    {
     "data": {
      "text/plain": [
       "0.8709400584229974"
      ]
     },
     "execution_count": 228,
     "metadata": {},
     "output_type": "execute_result"
    }
   ],
   "source": [
    "weightedRMSE(lr_l2_total, test)"
   ]
  },
  {
   "cell_type": "markdown",
   "metadata": {},
   "source": [
    "> 그러나 예측값의 분포를 보면 L1이 전체 Kp 지수 분포와 더 유사하다."
   ]
  },
  {
   "cell_type": "code",
   "execution_count": 270,
   "metadata": {},
   "outputs": [
    {
     "data": {
      "text/plain": [
       "[<matplotlib.lines.Line2D at 0x2318f865198>]"
      ]
     },
     "execution_count": 270,
     "metadata": {},
     "output_type": "execute_result"
    },
    {
     "data": {
      "image/png": "[encoded data removed]",
      "text/plain": [
       "<Figure size 432x288 with 1 Axes>"
      ]
     },
     "metadata": {
      "needs_background": "light"
     },
     "output_type": "display_data"
    }
   ],
   "source": [
    "# 전체 kp 지수의 분포\n",
    "\n",
    "plt.plot(total_concat.value.value_counts().sort_index())"
   ]
  },
  {
   "cell_type": "code",
   "execution_count": 239,
   "metadata": {},
   "outputs": [
    {
     "data": {
      "text/plain": [
       "(array([0, 1, 2, 3, 4], dtype=int64),\n",
       " array([ 47, 154, 138,  25,   1], dtype=int64))"
      ]
     },
     "execution_count": 239,
     "metadata": {},
     "output_type": "execute_result"
    }
   ],
   "source": [
    "np.unique(lr_l1_total.predict(test.iloc[:,:-1]), return_counts=True)"
   ]
  },
  {
   "cell_type": "code",
   "execution_count": 343,
   "metadata": {},
   "outputs": [
    {
     "data": {
      "text/plain": [
       "(array([1, 2, 3, 5], dtype=int64), array([200, 141,  23,   1], dtype=int64))"
      ]
     },
     "execution_count": 343,
     "metadata": {},
     "output_type": "execute_result"
    }
   ],
   "source": [
    "np.unique(lr_l2_total.predict(test.iloc[:,:-1]), return_counts=True)"
   ]
  },
  {
   "cell_type": "markdown",
   "metadata": {},
   "source": [
    "> 분포도는 problem 데이터에서도 동일한 양상을 보인다."
   ]
  },
  {
   "cell_type": "code",
   "execution_count": 246,
   "metadata": {},
   "outputs": [],
   "source": [
    "# problem 데이터 전처리작업\n",
    "\n",
    "problem_pre = problem.copy()\n",
    "problem_pre[\"year\"] = 2019\n",
    "problem_pre = pd.concat([ace_grouper(problem_pre, \"mean\"), \n",
    "                         ace_grouper(problem_pre, \"min\"), \n",
    "                         ace_grouper(problem_pre, \"max\")], axis=1)\n",
    "problem_pre.drop(columns=[\"date\", \"kp_h\"], inplace=True)"
   ]
  },
  {
   "cell_type": "code",
   "execution_count": 335,
   "metadata": {},
   "outputs": [
    {
     "data": {
      "text/plain": [
       "(array([0, 1, 2, 3, 4], dtype=int64),\n",
       " array([  19, 1175, 1281,  418,   27], dtype=int64))"
      ]
     },
     "execution_count": 335,
     "metadata": {},
     "output_type": "execute_result"
    }
   ],
   "source": [
    "# l1의 분포도 확인\n",
    "result = lr_l1_total.predict(problem_pre)\n",
    "np.unique(result, return_counts=True)"
   ]
  },
  {
   "cell_type": "code",
   "execution_count": 344,
   "metadata": {},
   "outputs": [
    {
     "data": {
      "text/plain": [
       "(array([1, 2, 3, 4, 5], dtype=int64),\n",
       " array([1201, 1303,  407,    4,    5], dtype=int64))"
      ]
     },
     "execution_count": 344,
     "metadata": {},
     "output_type": "execute_result"
    }
   ],
   "source": [
    "#l2의 분포도 확인\n",
    "\n",
    "result = lr_l2_total.predict(problem_pre)\n",
    "np.unique(result, return_counts=True)"
   ]
  },
  {
   "cell_type": "markdown",
   "metadata": {},
   "source": [
    "> LogisticRegression에서는 l1이나 l2 모두 kp 지수 6이상을 예측한 경우는 없었다.\n",
    "\n",
    "> 전체 kp 지수의 분포와 더 유사한 형태를 띠는 것은 l1이므로, l1을 최종 모델로 선택했다."
   ]
  },
  {
   "cell_type": "code",
   "execution_count": 340,
   "metadata": {},
   "outputs": [
    {
     "data": {
      "text/html": [
       "<div>\n",
       "<style scoped>\n",
       "    .dataframe tbody tr th:only-of-type {\n",
       "        vertical-align: middle;\n",
       "    }\n",
       "\n",
       "    .dataframe tbody tr th {\n",
       "        vertical-align: top;\n",
       "    }\n",
       "\n",
       "    .dataframe thead th {\n",
       "        text-align: right;\n",
       "    }\n",
       "</style>\n",
       "<table border=\"1\" class=\"dataframe\">\n",
       "  <thead>\n",
       "    <tr style=\"text-align: right;\">\n",
       "      <th></th>\n",
       "      <th>kp_0h</th>\n",
       "      <th>kp_3h</th>\n",
       "      <th>kp_6h</th>\n",
       "      <th>kp_9h</th>\n",
       "      <th>kp_12h</th>\n",
       "      <th>kp_15h</th>\n",
       "      <th>kp_18h</th>\n",
       "      <th>kp_21h</th>\n",
       "    </tr>\n",
       "  </thead>\n",
       "  <tbody>\n",
       "    <tr>\n",
       "      <th>1</th>\n",
       "      <td>4</td>\n",
       "      <td>3</td>\n",
       "      <td>2</td>\n",
       "      <td>2</td>\n",
       "      <td>1</td>\n",
       "      <td>2</td>\n",
       "      <td>2</td>\n",
       "      <td>2</td>\n",
       "    </tr>\n",
       "    <tr>\n",
       "      <th>2</th>\n",
       "      <td>2</td>\n",
       "      <td>2</td>\n",
       "      <td>2</td>\n",
       "      <td>2</td>\n",
       "      <td>2</td>\n",
       "      <td>1</td>\n",
       "      <td>1</td>\n",
       "      <td>1</td>\n",
       "    </tr>\n",
       "    <tr>\n",
       "      <th>3</th>\n",
       "      <td>1</td>\n",
       "      <td>1</td>\n",
       "      <td>2</td>\n",
       "      <td>2</td>\n",
       "      <td>2</td>\n",
       "      <td>2</td>\n",
       "      <td>2</td>\n",
       "      <td>1</td>\n",
       "    </tr>\n",
       "    <tr>\n",
       "      <th>4</th>\n",
       "      <td>1</td>\n",
       "      <td>2</td>\n",
       "      <td>1</td>\n",
       "      <td>1</td>\n",
       "      <td>2</td>\n",
       "      <td>2</td>\n",
       "      <td>2</td>\n",
       "      <td>2</td>\n",
       "    </tr>\n",
       "    <tr>\n",
       "      <th>5</th>\n",
       "      <td>1</td>\n",
       "      <td>1</td>\n",
       "      <td>2</td>\n",
       "      <td>2</td>\n",
       "      <td>2</td>\n",
       "      <td>2</td>\n",
       "      <td>3</td>\n",
       "      <td>3</td>\n",
       "    </tr>\n",
       "  </tbody>\n",
       "</table>\n",
       "</div>"
      ],
      "text/plain": [
       "   kp_0h  kp_3h  kp_6h  kp_9h  kp_12h  kp_15h  kp_18h  kp_21h\n",
       "1      4      3      2      2       1       2       2       2\n",
       "2      2      2      2      2       2       1       1       1\n",
       "3      1      1      2      2       2       2       2       1\n",
       "4      1      2      1      1       2       2       2       2\n",
       "5      1      1      2      2       2       2       3       3"
      ]
     },
     "execution_count": 340,
     "metadata": {},
     "output_type": "execute_result"
    }
   ],
   "source": [
    "# csv화\n",
    "\n",
    "result = result.reshape((-1, 8))\n",
    "result = pd.DataFrame(result, columns=target.columns[1:-1], index=range(1, len(result)+1))\n",
    "result.head()"
   ]
  },
  {
   "cell_type": "code",
   "execution_count": 341,
   "metadata": {},
   "outputs": [
    {
     "data": {
      "text/html": [
       "<div>\n",
       "<style scoped>\n",
       "    .dataframe tbody tr th:only-of-type {\n",
       "        vertical-align: middle;\n",
       "    }\n",
       "\n",
       "    .dataframe tbody tr th {\n",
       "        vertical-align: top;\n",
       "    }\n",
       "\n",
       "    .dataframe thead th {\n",
       "        text-align: right;\n",
       "    }\n",
       "</style>\n",
       "<table border=\"1\" class=\"dataframe\">\n",
       "  <thead>\n",
       "    <tr style=\"text-align: right;\">\n",
       "      <th></th>\n",
       "      <th>kp_0h</th>\n",
       "      <th>kp_3h</th>\n",
       "      <th>kp_6h</th>\n",
       "      <th>kp_9h</th>\n",
       "      <th>kp_12h</th>\n",
       "      <th>kp_15h</th>\n",
       "      <th>kp_18h</th>\n",
       "      <th>kp_21h</th>\n",
       "    </tr>\n",
       "  </thead>\n",
       "  <tbody>\n",
       "    <tr>\n",
       "      <th>361</th>\n",
       "      <td>3</td>\n",
       "      <td>3</td>\n",
       "      <td>2</td>\n",
       "      <td>2</td>\n",
       "      <td>3</td>\n",
       "      <td>2</td>\n",
       "      <td>2</td>\n",
       "      <td>3</td>\n",
       "    </tr>\n",
       "    <tr>\n",
       "      <th>362</th>\n",
       "      <td>2</td>\n",
       "      <td>2</td>\n",
       "      <td>2</td>\n",
       "      <td>2</td>\n",
       "      <td>2</td>\n",
       "      <td>2</td>\n",
       "      <td>2</td>\n",
       "      <td>2</td>\n",
       "    </tr>\n",
       "    <tr>\n",
       "      <th>363</th>\n",
       "      <td>2</td>\n",
       "      <td>2</td>\n",
       "      <td>2</td>\n",
       "      <td>2</td>\n",
       "      <td>2</td>\n",
       "      <td>1</td>\n",
       "      <td>1</td>\n",
       "      <td>1</td>\n",
       "    </tr>\n",
       "    <tr>\n",
       "      <th>364</th>\n",
       "      <td>1</td>\n",
       "      <td>1</td>\n",
       "      <td>1</td>\n",
       "      <td>1</td>\n",
       "      <td>1</td>\n",
       "      <td>1</td>\n",
       "      <td>1</td>\n",
       "      <td>1</td>\n",
       "    </tr>\n",
       "    <tr>\n",
       "      <th>365</th>\n",
       "      <td>1</td>\n",
       "      <td>1</td>\n",
       "      <td>1</td>\n",
       "      <td>1</td>\n",
       "      <td>1</td>\n",
       "      <td>1</td>\n",
       "      <td>1</td>\n",
       "      <td>1</td>\n",
       "    </tr>\n",
       "  </tbody>\n",
       "</table>\n",
       "</div>"
      ],
      "text/plain": [
       "     kp_0h  kp_3h  kp_6h  kp_9h  kp_12h  kp_15h  kp_18h  kp_21h\n",
       "361      3      3      2      2       3       2       2       3\n",
       "362      2      2      2      2       2       2       2       2\n",
       "363      2      2      2      2       2       1       1       1\n",
       "364      1      1      1      1       1       1       1       1\n",
       "365      1      1      1      1       1       1       1       1"
      ]
     },
     "execution_count": 341,
     "metadata": {},
     "output_type": "execute_result"
    }
   ],
   "source": [
    "result.tail()"
   ]
  },
  {
   "cell_type": "code",
   "execution_count": 342,
   "metadata": {},
   "outputs": [],
   "source": [
    "result.to_csv(\"result.csv\")"
   ]
  },
  {
   "cell_type": "markdown",
   "metadata": {},
   "source": [
    "---"
   ]
  },
  {
   "cell_type": "markdown",
   "metadata": {},
   "source": [
    "## knn"
   ]
  },
  {
   "cell_type": "code",
   "execution_count": 189,
   "metadata": {},
   "outputs": [],
   "source": [
    "from sklearn.neighbors import KNeighborsClassifier"
   ]
  },
  {
   "cell_type": "code",
   "execution_count": 216,
   "metadata": {},
   "outputs": [],
   "source": [
    "knn5 = KNeighborsClassifier(n_neighbors=5)\n",
    "knn300 = KNeighborsClassifier(n_neighbors=300)"
   ]
  },
  {
   "cell_type": "code",
   "execution_count": 217,
   "metadata": {},
   "outputs": [
    {
     "data": {
      "text/plain": [
       "KNeighborsClassifier(algorithm='auto', leaf_size=30, metric='minkowski',\n",
       "           metric_params=None, n_jobs=None, n_neighbors=300, p=2,\n",
       "           weights='uniform')"
      ]
     },
     "execution_count": 217,
     "metadata": {},
     "output_type": "execute_result"
    }
   ],
   "source": [
    "knn5.fit(train.iloc[:,:-1], train.value)\n",
    "knn300.fit(train.iloc[:,:-1], train.value)"
   ]
  },
  {
   "cell_type": "code",
   "execution_count": 218,
   "metadata": {},
   "outputs": [
    {
     "data": {
      "text/plain": [
       "1.2513407443764413"
      ]
     },
     "execution_count": 218,
     "metadata": {},
     "output_type": "execute_result"
    }
   ],
   "source": [
    "weightedRMSE(knn5, test)"
   ]
  },
  {
   "cell_type": "code",
   "execution_count": 219,
   "metadata": {},
   "outputs": [
    {
     "data": {
      "text/plain": [
       "1.0024360572028963"
      ]
     },
     "execution_count": 219,
     "metadata": {},
     "output_type": "execute_result"
    }
   ],
   "source": [
    "weightedRMSE(knn300, test)"
   ]
  },
  {
   "cell_type": "markdown",
   "metadata": {},
   "source": [
    "---"
   ]
  },
  {
   "cell_type": "markdown",
   "metadata": {},
   "source": [
    "> 그램에서 svm이 안돌아간다...."
   ]
  },
  {
   "cell_type": "code",
   "execution_count": 169,
   "metadata": {},
   "outputs": [],
   "source": [
    "from sklearn.svm import SVC"
   ]
  },
  {
   "cell_type": "code",
   "execution_count": null,
   "metadata": {},
   "outputs": [],
   "source": [
    "svc = SVC()"
   ]
  },
  {
   "cell_type": "code",
   "execution_count": null,
   "metadata": {},
   "outputs": [],
   "source": [
    "svc.fit(train.iloc[:,:-1], train.value)"
   ]
  },
  {
   "cell_type": "code",
   "execution_count": null,
   "metadata": {},
   "outputs": [],
   "source": [
    "weightedRMSE(svc, test)"
   ]
  },
  {
   "cell_type": "code",
   "execution_count": null,
   "metadata": {},
   "outputs": [],
   "source": []
  }
 ],
 "metadata": {
  "kernelspec": {
   "display_name": "Python 3",
   "language": "python",
   "name": "python3"
  },
  "language_info": {
   "codemirror_mode": {
    "name": "ipython",
    "version": 3
   },
   "file_extension": ".py",
   "mimetype": "text/x-python",
   "name": "python",
   "nbconvert_exporter": "python",
   "pygments_lexer": "ipython3",
   "version": "3.7.3"
  }
 },
 "nbformat": 4,
 "nbformat_minor": 2
}
