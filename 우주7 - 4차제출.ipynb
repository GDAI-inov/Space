{
 "cells": [
  {
   "cell_type": "markdown",
   "metadata": {},
   "source": [
    "# 목표\n",
    "- 태양풍 데이터를 3시간씩 mean, min, max 값을 내서 target과 concat함\n",
    "- x,y,z, total만 사용"
   ]
  },
  {
   "cell_type": "code",
   "execution_count": 1,
   "metadata": {},
   "outputs": [],
   "source": [
    "import pandas as pd\n",
    "import numpy as np\n",
    "import matplotlib.pyplot as plt\n",
    "import seaborn as sns\n",
    "import missingno as mino\n",
    "import sklearn\n",
    "import pickle"
   ]
  },
  {
   "cell_type": "code",
   "execution_count": 2,
   "metadata": {},
   "outputs": [],
   "source": [
    "%load_ext watermark"
   ]
  },
  {
   "cell_type": "code",
   "execution_count": 3,
   "metadata": {},
   "outputs": [
    {
     "name": "stdout",
     "output_type": "stream",
     "text": [
      "jinhyo \n",
      "last updated: 2019-09-10 \n",
      "\n",
      "CPython 3.7.3\n",
      "IPython 7.4.0\n",
      "\n",
      "numpy 1.16.2\n",
      "pandas 0.24.2\n",
      "matplotlib 3.0.3\n",
      "seaborn 0.9.0\n",
      "missingno 0.4.2\n",
      "sklearn 0.20.3\n"
     ]
    }
   ],
   "source": [
    "%watermark -ajinhyo -u -d -v -pnumpy,pandas,matplotlib,seaborn,missingno,sklearn"
   ]
  },
  {
   "cell_type": "markdown",
   "metadata": {},
   "source": [
    "---"
   ]
  },
  {
   "cell_type": "markdown",
   "metadata": {},
   "source": [
    "# 데이터 불러오기"
   ]
  },
  {
   "cell_type": "code",
   "execution_count": 64,
   "metadata": {},
   "outputs": [
    {
     "data": {
      "text/html": [
       "<div>\n",
       "<style scoped>\n",
       "    .dataframe tbody tr th:only-of-type {\n",
       "        vertical-align: middle;\n",
       "    }\n",
       "\n",
       "    .dataframe tbody tr th {\n",
       "        vertical-align: top;\n",
       "    }\n",
       "\n",
       "    .dataframe thead th {\n",
       "        text-align: right;\n",
       "    }\n",
       "</style>\n",
       "<table border=\"1\" class=\"dataframe\">\n",
       "  <thead>\n",
       "    <tr style=\"text-align: right;\">\n",
       "      <th></th>\n",
       "      <th>date</th>\n",
       "      <th>kp_0h</th>\n",
       "      <th>kp_3h</th>\n",
       "      <th>kp_6h</th>\n",
       "      <th>kp_9h</th>\n",
       "      <th>kp_12h</th>\n",
       "      <th>kp_15h</th>\n",
       "      <th>kp_18h</th>\n",
       "      <th>kp_21h</th>\n",
       "    </tr>\n",
       "  </thead>\n",
       "  <tbody>\n",
       "    <tr>\n",
       "      <th>0</th>\n",
       "      <td>1999-01-01</td>\n",
       "      <td>0</td>\n",
       "      <td>2</td>\n",
       "      <td>1</td>\n",
       "      <td>2</td>\n",
       "      <td>2</td>\n",
       "      <td>1</td>\n",
       "      <td>1</td>\n",
       "      <td>1</td>\n",
       "    </tr>\n",
       "    <tr>\n",
       "      <th>1</th>\n",
       "      <td>1999-01-02</td>\n",
       "      <td>1</td>\n",
       "      <td>2</td>\n",
       "      <td>2</td>\n",
       "      <td>3</td>\n",
       "      <td>3</td>\n",
       "      <td>2</td>\n",
       "      <td>2</td>\n",
       "      <td>1</td>\n",
       "    </tr>\n",
       "    <tr>\n",
       "      <th>2</th>\n",
       "      <td>1999-01-03</td>\n",
       "      <td>2</td>\n",
       "      <td>2</td>\n",
       "      <td>0</td>\n",
       "      <td>0</td>\n",
       "      <td>1</td>\n",
       "      <td>1</td>\n",
       "      <td>1</td>\n",
       "      <td>1</td>\n",
       "    </tr>\n",
       "    <tr>\n",
       "      <th>3</th>\n",
       "      <td>1999-01-04</td>\n",
       "      <td>1</td>\n",
       "      <td>2</td>\n",
       "      <td>3</td>\n",
       "      <td>2</td>\n",
       "      <td>3</td>\n",
       "      <td>2</td>\n",
       "      <td>1</td>\n",
       "      <td>2</td>\n",
       "    </tr>\n",
       "    <tr>\n",
       "      <th>4</th>\n",
       "      <td>1999-01-05</td>\n",
       "      <td>3</td>\n",
       "      <td>3</td>\n",
       "      <td>2</td>\n",
       "      <td>3</td>\n",
       "      <td>1</td>\n",
       "      <td>1</td>\n",
       "      <td>2</td>\n",
       "      <td>1</td>\n",
       "    </tr>\n",
       "  </tbody>\n",
       "</table>\n",
       "</div>"
      ],
      "text/plain": [
       "         date  kp_0h  kp_3h  kp_6h  kp_9h  kp_12h  kp_15h  kp_18h  kp_21h\n",
       "0  1999-01-01      0      2      1      2       2       1       1       1\n",
       "1  1999-01-02      1      2      2      3       3       2       2       1\n",
       "2  1999-01-03      2      2      0      0       1       1       1       1\n",
       "3  1999-01-04      1      2      3      2       3       2       1       2\n",
       "4  1999-01-05      3      3      2      3       1       1       2       1"
      ]
     },
     "execution_count": 64,
     "metadata": {},
     "output_type": "execute_result"
    }
   ],
   "source": [
    "# 붙임1 지자기교란 예측모델 개발용 데이터셋_수정190820/지자기교란 지수\n",
    "\n",
    "target = pd.read_csv(\"kp_1999-2013.csv\")\n",
    "target.head()"
   ]
  },
  {
   "cell_type": "code",
   "execution_count": 5,
   "metadata": {},
   "outputs": [
    {
     "data": {
      "text/html": [
       "<div>\n",
       "<style scoped>\n",
       "    .dataframe tbody tr th:only-of-type {\n",
       "        vertical-align: middle;\n",
       "    }\n",
       "\n",
       "    .dataframe tbody tr th {\n",
       "        vertical-align: top;\n",
       "    }\n",
       "\n",
       "    .dataframe thead th {\n",
       "        text-align: right;\n",
       "    }\n",
       "</style>\n",
       "<table border=\"1\" class=\"dataframe\">\n",
       "  <thead>\n",
       "    <tr style=\"text-align: right;\">\n",
       "      <th></th>\n",
       "      <th>doy</th>\n",
       "      <th>h</th>\n",
       "      <th>m</th>\n",
       "      <th>Np</th>\n",
       "      <th>Tp</th>\n",
       "      <th>Vp</th>\n",
       "      <th>B_gsm_x</th>\n",
       "      <th>B_gsm_y</th>\n",
       "      <th>B_gsm_z</th>\n",
       "      <th>Bmag</th>\n",
       "    </tr>\n",
       "  </thead>\n",
       "  <tbody>\n",
       "    <tr>\n",
       "      <th>0</th>\n",
       "      <td>1</td>\n",
       "      <td>0</td>\n",
       "      <td>0</td>\n",
       "      <td>1.852</td>\n",
       "      <td>41618.0</td>\n",
       "      <td>455.61</td>\n",
       "      <td>6.098</td>\n",
       "      <td>2.449</td>\n",
       "      <td>-13.415</td>\n",
       "      <td>14.952</td>\n",
       "    </tr>\n",
       "    <tr>\n",
       "      <th>1</th>\n",
       "      <td>1</td>\n",
       "      <td>0</td>\n",
       "      <td>1</td>\n",
       "      <td>2.181</td>\n",
       "      <td>33781.0</td>\n",
       "      <td>461.07</td>\n",
       "      <td>6.700</td>\n",
       "      <td>1.502</td>\n",
       "      <td>-13.232</td>\n",
       "      <td>14.912</td>\n",
       "    </tr>\n",
       "    <tr>\n",
       "      <th>2</th>\n",
       "      <td>1</td>\n",
       "      <td>0</td>\n",
       "      <td>2</td>\n",
       "      <td>2.415</td>\n",
       "      <td>34709.0</td>\n",
       "      <td>464.84</td>\n",
       "      <td>7.390</td>\n",
       "      <td>0.523</td>\n",
       "      <td>-12.941</td>\n",
       "      <td>14.928</td>\n",
       "    </tr>\n",
       "    <tr>\n",
       "      <th>3</th>\n",
       "      <td>1</td>\n",
       "      <td>0</td>\n",
       "      <td>3</td>\n",
       "      <td>2.359</td>\n",
       "      <td>34183.0</td>\n",
       "      <td>470.76</td>\n",
       "      <td>8.011</td>\n",
       "      <td>-0.098</td>\n",
       "      <td>-12.694</td>\n",
       "      <td>15.013</td>\n",
       "    </tr>\n",
       "    <tr>\n",
       "      <th>4</th>\n",
       "      <td>1</td>\n",
       "      <td>0</td>\n",
       "      <td>4</td>\n",
       "      <td>1.237</td>\n",
       "      <td>32467.0</td>\n",
       "      <td>469.51</td>\n",
       "      <td>7.493</td>\n",
       "      <td>0.410</td>\n",
       "      <td>-13.058</td>\n",
       "      <td>15.064</td>\n",
       "    </tr>\n",
       "  </tbody>\n",
       "</table>\n",
       "</div>"
      ],
      "text/plain": [
       "   doy  h  m     Np       Tp      Vp  B_gsm_x  B_gsm_y  B_gsm_z    Bmag\n",
       "0    1  0  0  1.852  41618.0  455.61    6.098    2.449  -13.415  14.952\n",
       "1    1  0  1  2.181  33781.0  461.07    6.700    1.502  -13.232  14.912\n",
       "2    1  0  2  2.415  34709.0  464.84    7.390    0.523  -12.941  14.928\n",
       "3    1  0  3  2.359  34183.0  470.76    8.011   -0.098  -12.694  15.013\n",
       "4    1  0  4  1.237  32467.0  469.51    7.493    0.410  -13.058  15.064"
      ]
     },
     "execution_count": 5,
     "metadata": {},
     "output_type": "execute_result"
    }
   ],
   "source": [
    "# 붙임2 AI 경진대회 문제(태양풍 데이터)\n",
    "\n",
    "problem = pd.read_csv(\"problem.csv\")\n",
    "problem.head()"
   ]
  },
  {
   "cell_type": "code",
   "execution_count": 6,
   "metadata": {},
   "outputs": [
    {
     "data": {
      "text/html": [
       "<div>\n",
       "<style scoped>\n",
       "    .dataframe tbody tr th:only-of-type {\n",
       "        vertical-align: middle;\n",
       "    }\n",
       "\n",
       "    .dataframe tbody tr th {\n",
       "        vertical-align: top;\n",
       "    }\n",
       "\n",
       "    .dataframe thead th {\n",
       "        text-align: right;\n",
       "    }\n",
       "</style>\n",
       "<table border=\"1\" class=\"dataframe\">\n",
       "  <thead>\n",
       "    <tr style=\"text-align: right;\">\n",
       "      <th></th>\n",
       "      <th>doy</th>\n",
       "      <th>h</th>\n",
       "      <th>m</th>\n",
       "      <th>Np</th>\n",
       "      <th>Tp</th>\n",
       "      <th>Vp</th>\n",
       "      <th>B_gsm_x</th>\n",
       "      <th>B_gsm_y</th>\n",
       "      <th>B_gsm_z</th>\n",
       "      <th>Bmag</th>\n",
       "    </tr>\n",
       "  </thead>\n",
       "  <tbody>\n",
       "    <tr>\n",
       "      <th>0</th>\n",
       "      <td>180</td>\n",
       "      <td>0</td>\n",
       "      <td>1</td>\n",
       "      <td>2.416</td>\n",
       "      <td>65701.0</td>\n",
       "      <td>402.18</td>\n",
       "      <td>-4.212</td>\n",
       "      <td>-3.982</td>\n",
       "      <td>2.445</td>\n",
       "      <td>6.298</td>\n",
       "    </tr>\n",
       "    <tr>\n",
       "      <th>1</th>\n",
       "      <td>180</td>\n",
       "      <td>0</td>\n",
       "      <td>2</td>\n",
       "      <td>2.493</td>\n",
       "      <td>68240.0</td>\n",
       "      <td>399.89</td>\n",
       "      <td>-4.566</td>\n",
       "      <td>-3.473</td>\n",
       "      <td>2.766</td>\n",
       "      <td>6.430</td>\n",
       "    </tr>\n",
       "    <tr>\n",
       "      <th>2</th>\n",
       "      <td>180</td>\n",
       "      <td>0</td>\n",
       "      <td>3</td>\n",
       "      <td>2.582</td>\n",
       "      <td>85224.0</td>\n",
       "      <td>389.17</td>\n",
       "      <td>-5.456</td>\n",
       "      <td>-2.370</td>\n",
       "      <td>2.837</td>\n",
       "      <td>6.596</td>\n",
       "    </tr>\n",
       "    <tr>\n",
       "      <th>3</th>\n",
       "      <td>180</td>\n",
       "      <td>0</td>\n",
       "      <td>4</td>\n",
       "      <td>2.686</td>\n",
       "      <td>90925.0</td>\n",
       "      <td>390.59</td>\n",
       "      <td>-5.550</td>\n",
       "      <td>-1.988</td>\n",
       "      <td>2.768</td>\n",
       "      <td>6.519</td>\n",
       "    </tr>\n",
       "    <tr>\n",
       "      <th>4</th>\n",
       "      <td>180</td>\n",
       "      <td>0</td>\n",
       "      <td>5</td>\n",
       "      <td>2.676</td>\n",
       "      <td>79821.0</td>\n",
       "      <td>392.44</td>\n",
       "      <td>-4.922</td>\n",
       "      <td>-3.073</td>\n",
       "      <td>2.679</td>\n",
       "      <td>6.416</td>\n",
       "    </tr>\n",
       "  </tbody>\n",
       "</table>\n",
       "</div>"
      ],
      "text/plain": [
       "   doy  h  m     Np       Tp      Vp  B_gsm_x  B_gsm_y  B_gsm_z   Bmag\n",
       "0  180  0  1  2.416  65701.0  402.18   -4.212   -3.982    2.445  6.298\n",
       "1  180  0  2  2.493  68240.0  399.89   -4.566   -3.473    2.766  6.430\n",
       "2  180  0  3  2.582  85224.0  389.17   -5.456   -2.370    2.837  6.596\n",
       "3  180  0  4  2.686  90925.0  390.59   -5.550   -1.988    2.768  6.519\n",
       "4  180  0  5  2.676  79821.0  392.44   -4.922   -3.073    2.679  6.416"
      ]
     },
     "execution_count": 6,
     "metadata": {},
     "output_type": "execute_result"
    }
   ],
   "source": [
    "# 붙임5 추가 태양풍 데이터(과제문제의 전년도 6개월)\n",
    "\n",
    "additional = pd.read_csv(\"additional.csv\", skiprows=14, delim_whitespace=True, names=problem.columns)\n",
    "additional.head()"
   ]
  },
  {
   "cell_type": "code",
   "execution_count": 7,
   "metadata": {},
   "outputs": [
    {
     "data": {
      "text/plain": [
       "['year',\n",
       " 'doy',\n",
       " 'h',\n",
       " 'm',\n",
       " 'Np',\n",
       " 'Tp',\n",
       " 'Vp',\n",
       " 'B_gsm_x',\n",
       " 'B_gsm_y',\n",
       " 'B_gsm_z',\n",
       " 'Bmag']"
      ]
     },
     "execution_count": 7,
     "metadata": {},
     "output_type": "execute_result"
    }
   ],
   "source": [
    "# 붙임5의 columns를 카피함.\n",
    "\n",
    "names = [\"year\"]\n",
    "names.extend(problem.columns)\n",
    "names"
   ]
  },
  {
   "cell_type": "code",
   "execution_count": 8,
   "metadata": {},
   "outputs": [
    {
     "data": {
      "text/html": [
       "<div>\n",
       "<style scoped>\n",
       "    .dataframe tbody tr th:only-of-type {\n",
       "        vertical-align: middle;\n",
       "    }\n",
       "\n",
       "    .dataframe tbody tr th {\n",
       "        vertical-align: top;\n",
       "    }\n",
       "\n",
       "    .dataframe thead th {\n",
       "        text-align: right;\n",
       "    }\n",
       "</style>\n",
       "<table border=\"1\" class=\"dataframe\">\n",
       "  <thead>\n",
       "    <tr style=\"text-align: right;\">\n",
       "      <th></th>\n",
       "      <th>year</th>\n",
       "      <th>doy</th>\n",
       "      <th>h</th>\n",
       "      <th>m</th>\n",
       "      <th>Np</th>\n",
       "      <th>Tp</th>\n",
       "      <th>Vp</th>\n",
       "      <th>B_gsm_x</th>\n",
       "      <th>B_gsm_y</th>\n",
       "      <th>B_gsm_z</th>\n",
       "      <th>Bmag</th>\n",
       "    </tr>\n",
       "  </thead>\n",
       "  <tbody>\n",
       "    <tr>\n",
       "      <th>0</th>\n",
       "      <td>1999</td>\n",
       "      <td>1</td>\n",
       "      <td>0</td>\n",
       "      <td>0</td>\n",
       "      <td>7.149</td>\n",
       "      <td>92352.0</td>\n",
       "      <td>406.00</td>\n",
       "      <td>-2.174</td>\n",
       "      <td>-2.598</td>\n",
       "      <td>5.550</td>\n",
       "      <td>6.630</td>\n",
       "    </tr>\n",
       "    <tr>\n",
       "      <th>1</th>\n",
       "      <td>1999</td>\n",
       "      <td>1</td>\n",
       "      <td>0</td>\n",
       "      <td>1</td>\n",
       "      <td>5.998</td>\n",
       "      <td>85859.0</td>\n",
       "      <td>419.12</td>\n",
       "      <td>-1.245</td>\n",
       "      <td>-0.140</td>\n",
       "      <td>6.558</td>\n",
       "      <td>6.796</td>\n",
       "    </tr>\n",
       "    <tr>\n",
       "      <th>2</th>\n",
       "      <td>1999</td>\n",
       "      <td>1</td>\n",
       "      <td>0</td>\n",
       "      <td>2</td>\n",
       "      <td>6.211</td>\n",
       "      <td>81547.0</td>\n",
       "      <td>411.99</td>\n",
       "      <td>-2.003</td>\n",
       "      <td>-1.198</td>\n",
       "      <td>6.306</td>\n",
       "      <td>6.802</td>\n",
       "    </tr>\n",
       "    <tr>\n",
       "      <th>3</th>\n",
       "      <td>1999</td>\n",
       "      <td>1</td>\n",
       "      <td>0</td>\n",
       "      <td>3</td>\n",
       "      <td>6.680</td>\n",
       "      <td>72308.0</td>\n",
       "      <td>405.25</td>\n",
       "      <td>-3.093</td>\n",
       "      <td>-2.483</td>\n",
       "      <td>5.545</td>\n",
       "      <td>6.854</td>\n",
       "    </tr>\n",
       "    <tr>\n",
       "      <th>4</th>\n",
       "      <td>1999</td>\n",
       "      <td>1</td>\n",
       "      <td>0</td>\n",
       "      <td>4</td>\n",
       "      <td>-9999.900</td>\n",
       "      <td>-9999.9</td>\n",
       "      <td>-9999.90</td>\n",
       "      <td>-3.009</td>\n",
       "      <td>-1.500</td>\n",
       "      <td>5.908</td>\n",
       "      <td>6.842</td>\n",
       "    </tr>\n",
       "  </tbody>\n",
       "</table>\n",
       "</div>"
      ],
      "text/plain": [
       "   year  doy  h  m        Np       Tp       Vp  B_gsm_x  B_gsm_y  B_gsm_z  \\\n",
       "0  1999    1  0  0     7.149  92352.0   406.00   -2.174   -2.598    5.550   \n",
       "1  1999    1  0  1     5.998  85859.0   419.12   -1.245   -0.140    6.558   \n",
       "2  1999    1  0  2     6.211  81547.0   411.99   -2.003   -1.198    6.306   \n",
       "3  1999    1  0  3     6.680  72308.0   405.25   -3.093   -2.483    5.545   \n",
       "4  1999    1  0  4 -9999.900  -9999.9 -9999.90   -3.009   -1.500    5.908   \n",
       "\n",
       "    Bmag  \n",
       "0  6.630  \n",
       "1  6.796  \n",
       "2  6.802  \n",
       "3  6.854  \n",
       "4  6.842  "
      ]
     },
     "execution_count": 8,
     "metadata": {},
     "output_type": "execute_result"
    }
   ],
   "source": [
    "# 붙임1 지자기교란 예측모델 개발용 데이터셋_수정190820/태양풍\n",
    "\n",
    "ace = {}\n",
    "for y in range(1999, 2014):\n",
    "    ace[y] = pd.read_csv(f\"ace_{y}.csv\", skiprows=15, delim_whitespace=True, names=names)\n",
    "\n",
    "ace[1999].head(5)"
   ]
  },
  {
   "cell_type": "markdown",
   "metadata": {},
   "source": [
    "---"
   ]
  },
  {
   "cell_type": "markdown",
   "metadata": {},
   "source": [
    "# ace에 target을 분단위로 concat"
   ]
  },
  {
   "cell_type": "markdown",
   "metadata": {},
   "source": [
    "> ace 전처리"
   ]
  },
  {
   "cell_type": "code",
   "execution_count": 9,
   "metadata": {},
   "outputs": [],
   "source": [
    "total_train = pd.concat(ace.values(), axis=0)"
   ]
  },
  {
   "cell_type": "code",
   "execution_count": 10,
   "metadata": {},
   "outputs": [],
   "source": [
    "total_train[\"date\"] = pd.to_datetime(total_train[\"year\"], format='%Y') + \\\n",
    "                    total_train.doy.apply(pd.Timedelta, unit=\"d\") - \\\n",
    "                    pd.Timedelta(1, unit=\"d\")"
   ]
  },
  {
   "cell_type": "code",
   "execution_count": 11,
   "metadata": {},
   "outputs": [],
   "source": [
    "total_train[\"kp_h\"] = total_train.h.map({\n",
    "                        0:\"kp_00h\",    1:\"kp_00h\",    2:\"kp_00h\",\n",
    "                        3:\"kp_03h\",    4:\"kp_03h\",    5:\"kp_03h\",\n",
    "                        6:\"kp_06h\",    7:\"kp_06h\",    8:\"kp_06h\",\n",
    "                        9:\"kp_09h\",    10:\"kp_09h\",    11:\"kp_09h\",\n",
    "                        12:\"kp_12h\",    13:\"kp_12h\",    14:\"kp_12h\",\n",
    "                        15:\"kp_15h\",    16:\"kp_15h\",    17:\"kp_15h\",\n",
    "                        18:\"kp_18h\",    19:\"kp_18h\",    20:\"kp_18h\",\n",
    "                        21:\"kp_21h\",    22:\"kp_21h\",    23:\"kp_21h\",\n",
    "                                  })"
   ]
  },
  {
   "cell_type": "code",
   "execution_count": 12,
   "metadata": {},
   "outputs": [],
   "source": [
    "total_train[\"idx\"] = total_train.date.astype(str).str.split(\" \").rename(columns={0:\"date\"}).drop(columns=[1])"
   ]
  },
  {
   "cell_type": "code",
   "execution_count": 18,
   "metadata": {},
   "outputs": [],
   "source": [
    "total_train[\"idx\"] = total_train.idx.map(lambda x: x[0])"
   ]
  },
  {
   "cell_type": "code",
   "execution_count": 19,
   "metadata": {},
   "outputs": [],
   "source": [
    "total_train[\"idx\"] = total_train[\"idx\"] + total_train[\"kp_h\"]"
   ]
  },
  {
   "cell_type": "markdown",
   "metadata": {},
   "source": [
    "> target 전처리"
   ]
  },
  {
   "cell_type": "code",
   "execution_count": 20,
   "metadata": {},
   "outputs": [],
   "source": [
    "target_origin = target.copy()"
   ]
  },
  {
   "cell_type": "code",
   "execution_count": 21,
   "metadata": {},
   "outputs": [],
   "source": [
    "# kp_h명 바꾸기\n",
    "cols = {\n",
    "    \"kp_0h\":\"kp_00h\",\n",
    "    \"kp_3h\":\"kp_03h\",\n",
    "    \"kp_6h\":\"kp_06h\",\n",
    "    \"kp_9h\":\"kp_09h\",\n",
    "}\n",
    "target.rename(columns=cols, inplace=True)"
   ]
  },
  {
   "cell_type": "code",
   "execution_count": 22,
   "metadata": {},
   "outputs": [],
   "source": [
    "target = target.melt(\"date\").rename(columns={\"variable\":\"kp_h\", \"value\":\"target\"})"
   ]
  },
  {
   "cell_type": "code",
   "execution_count": 24,
   "metadata": {},
   "outputs": [],
   "source": [
    "target[\"idx\"] = target[\"date\"] + target[\"kp_h\"]"
   ]
  },
  {
   "cell_type": "markdown",
   "metadata": {},
   "source": [
    "> ace와 target merge"
   ]
  },
  {
   "cell_type": "code",
   "execution_count": 26,
   "metadata": {},
   "outputs": [],
   "source": [
    "data = pd.merge(total_train, target, on=[\"idx\"], how=\"outer\")"
   ]
  },
  {
   "cell_type": "code",
   "execution_count": 27,
   "metadata": {},
   "outputs": [
    {
     "data": {
      "text/plain": [
       "(7429504, 7429504)"
      ]
     },
     "execution_count": 27,
     "metadata": {},
     "output_type": "execute_result"
    }
   ],
   "source": [
    "len(total_train), len(data)"
   ]
  },
  {
   "cell_type": "code",
   "execution_count": 29,
   "metadata": {},
   "outputs": [],
   "source": [
    "data_origin = data.copy()"
   ]
  },
  {
   "cell_type": "code",
   "execution_count": 30,
   "metadata": {},
   "outputs": [],
   "source": [
    "data = data.drop(columns=[\"year\", \"doy\", \"h\", \"m\", \"idx\", \"date_y\", \"kp_h_y\"])"
   ]
  },
  {
   "cell_type": "code",
   "execution_count": 33,
   "metadata": {},
   "outputs": [],
   "source": [
    "data.rename(columns={\"date_x\":\"date\", \"kp_h_y\":\"kp_h\"}, inplace=True)"
   ]
  },
  {
   "cell_type": "code",
   "execution_count": 34,
   "metadata": {},
   "outputs": [],
   "source": [
    "data.to_csv(\"ace_target_merged.csv\")"
   ]
  },
  {
   "cell_type": "code",
   "execution_count": 4,
   "metadata": {},
   "outputs": [
    {
     "name": "stderr",
     "output_type": "stream",
     "text": [
      "C:\\Users\\JINHYO\\Anaconda3\\lib\\site-packages\\numpy\\lib\\arraysetops.py:569: FutureWarning: elementwise comparison failed; returning scalar instead, but in the future will perform elementwise comparison\n",
      "  mask |= (ar1 == a)\n"
     ]
    }
   ],
   "source": [
    "data = pd.read_csv(\"ace_target_merged.csv\", index_col=0)"
   ]
  },
  {
   "cell_type": "code",
   "execution_count": 5,
   "metadata": {},
   "outputs": [
    {
     "data": {
      "text/html": [
       "<div>\n",
       "<style scoped>\n",
       "    .dataframe tbody tr th:only-of-type {\n",
       "        vertical-align: middle;\n",
       "    }\n",
       "\n",
       "    .dataframe tbody tr th {\n",
       "        vertical-align: top;\n",
       "    }\n",
       "\n",
       "    .dataframe thead th {\n",
       "        text-align: right;\n",
       "    }\n",
       "</style>\n",
       "<table border=\"1\" class=\"dataframe\">\n",
       "  <thead>\n",
       "    <tr style=\"text-align: right;\">\n",
       "      <th></th>\n",
       "      <th>Np</th>\n",
       "      <th>Tp</th>\n",
       "      <th>Vp</th>\n",
       "      <th>B_gsm_x</th>\n",
       "      <th>B_gsm_y</th>\n",
       "      <th>B_gsm_z</th>\n",
       "      <th>Bmag</th>\n",
       "      <th>date</th>\n",
       "      <th>kp_h_x</th>\n",
       "      <th>target</th>\n",
       "    </tr>\n",
       "  </thead>\n",
       "  <tbody>\n",
       "    <tr>\n",
       "      <th>0</th>\n",
       "      <td>7.149</td>\n",
       "      <td>92352.0</td>\n",
       "      <td>406.00</td>\n",
       "      <td>-2.174</td>\n",
       "      <td>-2.598</td>\n",
       "      <td>5.550</td>\n",
       "      <td>6.630</td>\n",
       "      <td>1999-01-01</td>\n",
       "      <td>kp_00h</td>\n",
       "      <td>0</td>\n",
       "    </tr>\n",
       "    <tr>\n",
       "      <th>1</th>\n",
       "      <td>5.998</td>\n",
       "      <td>85859.0</td>\n",
       "      <td>419.12</td>\n",
       "      <td>-1.245</td>\n",
       "      <td>-0.140</td>\n",
       "      <td>6.558</td>\n",
       "      <td>6.796</td>\n",
       "      <td>1999-01-01</td>\n",
       "      <td>kp_00h</td>\n",
       "      <td>0</td>\n",
       "    </tr>\n",
       "    <tr>\n",
       "      <th>2</th>\n",
       "      <td>6.211</td>\n",
       "      <td>81547.0</td>\n",
       "      <td>411.99</td>\n",
       "      <td>-2.003</td>\n",
       "      <td>-1.198</td>\n",
       "      <td>6.306</td>\n",
       "      <td>6.802</td>\n",
       "      <td>1999-01-01</td>\n",
       "      <td>kp_00h</td>\n",
       "      <td>0</td>\n",
       "    </tr>\n",
       "    <tr>\n",
       "      <th>3</th>\n",
       "      <td>6.680</td>\n",
       "      <td>72308.0</td>\n",
       "      <td>405.25</td>\n",
       "      <td>-3.093</td>\n",
       "      <td>-2.483</td>\n",
       "      <td>5.545</td>\n",
       "      <td>6.854</td>\n",
       "      <td>1999-01-01</td>\n",
       "      <td>kp_00h</td>\n",
       "      <td>0</td>\n",
       "    </tr>\n",
       "    <tr>\n",
       "      <th>4</th>\n",
       "      <td>-9999.900</td>\n",
       "      <td>-9999.9</td>\n",
       "      <td>-9999.90</td>\n",
       "      <td>-3.009</td>\n",
       "      <td>-1.500</td>\n",
       "      <td>5.908</td>\n",
       "      <td>6.842</td>\n",
       "      <td>1999-01-01</td>\n",
       "      <td>kp_00h</td>\n",
       "      <td>0</td>\n",
       "    </tr>\n",
       "  </tbody>\n",
       "</table>\n",
       "</div>"
      ],
      "text/plain": [
       "         Np       Tp       Vp  B_gsm_x  B_gsm_y  B_gsm_z   Bmag        date  \\\n",
       "0     7.149  92352.0   406.00   -2.174   -2.598    5.550  6.630  1999-01-01   \n",
       "1     5.998  85859.0   419.12   -1.245   -0.140    6.558  6.796  1999-01-01   \n",
       "2     6.211  81547.0   411.99   -2.003   -1.198    6.306  6.802  1999-01-01   \n",
       "3     6.680  72308.0   405.25   -3.093   -2.483    5.545  6.854  1999-01-01   \n",
       "4 -9999.900  -9999.9 -9999.90   -3.009   -1.500    5.908  6.842  1999-01-01   \n",
       "\n",
       "   kp_h_x  target  \n",
       "0  kp_00h       0  \n",
       "1  kp_00h       0  \n",
       "2  kp_00h       0  \n",
       "3  kp_00h       0  \n",
       "4  kp_00h       0  "
      ]
     },
     "execution_count": 5,
     "metadata": {},
     "output_type": "execute_result"
    }
   ],
   "source": [
    "data.head()"
   ]
  },
  {
   "cell_type": "markdown",
   "metadata": {},
   "source": [
    "# 시각화 분석"
   ]
  },
  {
   "cell_type": "code",
   "execution_count": null,
   "metadata": {},
   "outputs": [],
   "source": [
    "# sns.pairplot(data.drop(columns=[\"Np\", \"Tp\"]), hue=\"target\")"
   ]
  },
  {
   "cell_type": "code",
   "execution_count": 54,
   "metadata": {},
   "outputs": [
    {
     "data": {
      "text/html": [
       "<div>\n",
       "<style scoped>\n",
       "    .dataframe tbody tr th:only-of-type {\n",
       "        vertical-align: middle;\n",
       "    }\n",
       "\n",
       "    .dataframe tbody tr th {\n",
       "        vertical-align: top;\n",
       "    }\n",
       "\n",
       "    .dataframe thead th {\n",
       "        text-align: right;\n",
       "    }\n",
       "</style>\n",
       "<table border=\"1\" class=\"dataframe\">\n",
       "  <thead>\n",
       "    <tr style=\"text-align: right;\">\n",
       "      <th></th>\n",
       "      <th>Np</th>\n",
       "      <th>Tp</th>\n",
       "      <th>Vp</th>\n",
       "      <th>B_gsm_x</th>\n",
       "      <th>B_gsm_y</th>\n",
       "      <th>B_gsm_z</th>\n",
       "      <th>Bmag</th>\n",
       "      <th>date</th>\n",
       "      <th>kp_h_x</th>\n",
       "    </tr>\n",
       "    <tr>\n",
       "      <th>target</th>\n",
       "      <th></th>\n",
       "      <th></th>\n",
       "      <th></th>\n",
       "      <th></th>\n",
       "      <th></th>\n",
       "      <th></th>\n",
       "      <th></th>\n",
       "      <th></th>\n",
       "      <th></th>\n",
       "    </tr>\n",
       "  </thead>\n",
       "  <tbody>\n",
       "    <tr>\n",
       "      <th>0</th>\n",
       "      <td>-9999.9004</td>\n",
       "      <td>-9999.9004</td>\n",
       "      <td>-9999.9004</td>\n",
       "      <td>-9999.9004</td>\n",
       "      <td>-9999.9004</td>\n",
       "      <td>-9999.9004</td>\n",
       "      <td>-9999.9004</td>\n",
       "      <td>1999-01-01</td>\n",
       "      <td>kp_00h</td>\n",
       "    </tr>\n",
       "    <tr>\n",
       "      <th>1</th>\n",
       "      <td>-9999.9004</td>\n",
       "      <td>-9999.9004</td>\n",
       "      <td>-9999.9004</td>\n",
       "      <td>-9999.9004</td>\n",
       "      <td>-9999.9004</td>\n",
       "      <td>-9999.9004</td>\n",
       "      <td>-9999.9004</td>\n",
       "      <td>1999-01-01</td>\n",
       "      <td>kp_00h</td>\n",
       "    </tr>\n",
       "    <tr>\n",
       "      <th>2</th>\n",
       "      <td>-9999.9004</td>\n",
       "      <td>-9999.9004</td>\n",
       "      <td>-9999.9004</td>\n",
       "      <td>-9999.9004</td>\n",
       "      <td>-9999.9004</td>\n",
       "      <td>-9999.9004</td>\n",
       "      <td>-9999.9004</td>\n",
       "      <td>1999-01-01</td>\n",
       "      <td>kp_00h</td>\n",
       "    </tr>\n",
       "    <tr>\n",
       "      <th>3</th>\n",
       "      <td>-9999.9004</td>\n",
       "      <td>-9999.9004</td>\n",
       "      <td>-9999.9004</td>\n",
       "      <td>-9999.9000</td>\n",
       "      <td>-9999.9000</td>\n",
       "      <td>-9999.9000</td>\n",
       "      <td>-9999.9000</td>\n",
       "      <td>1999-01-02</td>\n",
       "      <td>kp_00h</td>\n",
       "    </tr>\n",
       "    <tr>\n",
       "      <th>4</th>\n",
       "      <td>-9999.9004</td>\n",
       "      <td>-9999.9004</td>\n",
       "      <td>-9999.9004</td>\n",
       "      <td>-9999.9000</td>\n",
       "      <td>-9999.9000</td>\n",
       "      <td>-9999.9000</td>\n",
       "      <td>-9999.9000</td>\n",
       "      <td>1999-01-08</td>\n",
       "      <td>kp_00h</td>\n",
       "    </tr>\n",
       "    <tr>\n",
       "      <th>5</th>\n",
       "      <td>-9999.9004</td>\n",
       "      <td>-9999.9004</td>\n",
       "      <td>-9999.9004</td>\n",
       "      <td>-9999.9000</td>\n",
       "      <td>-9999.9000</td>\n",
       "      <td>-9999.9000</td>\n",
       "      <td>-9999.9000</td>\n",
       "      <td>1999-01-13</td>\n",
       "      <td>kp_00h</td>\n",
       "    </tr>\n",
       "    <tr>\n",
       "      <th>6</th>\n",
       "      <td>-9999.9004</td>\n",
       "      <td>-9999.9004</td>\n",
       "      <td>-9999.9004</td>\n",
       "      <td>-53.2790</td>\n",
       "      <td>-45.8300</td>\n",
       "      <td>-34.4770</td>\n",
       "      <td>0.9580</td>\n",
       "      <td>1999-01-13</td>\n",
       "      <td>kp_00h</td>\n",
       "    </tr>\n",
       "    <tr>\n",
       "      <th>7</th>\n",
       "      <td>-9999.9004</td>\n",
       "      <td>-9999.9004</td>\n",
       "      <td>-9999.9004</td>\n",
       "      <td>-42.0190</td>\n",
       "      <td>-46.8910</td>\n",
       "      <td>-52.9260</td>\n",
       "      <td>1.5390</td>\n",
       "      <td>1999-02-18</td>\n",
       "      <td>kp_00h</td>\n",
       "    </tr>\n",
       "    <tr>\n",
       "      <th>8</th>\n",
       "      <td>-9999.9000</td>\n",
       "      <td>-9999.9000</td>\n",
       "      <td>-9999.9000</td>\n",
       "      <td>-9999.9000</td>\n",
       "      <td>-9999.9000</td>\n",
       "      <td>-9999.9000</td>\n",
       "      <td>-9999.9000</td>\n",
       "      <td>1999-10-22</td>\n",
       "      <td>kp_00h</td>\n",
       "    </tr>\n",
       "    <tr>\n",
       "      <th>9</th>\n",
       "      <td>-9999.9000</td>\n",
       "      <td>-9999.9000</td>\n",
       "      <td>-9999.9000</td>\n",
       "      <td>-44.6470</td>\n",
       "      <td>-47.2190</td>\n",
       "      <td>-59.2750</td>\n",
       "      <td>8.0330</td>\n",
       "      <td>2000-07-15</td>\n",
       "      <td>kp_00h</td>\n",
       "    </tr>\n",
       "  </tbody>\n",
       "</table>\n",
       "</div>"
      ],
      "text/plain": [
       "               Np         Tp         Vp    B_gsm_x    B_gsm_y    B_gsm_z  \\\n",
       "target                                                                     \n",
       "0      -9999.9004 -9999.9004 -9999.9004 -9999.9004 -9999.9004 -9999.9004   \n",
       "1      -9999.9004 -9999.9004 -9999.9004 -9999.9004 -9999.9004 -9999.9004   \n",
       "2      -9999.9004 -9999.9004 -9999.9004 -9999.9004 -9999.9004 -9999.9004   \n",
       "3      -9999.9004 -9999.9004 -9999.9004 -9999.9000 -9999.9000 -9999.9000   \n",
       "4      -9999.9004 -9999.9004 -9999.9004 -9999.9000 -9999.9000 -9999.9000   \n",
       "5      -9999.9004 -9999.9004 -9999.9004 -9999.9000 -9999.9000 -9999.9000   \n",
       "6      -9999.9004 -9999.9004 -9999.9004   -53.2790   -45.8300   -34.4770   \n",
       "7      -9999.9004 -9999.9004 -9999.9004   -42.0190   -46.8910   -52.9260   \n",
       "8      -9999.9000 -9999.9000 -9999.9000 -9999.9000 -9999.9000 -9999.9000   \n",
       "9      -9999.9000 -9999.9000 -9999.9000   -44.6470   -47.2190   -59.2750   \n",
       "\n",
       "             Bmag       date  kp_h_x  \n",
       "target                                \n",
       "0      -9999.9004 1999-01-01  kp_00h  \n",
       "1      -9999.9004 1999-01-01  kp_00h  \n",
       "2      -9999.9004 1999-01-01  kp_00h  \n",
       "3      -9999.9000 1999-01-02  kp_00h  \n",
       "4      -9999.9000 1999-01-08  kp_00h  \n",
       "5      -9999.9000 1999-01-13  kp_00h  \n",
       "6          0.9580 1999-01-13  kp_00h  \n",
       "7          1.5390 1999-02-18  kp_00h  \n",
       "8      -9999.9000 1999-10-22  kp_00h  \n",
       "9          8.0330 2000-07-15  kp_00h  "
      ]
     },
     "execution_count": 54,
     "metadata": {},
     "output_type": "execute_result"
    }
   ],
   "source": [
    "data.groupby(\"target\").min()"
   ]
  },
  {
   "cell_type": "code",
   "execution_count": 55,
   "metadata": {},
   "outputs": [
    {
     "data": {
      "text/plain": [
       "<seaborn.axisgrid.PairGrid at 0x2553dd84240>"
      ]
     },
     "execution_count": 55,
     "metadata": {},
     "output_type": "execute_result"
    },
    {
     "data": {
      "image/png": "[encoded data removed]",
      "text/plain": [
       "<Figure size 1260x1260 with 56 Axes>"
      ]
     },
     "metadata": {
      "needs_background": "light"
     },
     "output_type": "display_data"
    }
   ],
   "source": [
    "sns.pairplot(data.groupby(\"target\").min())"
   ]
  },
  {
   "cell_type": "code",
   "execution_count": 50,
   "metadata": {},
   "outputs": [
    {
     "data": {
      "text/html": [
       "<div>\n",
       "<style scoped>\n",
       "    .dataframe tbody tr th:only-of-type {\n",
       "        vertical-align: middle;\n",
       "    }\n",
       "\n",
       "    .dataframe tbody tr th {\n",
       "        vertical-align: top;\n",
       "    }\n",
       "\n",
       "    .dataframe thead th {\n",
       "        text-align: right;\n",
       "    }\n",
       "</style>\n",
       "<table border=\"1\" class=\"dataframe\">\n",
       "  <thead>\n",
       "    <tr style=\"text-align: right;\">\n",
       "      <th></th>\n",
       "      <th>Np</th>\n",
       "      <th>Tp</th>\n",
       "      <th>Vp</th>\n",
       "      <th>B_gsm_x</th>\n",
       "      <th>B_gsm_y</th>\n",
       "      <th>B_gsm_z</th>\n",
       "      <th>Bmag</th>\n",
       "    </tr>\n",
       "    <tr>\n",
       "      <th>target</th>\n",
       "      <th></th>\n",
       "      <th></th>\n",
       "      <th></th>\n",
       "      <th></th>\n",
       "      <th></th>\n",
       "      <th></th>\n",
       "      <th></th>\n",
       "    </tr>\n",
       "  </thead>\n",
       "  <tbody>\n",
       "    <tr>\n",
       "      <th>0</th>\n",
       "      <td>-6616.270727</td>\n",
       "      <td>21166.528131</td>\n",
       "      <td>-618.274599</td>\n",
       "      <td>-10.394187</td>\n",
       "      <td>-10.831813</td>\n",
       "      <td>-9.845554</td>\n",
       "      <td>-6.709612</td>\n",
       "    </tr>\n",
       "    <tr>\n",
       "      <th>1</th>\n",
       "      <td>-5130.758449</td>\n",
       "      <td>41700.885191</td>\n",
       "      <td>-414.356687</td>\n",
       "      <td>-6.438602</td>\n",
       "      <td>-6.682839</td>\n",
       "      <td>-6.097579</td>\n",
       "      <td>-1.971287</td>\n",
       "    </tr>\n",
       "    <tr>\n",
       "      <th>2</th>\n",
       "      <td>-3336.528168</td>\n",
       "      <td>70052.411387</td>\n",
       "      <td>-227.685375</td>\n",
       "      <td>-3.703131</td>\n",
       "      <td>-3.919683</td>\n",
       "      <td>-3.629631</td>\n",
       "      <td>1.826001</td>\n",
       "    </tr>\n",
       "    <tr>\n",
       "      <th>3</th>\n",
       "      <td>-1967.447191</td>\n",
       "      <td>105391.588190</td>\n",
       "      <td>-119.249319</td>\n",
       "      <td>-5.499930</td>\n",
       "      <td>-5.574205</td>\n",
       "      <td>-5.880590</td>\n",
       "      <td>1.186009</td>\n",
       "    </tr>\n",
       "    <tr>\n",
       "      <th>4</th>\n",
       "      <td>-1485.889626</td>\n",
       "      <td>142333.254115</td>\n",
       "      <td>-81.669178</td>\n",
       "      <td>-6.795609</td>\n",
       "      <td>-6.360576</td>\n",
       "      <td>-7.715741</td>\n",
       "      <td>1.682395</td>\n",
       "    </tr>\n",
       "    <tr>\n",
       "      <th>5</th>\n",
       "      <td>-1459.305997</td>\n",
       "      <td>159947.197732</td>\n",
       "      <td>-211.364489</td>\n",
       "      <td>-0.594853</td>\n",
       "      <td>0.740810</td>\n",
       "      <td>-2.521534</td>\n",
       "      <td>9.952396</td>\n",
       "    </tr>\n",
       "    <tr>\n",
       "      <th>6</th>\n",
       "      <td>-1602.993165</td>\n",
       "      <td>148552.173946</td>\n",
       "      <td>-289.832774</td>\n",
       "      <td>-0.245737</td>\n",
       "      <td>1.258484</td>\n",
       "      <td>-4.041342</td>\n",
       "      <td>13.114243</td>\n",
       "    </tr>\n",
       "    <tr>\n",
       "      <th>7</th>\n",
       "      <td>-1990.662145</td>\n",
       "      <td>173233.005956</td>\n",
       "      <td>-992.176980</td>\n",
       "      <td>-0.720757</td>\n",
       "      <td>1.989922</td>\n",
       "      <td>-5.360296</td>\n",
       "      <td>19.121267</td>\n",
       "    </tr>\n",
       "    <tr>\n",
       "      <th>8</th>\n",
       "      <td>-3053.524593</td>\n",
       "      <td>160006.821378</td>\n",
       "      <td>-1712.979073</td>\n",
       "      <td>-4.223935</td>\n",
       "      <td>-1.705562</td>\n",
       "      <td>-13.106914</td>\n",
       "      <td>22.192538</td>\n",
       "    </tr>\n",
       "    <tr>\n",
       "      <th>9</th>\n",
       "      <td>-5094.605892</td>\n",
       "      <td>48361.604426</td>\n",
       "      <td>-4618.551250</td>\n",
       "      <td>-3.404887</td>\n",
       "      <td>5.594536</td>\n",
       "      <td>-16.233819</td>\n",
       "      <td>32.866049</td>\n",
       "    </tr>\n",
       "  </tbody>\n",
       "</table>\n",
       "</div>"
      ],
      "text/plain": [
       "                 Np             Tp           Vp    B_gsm_x    B_gsm_y  \\\n",
       "target                                                                  \n",
       "0      -6616.270727   21166.528131  -618.274599 -10.394187 -10.831813   \n",
       "1      -5130.758449   41700.885191  -414.356687  -6.438602  -6.682839   \n",
       "2      -3336.528168   70052.411387  -227.685375  -3.703131  -3.919683   \n",
       "3      -1967.447191  105391.588190  -119.249319  -5.499930  -5.574205   \n",
       "4      -1485.889626  142333.254115   -81.669178  -6.795609  -6.360576   \n",
       "5      -1459.305997  159947.197732  -211.364489  -0.594853   0.740810   \n",
       "6      -1602.993165  148552.173946  -289.832774  -0.245737   1.258484   \n",
       "7      -1990.662145  173233.005956  -992.176980  -0.720757   1.989922   \n",
       "8      -3053.524593  160006.821378 -1712.979073  -4.223935  -1.705562   \n",
       "9      -5094.605892   48361.604426 -4618.551250  -3.404887   5.594536   \n",
       "\n",
       "          B_gsm_z       Bmag  \n",
       "target                        \n",
       "0       -9.845554  -6.709612  \n",
       "1       -6.097579  -1.971287  \n",
       "2       -3.629631   1.826001  \n",
       "3       -5.880590   1.186009  \n",
       "4       -7.715741   1.682395  \n",
       "5       -2.521534   9.952396  \n",
       "6       -4.041342  13.114243  \n",
       "7       -5.360296  19.121267  \n",
       "8      -13.106914  22.192538  \n",
       "9      -16.233819  32.866049  "
      ]
     },
     "execution_count": 50,
     "metadata": {},
     "output_type": "execute_result"
    }
   ],
   "source": [
    "data.groupby(\"target\").mean()"
   ]
  },
  {
   "cell_type": "code",
   "execution_count": 49,
   "metadata": {
    "scrolled": true
   },
   "outputs": [
    {
     "data": {
      "text/plain": [
       "{'whiskers': [<matplotlib.lines.Line2D at 0x2553ea7aeb8>,\n",
       "  <matplotlib.lines.Line2D at 0x2553ea7af98>,\n",
       "  <matplotlib.lines.Line2D at 0x2553ea91630>,\n",
       "  <matplotlib.lines.Line2D at 0x2553ea91978>,\n",
       "  <matplotlib.lines.Line2D at 0x2553ea9ad68>,\n",
       "  <matplotlib.lines.Line2D at 0x2553ea9ae48>,\n",
       "  <matplotlib.lines.Line2D at 0x2553eaaf4e0>,\n",
       "  <matplotlib.lines.Line2D at 0x2553eaaf828>,\n",
       "  <matplotlib.lines.Line2D at 0x2553eab9c18>,\n",
       "  <matplotlib.lines.Line2D at 0x2553eab9f60>,\n",
       "  <matplotlib.lines.Line2D at 0x2553eace390>,\n",
       "  <matplotlib.lines.Line2D at 0x2553eace6d8>,\n",
       "  <matplotlib.lines.Line2D at 0x2553ead7ac8>,\n",
       "  <matplotlib.lines.Line2D at 0x2553ead7e10>,\n",
       "  <matplotlib.lines.Line2D at 0x2553eae0f98>,\n",
       "  <matplotlib.lines.Line2D at 0x2553eaec588>,\n",
       "  <matplotlib.lines.Line2D at 0x2553eaf5978>,\n",
       "  <matplotlib.lines.Line2D at 0x2553eaf5cc0>,\n",
       "  <matplotlib.lines.Line2D at 0x2553eb01e48>,\n",
       "  <matplotlib.lines.Line2D at 0x2553eb0a438>],\n",
       " 'caps': [<matplotlib.lines.Line2D at 0x2553ea87588>,\n",
       "  <matplotlib.lines.Line2D at 0x2553ea878d0>,\n",
       "  <matplotlib.lines.Line2D at 0x2553ea91cc0>,\n",
       "  <matplotlib.lines.Line2D at 0x2553ea91da0>,\n",
       "  <matplotlib.lines.Line2D at 0x2553eaa5438>,\n",
       "  <matplotlib.lines.Line2D at 0x2553eaa5780>,\n",
       "  <matplotlib.lines.Line2D at 0x2553eaafb70>,\n",
       "  <matplotlib.lines.Line2D at 0x2553eaafeb8>,\n",
       "  <matplotlib.lines.Line2D at 0x2553eac32e8>,\n",
       "  <matplotlib.lines.Line2D at 0x2553eac3630>,\n",
       "  <matplotlib.lines.Line2D at 0x2553eacea20>,\n",
       "  <matplotlib.lines.Line2D at 0x2553eaced68>,\n",
       "  <matplotlib.lines.Line2D at 0x2553ead7ef0>,\n",
       "  <matplotlib.lines.Line2D at 0x2553eae04e0>,\n",
       "  <matplotlib.lines.Line2D at 0x2553eaec8d0>,\n",
       "  <matplotlib.lines.Line2D at 0x2553eaecc18>,\n",
       "  <matplotlib.lines.Line2D at 0x2553eaf5da0>,\n",
       "  <matplotlib.lines.Line2D at 0x2553eb01390>,\n",
       "  <matplotlib.lines.Line2D at 0x2553eb0a780>,\n",
       "  <matplotlib.lines.Line2D at 0x2553eb0aac8>],\n",
       " 'boxes': [<matplotlib.lines.Line2D at 0x2553ea7aa90>,\n",
       "  <matplotlib.lines.Line2D at 0x2553ea912e8>,\n",
       "  <matplotlib.lines.Line2D at 0x2553ea9aa20>,\n",
       "  <matplotlib.lines.Line2D at 0x2553eaa5eb8>,\n",
       "  <matplotlib.lines.Line2D at 0x2553eab98d0>,\n",
       "  <matplotlib.lines.Line2D at 0x2553eac3d68>,\n",
       "  <matplotlib.lines.Line2D at 0x2553ead7780>,\n",
       "  <matplotlib.lines.Line2D at 0x2553eae0eb8>,\n",
       "  <matplotlib.lines.Line2D at 0x2553eaf5630>,\n",
       "  <matplotlib.lines.Line2D at 0x2553eb01d68>],\n",
       " 'medians': [<matplotlib.lines.Line2D at 0x2553ea87c18>,\n",
       "  <matplotlib.lines.Line2D at 0x2553ea9a390>,\n",
       "  <matplotlib.lines.Line2D at 0x2553eaa5ac8>,\n",
       "  <matplotlib.lines.Line2D at 0x2553eaaff98>,\n",
       "  <matplotlib.lines.Line2D at 0x2553eac3978>,\n",
       "  <matplotlib.lines.Line2D at 0x2553eacee48>,\n",
       "  <matplotlib.lines.Line2D at 0x2553eae0828>,\n",
       "  <matplotlib.lines.Line2D at 0x2553eaecf60>,\n",
       "  <matplotlib.lines.Line2D at 0x2553eb016d8>,\n",
       "  <matplotlib.lines.Line2D at 0x2553eb0ae10>],\n",
       " 'fliers': [<matplotlib.lines.Line2D at 0x2553ea87f60>,\n",
       "  <matplotlib.lines.Line2D at 0x2553ea9a6d8>,\n",
       "  <matplotlib.lines.Line2D at 0x2553eaa5e10>,\n",
       "  <matplotlib.lines.Line2D at 0x2553eab9588>,\n",
       "  <matplotlib.lines.Line2D at 0x2553eac3cc0>,\n",
       "  <matplotlib.lines.Line2D at 0x2553ead7438>,\n",
       "  <matplotlib.lines.Line2D at 0x2553eae0b70>,\n",
       "  <matplotlib.lines.Line2D at 0x2553eaf52e8>,\n",
       "  <matplotlib.lines.Line2D at 0x2553eb01a20>,\n",
       "  <matplotlib.lines.Line2D at 0x2553eb0aef0>],\n",
       " 'means': []}"
      ]
     },
     "execution_count": 49,
     "metadata": {},
     "output_type": "execute_result"
    },
    {
     "data": {
      "image/png": "[encoded data removed]",
      "text/plain": [
       "<Figure size 432x288 with 1 Axes>"
      ]
     },
     "metadata": {
      "needs_background": "light"
     },
     "output_type": "display_data"
    }
   ],
   "source": [
    "plt.boxplot(data.groupby(\"target\").mean())"
   ]
  },
  {
   "cell_type": "code",
   "execution_count": 53,
   "metadata": {},
   "outputs": [
    {
     "data": {
      "text/plain": [
       "<seaborn.axisgrid.PairGrid at 0x25565decda0>"
      ]
     },
     "execution_count": 53,
     "metadata": {},
     "output_type": "execute_result"
    },
    {
     "data": {
      "image/png": "[encoded data removed]",
      "text/plain": [
       "<Figure size 1122.38x1080 with 42 Axes>"
      ]
     },
     "metadata": {
      "needs_background": "light"
     },
     "output_type": "display_data"
    }
   ],
   "source": [
    "sns.pairplot(data.drop(columns=[\"Np\", \"Tp\"]).iloc[:1_000_000, :], hue=\"target\")"
   ]
  },
  {
   "cell_type": "code",
   "execution_count": 43,
   "metadata": {},
   "outputs": [
    {
     "data": {
      "text/plain": [
       "7429504"
      ]
     },
     "execution_count": 43,
     "metadata": {},
     "output_type": "execute_result"
    }
   ],
   "source": [
    "len(data)"
   ]
  },
  {
   "cell_type": "code",
   "execution_count": 44,
   "metadata": {},
   "outputs": [
    {
     "data": {
      "text/plain": [
       "<matplotlib.axes._subplots.AxesSubplot at 0x2553b9719b0>"
      ]
     },
     "execution_count": 44,
     "metadata": {},
     "output_type": "execute_result"
    },
    {
     "data": {
      "image/png": "[encoded data removed]",
      "text/plain": [
       "<Figure size 432x288 with 1 Axes>"
      ]
     },
     "metadata": {
      "needs_background": "light"
     },
     "output_type": "display_data"
    }
   ],
   "source": [
    "sns.barplot(x=\"target\", y=\"Vp\", data=data.iloc[:1_000_000,:])"
   ]
  },
  {
   "cell_type": "code",
   "execution_count": 46,
   "metadata": {},
   "outputs": [
    {
     "data": {
      "text/plain": [
       "<matplotlib.axes._subplots.AxesSubplot at 0x2553dbb5198>"
      ]
     },
     "execution_count": 46,
     "metadata": {},
     "output_type": "execute_result"
    },
    {
     "data": {
      "image/png": "[encoded data removed]",
      "text/plain": [
       "<Figure size 432x288 with 1 Axes>"
      ]
     },
     "metadata": {
      "needs_background": "light"
     },
     "output_type": "display_data"
    }
   ],
   "source": [
    "sns.barplot(x=\"target\", y=\"Bmag\", data=data.iloc[:1_000_000,:])"
   ]
  },
  {
   "cell_type": "markdown",
   "metadata": {},
   "source": [
    "----"
   ]
  },
  {
   "cell_type": "markdown",
   "metadata": {},
   "source": [
    "# 결측값을 None으로 바꿈"
   ]
  },
  {
   "cell_type": "code",
   "execution_count": 6,
   "metadata": {},
   "outputs": [],
   "source": [
    "data[\"Np_\"] = data.Np.map(lambda x: x if x > 0 else None)\n",
    "data[\"Tp_\"] = data.Tp.map(lambda x: x if x > 0 else None)\n",
    "data[\"Vp_\"] = data.Vp.map(lambda x: x if x > 0 else None)"
   ]
  },
  {
   "cell_type": "code",
   "execution_count": 7,
   "metadata": {},
   "outputs": [],
   "source": [
    "change2none = ['date', 'kp_h_x','Np_', 'Tp_', 'Vp_','B_gsm_x', 'B_gsm_y', 'B_gsm_z', 'Bmag',  'target']"
   ]
  },
  {
   "cell_type": "markdown",
   "metadata": {},
   "source": [
    "> groupby.count"
   ]
  },
  {
   "cell_type": "code",
   "execution_count": 102,
   "metadata": {
    "scrolled": true
   },
   "outputs": [
    {
     "data": {
      "text/html": [
       "<div>\n",
       "<style scoped>\n",
       "    .dataframe tbody tr th:only-of-type {\n",
       "        vertical-align: middle;\n",
       "    }\n",
       "\n",
       "    .dataframe tbody tr th {\n",
       "        vertical-align: top;\n",
       "    }\n",
       "\n",
       "    .dataframe thead th {\n",
       "        text-align: right;\n",
       "    }\n",
       "</style>\n",
       "<table border=\"1\" class=\"dataframe\">\n",
       "  <thead>\n",
       "    <tr style=\"text-align: right;\">\n",
       "      <th></th>\n",
       "      <th>date</th>\n",
       "      <th>kp_h_x</th>\n",
       "      <th>Np_</th>\n",
       "      <th>Tp_</th>\n",
       "      <th>Vp_</th>\n",
       "      <th>B_gsm_x</th>\n",
       "      <th>B_gsm_y</th>\n",
       "      <th>B_gsm_z</th>\n",
       "      <th>Bmag</th>\n",
       "    </tr>\n",
       "    <tr>\n",
       "      <th>target</th>\n",
       "      <th></th>\n",
       "      <th></th>\n",
       "      <th></th>\n",
       "      <th></th>\n",
       "      <th></th>\n",
       "      <th></th>\n",
       "      <th></th>\n",
       "      <th></th>\n",
       "      <th></th>\n",
       "    </tr>\n",
       "  </thead>\n",
       "  <tbody>\n",
       "    <tr>\n",
       "      <th>0</th>\n",
       "      <td>690979</td>\n",
       "      <td>690979</td>\n",
       "      <td>0</td>\n",
       "      <td>169466</td>\n",
       "      <td>592974</td>\n",
       "      <td>690979</td>\n",
       "      <td>690979</td>\n",
       "      <td>690979</td>\n",
       "      <td>690979</td>\n",
       "    </tr>\n",
       "    <tr>\n",
       "      <th>1</th>\n",
       "      <td>996305</td>\n",
       "      <td>996305</td>\n",
       "      <td>0</td>\n",
       "      <td>357572</td>\n",
       "      <td>847236</td>\n",
       "      <td>996305</td>\n",
       "      <td>996305</td>\n",
       "      <td>996305</td>\n",
       "      <td>996305</td>\n",
       "    </tr>\n",
       "    <tr>\n",
       "      <th>2</th>\n",
       "      <td>666241</td>\n",
       "      <td>666241</td>\n",
       "      <td>0</td>\n",
       "      <td>269874</td>\n",
       "      <td>542471</td>\n",
       "      <td>666241</td>\n",
       "      <td>666241</td>\n",
       "      <td>666241</td>\n",
       "      <td>666241</td>\n",
       "    </tr>\n",
       "    <tr>\n",
       "      <th>3</th>\n",
       "      <td>299715</td>\n",
       "      <td>299715</td>\n",
       "      <td>0</td>\n",
       "      <td>127321</td>\n",
       "      <td>214983</td>\n",
       "      <td>299715</td>\n",
       "      <td>299715</td>\n",
       "      <td>299715</td>\n",
       "      <td>299715</td>\n",
       "    </tr>\n",
       "    <tr>\n",
       "      <th>4</th>\n",
       "      <td>93359</td>\n",
       "      <td>93359</td>\n",
       "      <td>0</td>\n",
       "      <td>44174</td>\n",
       "      <td>58032</td>\n",
       "      <td>93359</td>\n",
       "      <td>93359</td>\n",
       "      <td>93359</td>\n",
       "      <td>93359</td>\n",
       "    </tr>\n",
       "    <tr>\n",
       "      <th>5</th>\n",
       "      <td>30990</td>\n",
       "      <td>30990</td>\n",
       "      <td>0</td>\n",
       "      <td>13410</td>\n",
       "      <td>16013</td>\n",
       "      <td>30990</td>\n",
       "      <td>30990</td>\n",
       "      <td>30990</td>\n",
       "      <td>30990</td>\n",
       "    </tr>\n",
       "    <tr>\n",
       "      <th>6</th>\n",
       "      <td>10135</td>\n",
       "      <td>10135</td>\n",
       "      <td>0</td>\n",
       "      <td>4559</td>\n",
       "      <td>5144</td>\n",
       "      <td>10135</td>\n",
       "      <td>10135</td>\n",
       "      <td>10135</td>\n",
       "      <td>10135</td>\n",
       "    </tr>\n",
       "    <tr>\n",
       "      <th>7</th>\n",
       "      <td>4017</td>\n",
       "      <td>4017</td>\n",
       "      <td>0</td>\n",
       "      <td>826</td>\n",
       "      <td>1009</td>\n",
       "      <td>4017</td>\n",
       "      <td>4017</td>\n",
       "      <td>4017</td>\n",
       "      <td>4017</td>\n",
       "    </tr>\n",
       "    <tr>\n",
       "      <th>8</th>\n",
       "      <td>2068</td>\n",
       "      <td>2068</td>\n",
       "      <td>0</td>\n",
       "      <td>374</td>\n",
       "      <td>543</td>\n",
       "      <td>2068</td>\n",
       "      <td>2068</td>\n",
       "      <td>2068</td>\n",
       "      <td>2068</td>\n",
       "    </tr>\n",
       "    <tr>\n",
       "      <th>9</th>\n",
       "      <td>1636</td>\n",
       "      <td>1636</td>\n",
       "      <td>0</td>\n",
       "      <td>8</td>\n",
       "      <td>42</td>\n",
       "      <td>1636</td>\n",
       "      <td>1636</td>\n",
       "      <td>1636</td>\n",
       "      <td>1636</td>\n",
       "    </tr>\n",
       "  </tbody>\n",
       "</table>\n",
       "</div>"
      ],
      "text/plain": [
       "          date  kp_h_x  Np_     Tp_     Vp_  B_gsm_x  B_gsm_y  B_gsm_z    Bmag\n",
       "target                                                                        \n",
       "0       690979  690979    0  169466  592974   690979   690979   690979  690979\n",
       "1       996305  996305    0  357572  847236   996305   996305   996305  996305\n",
       "2       666241  666241    0  269874  542471   666241   666241   666241  666241\n",
       "3       299715  299715    0  127321  214983   299715   299715   299715  299715\n",
       "4        93359   93359    0   44174   58032    93359    93359    93359   93359\n",
       "5        30990   30990    0   13410   16013    30990    30990    30990   30990\n",
       "6        10135   10135    0    4559    5144    10135    10135    10135   10135\n",
       "7         4017    4017    0     826    1009     4017     4017     4017    4017\n",
       "8         2068    2068    0     374     543     2068     2068     2068    2068\n",
       "9         1636    1636    0       8      42     1636     1636     1636    1636"
      ]
     },
     "execution_count": 102,
     "metadata": {},
     "output_type": "execute_result"
    }
   ],
   "source": [
    "data[change2none][data[change2none][\"Np_\"].isnull()].groupby(\"target\").count()"
   ]
  },
  {
   "cell_type": "code",
   "execution_count": 103,
   "metadata": {},
   "outputs": [
    {
     "data": {
      "text/html": [
       "<div>\n",
       "<style scoped>\n",
       "    .dataframe tbody tr th:only-of-type {\n",
       "        vertical-align: middle;\n",
       "    }\n",
       "\n",
       "    .dataframe tbody tr th {\n",
       "        vertical-align: top;\n",
       "    }\n",
       "\n",
       "    .dataframe thead th {\n",
       "        text-align: right;\n",
       "    }\n",
       "</style>\n",
       "<table border=\"1\" class=\"dataframe\">\n",
       "  <thead>\n",
       "    <tr style=\"text-align: right;\">\n",
       "      <th></th>\n",
       "      <th>date</th>\n",
       "      <th>kp_h_x</th>\n",
       "      <th>Np_</th>\n",
       "      <th>Tp_</th>\n",
       "      <th>Vp_</th>\n",
       "      <th>B_gsm_x</th>\n",
       "      <th>B_gsm_y</th>\n",
       "      <th>B_gsm_z</th>\n",
       "      <th>Bmag</th>\n",
       "    </tr>\n",
       "    <tr>\n",
       "      <th>target</th>\n",
       "      <th></th>\n",
       "      <th></th>\n",
       "      <th></th>\n",
       "      <th></th>\n",
       "      <th></th>\n",
       "      <th></th>\n",
       "      <th></th>\n",
       "      <th></th>\n",
       "      <th></th>\n",
       "    </tr>\n",
       "  </thead>\n",
       "  <tbody>\n",
       "    <tr>\n",
       "      <th>0</th>\n",
       "      <td>522872</td>\n",
       "      <td>522872</td>\n",
       "      <td>1359</td>\n",
       "      <td>0</td>\n",
       "      <td>425187</td>\n",
       "      <td>522872</td>\n",
       "      <td>522872</td>\n",
       "      <td>522872</td>\n",
       "      <td>522872</td>\n",
       "    </tr>\n",
       "    <tr>\n",
       "      <th>1</th>\n",
       "      <td>642125</td>\n",
       "      <td>642125</td>\n",
       "      <td>3392</td>\n",
       "      <td>0</td>\n",
       "      <td>494092</td>\n",
       "      <td>642125</td>\n",
       "      <td>642125</td>\n",
       "      <td>642125</td>\n",
       "      <td>642125</td>\n",
       "    </tr>\n",
       "    <tr>\n",
       "      <th>2</th>\n",
       "      <td>400716</td>\n",
       "      <td>400716</td>\n",
       "      <td>4349</td>\n",
       "      <td>0</td>\n",
       "      <td>277822</td>\n",
       "      <td>400716</td>\n",
       "      <td>400716</td>\n",
       "      <td>400716</td>\n",
       "      <td>400716</td>\n",
       "    </tr>\n",
       "    <tr>\n",
       "      <th>3</th>\n",
       "      <td>176174</td>\n",
       "      <td>176174</td>\n",
       "      <td>3780</td>\n",
       "      <td>0</td>\n",
       "      <td>91915</td>\n",
       "      <td>176174</td>\n",
       "      <td>176174</td>\n",
       "      <td>176174</td>\n",
       "      <td>176174</td>\n",
       "    </tr>\n",
       "    <tr>\n",
       "      <th>4</th>\n",
       "      <td>50714</td>\n",
       "      <td>50714</td>\n",
       "      <td>1529</td>\n",
       "      <td>0</td>\n",
       "      <td>15521</td>\n",
       "      <td>50714</td>\n",
       "      <td>50714</td>\n",
       "      <td>50714</td>\n",
       "      <td>50714</td>\n",
       "    </tr>\n",
       "    <tr>\n",
       "      <th>5</th>\n",
       "      <td>18133</td>\n",
       "      <td>18133</td>\n",
       "      <td>553</td>\n",
       "      <td>0</td>\n",
       "      <td>3189</td>\n",
       "      <td>18133</td>\n",
       "      <td>18133</td>\n",
       "      <td>18133</td>\n",
       "      <td>18133</td>\n",
       "    </tr>\n",
       "    <tr>\n",
       "      <th>6</th>\n",
       "      <td>5758</td>\n",
       "      <td>5758</td>\n",
       "      <td>182</td>\n",
       "      <td>0</td>\n",
       "      <td>784</td>\n",
       "      <td>5758</td>\n",
       "      <td>5758</td>\n",
       "      <td>5758</td>\n",
       "      <td>5758</td>\n",
       "    </tr>\n",
       "    <tr>\n",
       "      <th>7</th>\n",
       "      <td>3246</td>\n",
       "      <td>3246</td>\n",
       "      <td>55</td>\n",
       "      <td>0</td>\n",
       "      <td>239</td>\n",
       "      <td>3246</td>\n",
       "      <td>3246</td>\n",
       "      <td>3246</td>\n",
       "      <td>3246</td>\n",
       "    </tr>\n",
       "    <tr>\n",
       "      <th>8</th>\n",
       "      <td>1717</td>\n",
       "      <td>1717</td>\n",
       "      <td>23</td>\n",
       "      <td>0</td>\n",
       "      <td>191</td>\n",
       "      <td>1717</td>\n",
       "      <td>1717</td>\n",
       "      <td>1717</td>\n",
       "      <td>1717</td>\n",
       "    </tr>\n",
       "    <tr>\n",
       "      <th>9</th>\n",
       "      <td>1632</td>\n",
       "      <td>1632</td>\n",
       "      <td>4</td>\n",
       "      <td>0</td>\n",
       "      <td>38</td>\n",
       "      <td>1632</td>\n",
       "      <td>1632</td>\n",
       "      <td>1632</td>\n",
       "      <td>1632</td>\n",
       "    </tr>\n",
       "  </tbody>\n",
       "</table>\n",
       "</div>"
      ],
      "text/plain": [
       "          date  kp_h_x   Np_  Tp_     Vp_  B_gsm_x  B_gsm_y  B_gsm_z    Bmag\n",
       "target                                                                      \n",
       "0       522872  522872  1359    0  425187   522872   522872   522872  522872\n",
       "1       642125  642125  3392    0  494092   642125   642125   642125  642125\n",
       "2       400716  400716  4349    0  277822   400716   400716   400716  400716\n",
       "3       176174  176174  3780    0   91915   176174   176174   176174  176174\n",
       "4        50714   50714  1529    0   15521    50714    50714    50714   50714\n",
       "5        18133   18133   553    0    3189    18133    18133    18133   18133\n",
       "6         5758    5758   182    0     784     5758     5758     5758    5758\n",
       "7         3246    3246    55    0     239     3246     3246     3246    3246\n",
       "8         1717    1717    23    0     191     1717     1717     1717    1717\n",
       "9         1632    1632     4    0      38     1632     1632     1632    1632"
      ]
     },
     "execution_count": 103,
     "metadata": {},
     "output_type": "execute_result"
    }
   ],
   "source": [
    "data[change2none][data[change2none][\"Tp_\"].isnull()].groupby(\"target\").count()"
   ]
  },
  {
   "cell_type": "code",
   "execution_count": 104,
   "metadata": {
    "scrolled": true
   },
   "outputs": [
    {
     "data": {
      "text/html": [
       "<div>\n",
       "<style scoped>\n",
       "    .dataframe tbody tr th:only-of-type {\n",
       "        vertical-align: middle;\n",
       "    }\n",
       "\n",
       "    .dataframe tbody tr th {\n",
       "        vertical-align: top;\n",
       "    }\n",
       "\n",
       "    .dataframe thead th {\n",
       "        text-align: right;\n",
       "    }\n",
       "</style>\n",
       "<table border=\"1\" class=\"dataframe\">\n",
       "  <thead>\n",
       "    <tr style=\"text-align: right;\">\n",
       "      <th></th>\n",
       "      <th>date</th>\n",
       "      <th>kp_h_x</th>\n",
       "      <th>Np_</th>\n",
       "      <th>Tp_</th>\n",
       "      <th>Vp_</th>\n",
       "      <th>B_gsm_x</th>\n",
       "      <th>B_gsm_y</th>\n",
       "      <th>B_gsm_z</th>\n",
       "      <th>Bmag</th>\n",
       "    </tr>\n",
       "    <tr>\n",
       "      <th>target</th>\n",
       "      <th></th>\n",
       "      <th></th>\n",
       "      <th></th>\n",
       "      <th></th>\n",
       "      <th></th>\n",
       "      <th></th>\n",
       "      <th></th>\n",
       "      <th></th>\n",
       "      <th></th>\n",
       "    </tr>\n",
       "  </thead>\n",
       "  <tbody>\n",
       "    <tr>\n",
       "      <th>0</th>\n",
       "      <td>98310</td>\n",
       "      <td>98310</td>\n",
       "      <td>305</td>\n",
       "      <td>625</td>\n",
       "      <td>0</td>\n",
       "      <td>98310</td>\n",
       "      <td>98310</td>\n",
       "      <td>98310</td>\n",
       "      <td>98310</td>\n",
       "    </tr>\n",
       "    <tr>\n",
       "      <th>1</th>\n",
       "      <td>150593</td>\n",
       "      <td>150593</td>\n",
       "      <td>1524</td>\n",
       "      <td>2560</td>\n",
       "      <td>0</td>\n",
       "      <td>150593</td>\n",
       "      <td>150593</td>\n",
       "      <td>150593</td>\n",
       "      <td>150593</td>\n",
       "    </tr>\n",
       "    <tr>\n",
       "      <th>2</th>\n",
       "      <td>126457</td>\n",
       "      <td>126457</td>\n",
       "      <td>2687</td>\n",
       "      <td>3563</td>\n",
       "      <td>0</td>\n",
       "      <td>126457</td>\n",
       "      <td>126457</td>\n",
       "      <td>126457</td>\n",
       "      <td>126457</td>\n",
       "    </tr>\n",
       "    <tr>\n",
       "      <th>3</th>\n",
       "      <td>87280</td>\n",
       "      <td>87280</td>\n",
       "      <td>2548</td>\n",
       "      <td>3021</td>\n",
       "      <td>0</td>\n",
       "      <td>87280</td>\n",
       "      <td>87280</td>\n",
       "      <td>87280</td>\n",
       "      <td>87280</td>\n",
       "    </tr>\n",
       "    <tr>\n",
       "      <th>4</th>\n",
       "      <td>36420</td>\n",
       "      <td>36420</td>\n",
       "      <td>1093</td>\n",
       "      <td>1227</td>\n",
       "      <td>0</td>\n",
       "      <td>36420</td>\n",
       "      <td>36420</td>\n",
       "      <td>36420</td>\n",
       "      <td>36420</td>\n",
       "    </tr>\n",
       "    <tr>\n",
       "      <th>5</th>\n",
       "      <td>15325</td>\n",
       "      <td>15325</td>\n",
       "      <td>348</td>\n",
       "      <td>381</td>\n",
       "      <td>0</td>\n",
       "      <td>15325</td>\n",
       "      <td>15325</td>\n",
       "      <td>15325</td>\n",
       "      <td>15325</td>\n",
       "    </tr>\n",
       "    <tr>\n",
       "      <th>6</th>\n",
       "      <td>5062</td>\n",
       "      <td>5062</td>\n",
       "      <td>71</td>\n",
       "      <td>88</td>\n",
       "      <td>0</td>\n",
       "      <td>5062</td>\n",
       "      <td>5062</td>\n",
       "      <td>5062</td>\n",
       "      <td>5062</td>\n",
       "    </tr>\n",
       "    <tr>\n",
       "      <th>7</th>\n",
       "      <td>3042</td>\n",
       "      <td>3042</td>\n",
       "      <td>34</td>\n",
       "      <td>35</td>\n",
       "      <td>0</td>\n",
       "      <td>3042</td>\n",
       "      <td>3042</td>\n",
       "      <td>3042</td>\n",
       "      <td>3042</td>\n",
       "    </tr>\n",
       "    <tr>\n",
       "      <th>8</th>\n",
       "      <td>1531</td>\n",
       "      <td>1531</td>\n",
       "      <td>6</td>\n",
       "      <td>5</td>\n",
       "      <td>0</td>\n",
       "      <td>1531</td>\n",
       "      <td>1531</td>\n",
       "      <td>1531</td>\n",
       "      <td>1531</td>\n",
       "    </tr>\n",
       "    <tr>\n",
       "      <th>9</th>\n",
       "      <td>1594</td>\n",
       "      <td>1594</td>\n",
       "      <td>0</td>\n",
       "      <td>0</td>\n",
       "      <td>0</td>\n",
       "      <td>1594</td>\n",
       "      <td>1594</td>\n",
       "      <td>1594</td>\n",
       "      <td>1594</td>\n",
       "    </tr>\n",
       "  </tbody>\n",
       "</table>\n",
       "</div>"
      ],
      "text/plain": [
       "          date  kp_h_x   Np_   Tp_  Vp_  B_gsm_x  B_gsm_y  B_gsm_z    Bmag\n",
       "target                                                                    \n",
       "0        98310   98310   305   625    0    98310    98310    98310   98310\n",
       "1       150593  150593  1524  2560    0   150593   150593   150593  150593\n",
       "2       126457  126457  2687  3563    0   126457   126457   126457  126457\n",
       "3        87280   87280  2548  3021    0    87280    87280    87280   87280\n",
       "4        36420   36420  1093  1227    0    36420    36420    36420   36420\n",
       "5        15325   15325   348   381    0    15325    15325    15325   15325\n",
       "6         5062    5062    71    88    0     5062     5062     5062    5062\n",
       "7         3042    3042    34    35    0     3042     3042     3042    3042\n",
       "8         1531    1531     6     5    0     1531     1531     1531    1531\n",
       "9         1594    1594     0     0    0     1594     1594     1594    1594"
      ]
     },
     "execution_count": 104,
     "metadata": {},
     "output_type": "execute_result"
    }
   ],
   "source": [
    "data[change2none][data[change2none][\"Vp_\"].isnull()].groupby(\"target\").count()"
   ]
  },
  {
   "cell_type": "code",
   "execution_count": 108,
   "metadata": {},
   "outputs": [
    {
     "data": {
      "text/plain": [
       "25267"
      ]
     },
     "execution_count": 108,
     "metadata": {},
     "output_type": "execute_result"
    }
   ],
   "source": [
    "# problem에서 Np, Tp, Vp가 모두 결측값인 row의 갯수\n",
    "\n",
    "mightNine = problem[problem[\"Np\"]<0]\n",
    "mightNine = mightNine[mightNine[\"Tp\"]<0]\n",
    "mightNine = mightNine[mightNine[\"Vp\"]<0]\n",
    "len(mightNine)"
   ]
  },
  {
   "cell_type": "markdown",
   "metadata": {},
   "source": [
    "> groupby.mean"
   ]
  },
  {
   "cell_type": "code",
   "execution_count": 109,
   "metadata": {
    "scrolled": true
   },
   "outputs": [
    {
     "data": {
      "text/html": [
       "<div>\n",
       "<style scoped>\n",
       "    .dataframe tbody tr th:only-of-type {\n",
       "        vertical-align: middle;\n",
       "    }\n",
       "\n",
       "    .dataframe tbody tr th {\n",
       "        vertical-align: top;\n",
       "    }\n",
       "\n",
       "    .dataframe thead th {\n",
       "        text-align: right;\n",
       "    }\n",
       "</style>\n",
       "<table border=\"1\" class=\"dataframe\">\n",
       "  <thead>\n",
       "    <tr style=\"text-align: right;\">\n",
       "      <th></th>\n",
       "      <th>Np_</th>\n",
       "      <th>Tp_</th>\n",
       "      <th>Vp_</th>\n",
       "      <th>B_gsm_x</th>\n",
       "      <th>B_gsm_y</th>\n",
       "      <th>B_gsm_z</th>\n",
       "      <th>Bmag</th>\n",
       "    </tr>\n",
       "    <tr>\n",
       "      <th>target</th>\n",
       "      <th></th>\n",
       "      <th></th>\n",
       "      <th></th>\n",
       "      <th></th>\n",
       "      <th></th>\n",
       "      <th></th>\n",
       "      <th></th>\n",
       "    </tr>\n",
       "  </thead>\n",
       "  <tbody>\n",
       "    <tr>\n",
       "      <th>0</th>\n",
       "      <td>NaN</td>\n",
       "      <td>46643.908631</td>\n",
       "      <td>330.108948</td>\n",
       "      <td>-15.696745</td>\n",
       "      <td>-16.333268</td>\n",
       "      <td>-15.362674</td>\n",
       "      <td>-12.256689</td>\n",
       "    </tr>\n",
       "    <tr>\n",
       "      <th>1</th>\n",
       "      <td>NaN</td>\n",
       "      <td>60029.560451</td>\n",
       "      <td>355.337486</td>\n",
       "      <td>-11.834854</td>\n",
       "      <td>-12.281203</td>\n",
       "      <td>-11.784075</td>\n",
       "      <td>-7.641864</td>\n",
       "    </tr>\n",
       "    <tr>\n",
       "      <th>2</th>\n",
       "      <td>NaN</td>\n",
       "      <td>85379.674178</td>\n",
       "      <td>385.870993</td>\n",
       "      <td>-8.470971</td>\n",
       "      <td>-9.061724</td>\n",
       "      <td>-8.926770</td>\n",
       "      <td>-3.311646</td>\n",
       "    </tr>\n",
       "    <tr>\n",
       "      <th>3</th>\n",
       "      <td>NaN</td>\n",
       "      <td>121294.052276</td>\n",
       "      <td>425.055868</td>\n",
       "      <td>-22.236233</td>\n",
       "      <td>-22.793968</td>\n",
       "      <td>-23.352766</td>\n",
       "      <td>-15.880770</td>\n",
       "    </tr>\n",
       "    <tr>\n",
       "      <th>4</th>\n",
       "      <td>NaN</td>\n",
       "      <td>144939.444957</td>\n",
       "      <td>470.241264</td>\n",
       "      <td>-35.782869</td>\n",
       "      <td>-36.673441</td>\n",
       "      <td>-37.976053</td>\n",
       "      <td>-27.608663</td>\n",
       "    </tr>\n",
       "    <tr>\n",
       "      <th>5</th>\n",
       "      <td>NaN</td>\n",
       "      <td>162786.688273</td>\n",
       "      <td>484.673199</td>\n",
       "      <td>-0.700316</td>\n",
       "      <td>-0.585416</td>\n",
       "      <td>-3.392786</td>\n",
       "      <td>9.875913</td>\n",
       "    </tr>\n",
       "    <tr>\n",
       "      <th>6</th>\n",
       "      <td>NaN</td>\n",
       "      <td>136114.298212</td>\n",
       "      <td>487.336052</td>\n",
       "      <td>0.995496</td>\n",
       "      <td>1.000574</td>\n",
       "      <td>-3.855597</td>\n",
       "      <td>14.386703</td>\n",
       "    </tr>\n",
       "    <tr>\n",
       "      <th>7</th>\n",
       "      <td>NaN</td>\n",
       "      <td>146154.581477</td>\n",
       "      <td>585.355649</td>\n",
       "      <td>-2.968377</td>\n",
       "      <td>1.598904</td>\n",
       "      <td>-3.044749</td>\n",
       "      <td>20.995321</td>\n",
       "    </tr>\n",
       "    <tr>\n",
       "      <th>8</th>\n",
       "      <td>NaN</td>\n",
       "      <td>250533.508021</td>\n",
       "      <td>665.011271</td>\n",
       "      <td>-19.067504</td>\n",
       "      <td>-11.253680</td>\n",
       "      <td>-22.672210</td>\n",
       "      <td>14.179373</td>\n",
       "    </tr>\n",
       "    <tr>\n",
       "      <th>9</th>\n",
       "      <td>NaN</td>\n",
       "      <td>54693.000000</td>\n",
       "      <td>650.408810</td>\n",
       "      <td>-2.265898</td>\n",
       "      <td>6.738824</td>\n",
       "      <td>-11.941158</td>\n",
       "      <td>33.435928</td>\n",
       "    </tr>\n",
       "  </tbody>\n",
       "</table>\n",
       "</div>"
      ],
      "text/plain": [
       "        Np_            Tp_         Vp_    B_gsm_x    B_gsm_y    B_gsm_z  \\\n",
       "target                                                                    \n",
       "0       NaN   46643.908631  330.108948 -15.696745 -16.333268 -15.362674   \n",
       "1       NaN   60029.560451  355.337486 -11.834854 -12.281203 -11.784075   \n",
       "2       NaN   85379.674178  385.870993  -8.470971  -9.061724  -8.926770   \n",
       "3       NaN  121294.052276  425.055868 -22.236233 -22.793968 -23.352766   \n",
       "4       NaN  144939.444957  470.241264 -35.782869 -36.673441 -37.976053   \n",
       "5       NaN  162786.688273  484.673199  -0.700316  -0.585416  -3.392786   \n",
       "6       NaN  136114.298212  487.336052   0.995496   1.000574  -3.855597   \n",
       "7       NaN  146154.581477  585.355649  -2.968377   1.598904  -3.044749   \n",
       "8       NaN  250533.508021  665.011271 -19.067504 -11.253680 -22.672210   \n",
       "9       NaN   54693.000000  650.408810  -2.265898   6.738824 -11.941158   \n",
       "\n",
       "             Bmag  \n",
       "target             \n",
       "0      -12.256689  \n",
       "1       -7.641864  \n",
       "2       -3.311646  \n",
       "3      -15.880770  \n",
       "4      -27.608663  \n",
       "5        9.875913  \n",
       "6       14.386703  \n",
       "7       20.995321  \n",
       "8       14.179373  \n",
       "9       33.435928  "
      ]
     },
     "execution_count": 109,
     "metadata": {},
     "output_type": "execute_result"
    }
   ],
   "source": [
    "data[change2none][data[change2none][\"Np_\"].isnull()].groupby(\"target\").mean()"
   ]
  },
  {
   "cell_type": "code",
   "execution_count": 110,
   "metadata": {},
   "outputs": [
    {
     "data": {
      "text/html": [
       "<div>\n",
       "<style scoped>\n",
       "    .dataframe tbody tr th:only-of-type {\n",
       "        vertical-align: middle;\n",
       "    }\n",
       "\n",
       "    .dataframe tbody tr th {\n",
       "        vertical-align: top;\n",
       "    }\n",
       "\n",
       "    .dataframe thead th {\n",
       "        text-align: right;\n",
       "    }\n",
       "</style>\n",
       "<table border=\"1\" class=\"dataframe\">\n",
       "  <thead>\n",
       "    <tr style=\"text-align: right;\">\n",
       "      <th></th>\n",
       "      <th>Np_</th>\n",
       "      <th>Tp_</th>\n",
       "      <th>Vp_</th>\n",
       "      <th>B_gsm_x</th>\n",
       "      <th>B_gsm_y</th>\n",
       "      <th>B_gsm_z</th>\n",
       "      <th>Bmag</th>\n",
       "    </tr>\n",
       "    <tr>\n",
       "      <th>target</th>\n",
       "      <th></th>\n",
       "      <th></th>\n",
       "      <th></th>\n",
       "      <th></th>\n",
       "      <th></th>\n",
       "      <th></th>\n",
       "      <th></th>\n",
       "    </tr>\n",
       "  </thead>\n",
       "  <tbody>\n",
       "    <tr>\n",
       "      <th>0</th>\n",
       "      <td>3.820259</td>\n",
       "      <td>NaN</td>\n",
       "      <td>316.131411</td>\n",
       "      <td>-20.496382</td>\n",
       "      <td>-21.056757</td>\n",
       "      <td>-20.202385</td>\n",
       "      <td>-17.061035</td>\n",
       "    </tr>\n",
       "    <tr>\n",
       "      <th>1</th>\n",
       "      <td>4.397577</td>\n",
       "      <td>NaN</td>\n",
       "      <td>329.089420</td>\n",
       "      <td>-17.051552</td>\n",
       "      <td>-17.364384</td>\n",
       "      <td>-17.047283</td>\n",
       "      <td>-12.828182</td>\n",
       "    </tr>\n",
       "    <tr>\n",
       "      <th>2</th>\n",
       "      <td>4.987266</td>\n",
       "      <td>NaN</td>\n",
       "      <td>342.252223</td>\n",
       "      <td>-13.238297</td>\n",
       "      <td>-13.715218</td>\n",
       "      <td>-13.646404</td>\n",
       "      <td>-7.896803</td>\n",
       "    </tr>\n",
       "    <tr>\n",
       "      <th>3</th>\n",
       "      <td>5.615963</td>\n",
       "      <td>NaN</td>\n",
       "      <td>357.268531</td>\n",
       "      <td>-38.087293</td>\n",
       "      <td>-38.549916</td>\n",
       "      <td>-39.088989</td>\n",
       "      <td>-31.440162</td>\n",
       "    </tr>\n",
       "    <tr>\n",
       "      <th>4</th>\n",
       "      <td>5.628788</td>\n",
       "      <td>NaN</td>\n",
       "      <td>399.331146</td>\n",
       "      <td>-66.609470</td>\n",
       "      <td>-66.932506</td>\n",
       "      <td>-68.641227</td>\n",
       "      <td>-58.255811</td>\n",
       "    </tr>\n",
       "    <tr>\n",
       "      <th>5</th>\n",
       "      <td>5.790153</td>\n",
       "      <td>NaN</td>\n",
       "      <td>431.057065</td>\n",
       "      <td>-1.092744</td>\n",
       "      <td>-0.717955</td>\n",
       "      <td>-3.089339</td>\n",
       "      <td>9.767630</td>\n",
       "    </tr>\n",
       "    <tr>\n",
       "      <th>6</th>\n",
       "      <td>7.257171</td>\n",
       "      <td>NaN</td>\n",
       "      <td>470.254670</td>\n",
       "      <td>-0.057796</td>\n",
       "      <td>1.700415</td>\n",
       "      <td>-3.544385</td>\n",
       "      <td>13.794285</td>\n",
       "    </tr>\n",
       "    <tr>\n",
       "      <th>7</th>\n",
       "      <td>8.598000</td>\n",
       "      <td>NaN</td>\n",
       "      <td>444.608870</td>\n",
       "      <td>-4.002286</td>\n",
       "      <td>0.051679</td>\n",
       "      <td>-1.967939</td>\n",
       "      <td>22.028947</td>\n",
       "    </tr>\n",
       "    <tr>\n",
       "      <th>8</th>\n",
       "      <td>7.239522</td>\n",
       "      <td>NaN</td>\n",
       "      <td>694.521728</td>\n",
       "      <td>-4.230888</td>\n",
       "      <td>1.202974</td>\n",
       "      <td>-7.765692</td>\n",
       "      <td>29.777639</td>\n",
       "    </tr>\n",
       "    <tr>\n",
       "      <th>9</th>\n",
       "      <td>15.138000</td>\n",
       "      <td>NaN</td>\n",
       "      <td>643.931842</td>\n",
       "      <td>-2.334286</td>\n",
       "      <td>6.752853</td>\n",
       "      <td>-11.889728</td>\n",
       "      <td>33.474900</td>\n",
       "    </tr>\n",
       "  </tbody>\n",
       "</table>\n",
       "</div>"
      ],
      "text/plain": [
       "              Np_  Tp_         Vp_    B_gsm_x    B_gsm_y    B_gsm_z       Bmag\n",
       "target                                                                        \n",
       "0        3.820259  NaN  316.131411 -20.496382 -21.056757 -20.202385 -17.061035\n",
       "1        4.397577  NaN  329.089420 -17.051552 -17.364384 -17.047283 -12.828182\n",
       "2        4.987266  NaN  342.252223 -13.238297 -13.715218 -13.646404  -7.896803\n",
       "3        5.615963  NaN  357.268531 -38.087293 -38.549916 -39.088989 -31.440162\n",
       "4        5.628788  NaN  399.331146 -66.609470 -66.932506 -68.641227 -58.255811\n",
       "5        5.790153  NaN  431.057065  -1.092744  -0.717955  -3.089339   9.767630\n",
       "6        7.257171  NaN  470.254670  -0.057796   1.700415  -3.544385  13.794285\n",
       "7        8.598000  NaN  444.608870  -4.002286   0.051679  -1.967939  22.028947\n",
       "8        7.239522  NaN  694.521728  -4.230888   1.202974  -7.765692  29.777639\n",
       "9       15.138000  NaN  643.931842  -2.334286   6.752853 -11.889728  33.474900"
      ]
     },
     "execution_count": 110,
     "metadata": {},
     "output_type": "execute_result"
    }
   ],
   "source": [
    "data[change2none][data[change2none][\"Tp_\"].isnull()].groupby(\"target\").mean()"
   ]
  },
  {
   "cell_type": "code",
   "execution_count": 111,
   "metadata": {
    "scrolled": true
   },
   "outputs": [
    {
     "data": {
      "text/html": [
       "<div>\n",
       "<style scoped>\n",
       "    .dataframe tbody tr th:only-of-type {\n",
       "        vertical-align: middle;\n",
       "    }\n",
       "\n",
       "    .dataframe tbody tr th {\n",
       "        vertical-align: top;\n",
       "    }\n",
       "\n",
       "    .dataframe thead th {\n",
       "        text-align: right;\n",
       "    }\n",
       "</style>\n",
       "<table border=\"1\" class=\"dataframe\">\n",
       "  <thead>\n",
       "    <tr style=\"text-align: right;\">\n",
       "      <th></th>\n",
       "      <th>Np_</th>\n",
       "      <th>Tp_</th>\n",
       "      <th>Vp_</th>\n",
       "      <th>B_gsm_x</th>\n",
       "      <th>B_gsm_y</th>\n",
       "      <th>B_gsm_z</th>\n",
       "      <th>Bmag</th>\n",
       "    </tr>\n",
       "    <tr>\n",
       "      <th>target</th>\n",
       "      <th></th>\n",
       "      <th></th>\n",
       "      <th></th>\n",
       "      <th></th>\n",
       "      <th></th>\n",
       "      <th></th>\n",
       "      <th></th>\n",
       "    </tr>\n",
       "  </thead>\n",
       "  <tbody>\n",
       "    <tr>\n",
       "      <th>0</th>\n",
       "      <td>3.932800</td>\n",
       "      <td>55766.243198</td>\n",
       "      <td>NaN</td>\n",
       "      <td>-106.586628</td>\n",
       "      <td>-107.516821</td>\n",
       "      <td>-106.416846</td>\n",
       "      <td>-103.030223</td>\n",
       "    </tr>\n",
       "    <tr>\n",
       "      <th>1</th>\n",
       "      <td>4.603612</td>\n",
       "      <td>71853.778116</td>\n",
       "      <td>NaN</td>\n",
       "      <td>-71.856149</td>\n",
       "      <td>-72.299956</td>\n",
       "      <td>-71.839802</td>\n",
       "      <td>-67.388322</td>\n",
       "    </tr>\n",
       "    <tr>\n",
       "      <th>2</th>\n",
       "      <td>5.178176</td>\n",
       "      <td>97752.825371</td>\n",
       "      <td>NaN</td>\n",
       "      <td>-42.056982</td>\n",
       "      <td>-42.471322</td>\n",
       "      <td>-42.220002</td>\n",
       "      <td>-36.477979</td>\n",
       "    </tr>\n",
       "    <tr>\n",
       "      <th>3</th>\n",
       "      <td>5.918566</td>\n",
       "      <td>139023.576594</td>\n",
       "      <td>NaN</td>\n",
       "      <td>-77.254873</td>\n",
       "      <td>-77.477792</td>\n",
       "      <td>-77.680235</td>\n",
       "      <td>-70.483909</td>\n",
       "    </tr>\n",
       "    <tr>\n",
       "      <th>4</th>\n",
       "      <td>6.943608</td>\n",
       "      <td>173906.477870</td>\n",
       "      <td>NaN</td>\n",
       "      <td>-90.217256</td>\n",
       "      <td>-90.363173</td>\n",
       "      <td>-91.354989</td>\n",
       "      <td>-81.765068</td>\n",
       "    </tr>\n",
       "    <tr>\n",
       "      <th>5</th>\n",
       "      <td>7.715390</td>\n",
       "      <td>201417.671976</td>\n",
       "      <td>NaN</td>\n",
       "      <td>-1.319898</td>\n",
       "      <td>-1.025339</td>\n",
       "      <td>-2.507079</td>\n",
       "      <td>9.566785</td>\n",
       "    </tr>\n",
       "    <tr>\n",
       "      <th>6</th>\n",
       "      <td>10.002262</td>\n",
       "      <td>209979.488989</td>\n",
       "      <td>NaN</td>\n",
       "      <td>0.058114</td>\n",
       "      <td>1.530859</td>\n",
       "      <td>-3.241563</td>\n",
       "      <td>13.862854</td>\n",
       "    </tr>\n",
       "    <tr>\n",
       "      <th>7</th>\n",
       "      <td>18.790176</td>\n",
       "      <td>188528.468571</td>\n",
       "      <td>NaN</td>\n",
       "      <td>-4.488422</td>\n",
       "      <td>-0.499630</td>\n",
       "      <td>-1.126328</td>\n",
       "      <td>22.297121</td>\n",
       "    </tr>\n",
       "    <tr>\n",
       "      <th>8</th>\n",
       "      <td>22.409000</td>\n",
       "      <td>185015.400000</td>\n",
       "      <td>NaN</td>\n",
       "      <td>-4.245083</td>\n",
       "      <td>1.085314</td>\n",
       "      <td>-9.803320</td>\n",
       "      <td>30.621244</td>\n",
       "    </tr>\n",
       "    <tr>\n",
       "      <th>9</th>\n",
       "      <td>NaN</td>\n",
       "      <td>NaN</td>\n",
       "      <td>NaN</td>\n",
       "      <td>-2.167088</td>\n",
       "      <td>7.108560</td>\n",
       "      <td>-11.839483</td>\n",
       "      <td>33.608565</td>\n",
       "    </tr>\n",
       "  </tbody>\n",
       "</table>\n",
       "</div>"
      ],
      "text/plain": [
       "              Np_            Tp_  Vp_     B_gsm_x     B_gsm_y     B_gsm_z  \\\n",
       "target                                                                      \n",
       "0        3.932800   55766.243198  NaN -106.586628 -107.516821 -106.416846   \n",
       "1        4.603612   71853.778116  NaN  -71.856149  -72.299956  -71.839802   \n",
       "2        5.178176   97752.825371  NaN  -42.056982  -42.471322  -42.220002   \n",
       "3        5.918566  139023.576594  NaN  -77.254873  -77.477792  -77.680235   \n",
       "4        6.943608  173906.477870  NaN  -90.217256  -90.363173  -91.354989   \n",
       "5        7.715390  201417.671976  NaN   -1.319898   -1.025339   -2.507079   \n",
       "6       10.002262  209979.488989  NaN    0.058114    1.530859   -3.241563   \n",
       "7       18.790176  188528.468571  NaN   -4.488422   -0.499630   -1.126328   \n",
       "8       22.409000  185015.400000  NaN   -4.245083    1.085314   -9.803320   \n",
       "9             NaN            NaN  NaN   -2.167088    7.108560  -11.839483   \n",
       "\n",
       "              Bmag  \n",
       "target              \n",
       "0      -103.030223  \n",
       "1       -67.388322  \n",
       "2       -36.477979  \n",
       "3       -70.483909  \n",
       "4       -81.765068  \n",
       "5         9.566785  \n",
       "6        13.862854  \n",
       "7        22.297121  \n",
       "8        30.621244  \n",
       "9        33.608565  "
      ]
     },
     "execution_count": 111,
     "metadata": {},
     "output_type": "execute_result"
    }
   ],
   "source": [
    "data[change2none][data[change2none][\"Vp_\"].isnull()].groupby(\"target\").mean()"
   ]
  },
  {
   "cell_type": "markdown",
   "metadata": {},
   "source": [
    "> 전체에서 groupby"
   ]
  },
  {
   "cell_type": "code",
   "execution_count": 112,
   "metadata": {},
   "outputs": [
    {
     "data": {
      "text/html": [
       "<div>\n",
       "<style scoped>\n",
       "    .dataframe tbody tr th:only-of-type {\n",
       "        vertical-align: middle;\n",
       "    }\n",
       "\n",
       "    .dataframe tbody tr th {\n",
       "        vertical-align: top;\n",
       "    }\n",
       "\n",
       "    .dataframe thead th {\n",
       "        text-align: right;\n",
       "    }\n",
       "</style>\n",
       "<table border=\"1\" class=\"dataframe\">\n",
       "  <thead>\n",
       "    <tr style=\"text-align: right;\">\n",
       "      <th></th>\n",
       "      <th>date</th>\n",
       "      <th>kp_h_x</th>\n",
       "      <th>Np_</th>\n",
       "      <th>Tp_</th>\n",
       "      <th>Vp_</th>\n",
       "      <th>B_gsm_x</th>\n",
       "      <th>B_gsm_y</th>\n",
       "      <th>B_gsm_z</th>\n",
       "      <th>Bmag</th>\n",
       "    </tr>\n",
       "    <tr>\n",
       "      <th>target</th>\n",
       "      <th></th>\n",
       "      <th></th>\n",
       "      <th></th>\n",
       "      <th></th>\n",
       "      <th></th>\n",
       "      <th></th>\n",
       "      <th></th>\n",
       "      <th></th>\n",
       "      <th></th>\n",
       "    </tr>\n",
       "  </thead>\n",
       "  <tbody>\n",
       "    <tr>\n",
       "      <th>0</th>\n",
       "      <td>1044116</td>\n",
       "      <td>1044116</td>\n",
       "      <td>353137</td>\n",
       "      <td>521244</td>\n",
       "      <td>945806</td>\n",
       "      <td>1044116</td>\n",
       "      <td>1044116</td>\n",
       "      <td>1044116</td>\n",
       "      <td>1044116</td>\n",
       "    </tr>\n",
       "    <tr>\n",
       "      <th>1</th>\n",
       "      <td>1940917</td>\n",
       "      <td>1940917</td>\n",
       "      <td>944612</td>\n",
       "      <td>1298792</td>\n",
       "      <td>1790324</td>\n",
       "      <td>1940917</td>\n",
       "      <td>1940917</td>\n",
       "      <td>1940917</td>\n",
       "      <td>1940917</td>\n",
       "    </tr>\n",
       "    <tr>\n",
       "      <th>2</th>\n",
       "      <td>1994652</td>\n",
       "      <td>1994652</td>\n",
       "      <td>1328411</td>\n",
       "      <td>1593936</td>\n",
       "      <td>1868195</td>\n",
       "      <td>1994652</td>\n",
       "      <td>1994652</td>\n",
       "      <td>1994652</td>\n",
       "      <td>1994652</td>\n",
       "    </tr>\n",
       "    <tr>\n",
       "      <th>3</th>\n",
       "      <td>1519628</td>\n",
       "      <td>1519628</td>\n",
       "      <td>1219913</td>\n",
       "      <td>1343454</td>\n",
       "      <td>1432348</td>\n",
       "      <td>1519628</td>\n",
       "      <td>1519628</td>\n",
       "      <td>1519628</td>\n",
       "      <td>1519628</td>\n",
       "    </tr>\n",
       "    <tr>\n",
       "      <th>4</th>\n",
       "      <td>625845</td>\n",
       "      <td>625845</td>\n",
       "      <td>532486</td>\n",
       "      <td>575131</td>\n",
       "      <td>589425</td>\n",
       "      <td>625845</td>\n",
       "      <td>625845</td>\n",
       "      <td>625845</td>\n",
       "      <td>625845</td>\n",
       "    </tr>\n",
       "    <tr>\n",
       "      <th>5</th>\n",
       "      <td>211388</td>\n",
       "      <td>211388</td>\n",
       "      <td>180398</td>\n",
       "      <td>193255</td>\n",
       "      <td>196063</td>\n",
       "      <td>211388</td>\n",
       "      <td>211388</td>\n",
       "      <td>211388</td>\n",
       "      <td>211388</td>\n",
       "    </tr>\n",
       "    <tr>\n",
       "      <th>6</th>\n",
       "      <td>62914</td>\n",
       "      <td>62914</td>\n",
       "      <td>52779</td>\n",
       "      <td>57156</td>\n",
       "      <td>57852</td>\n",
       "      <td>62914</td>\n",
       "      <td>62914</td>\n",
       "      <td>62914</td>\n",
       "      <td>62914</td>\n",
       "    </tr>\n",
       "    <tr>\n",
       "      <th>7</th>\n",
       "      <td>20086</td>\n",
       "      <td>20086</td>\n",
       "      <td>16069</td>\n",
       "      <td>16840</td>\n",
       "      <td>17044</td>\n",
       "      <td>20086</td>\n",
       "      <td>20086</td>\n",
       "      <td>20086</td>\n",
       "      <td>20086</td>\n",
       "    </tr>\n",
       "    <tr>\n",
       "      <th>8</th>\n",
       "      <td>6750</td>\n",
       "      <td>6750</td>\n",
       "      <td>4682</td>\n",
       "      <td>5033</td>\n",
       "      <td>5219</td>\n",
       "      <td>6750</td>\n",
       "      <td>6750</td>\n",
       "      <td>6750</td>\n",
       "      <td>6750</td>\n",
       "    </tr>\n",
       "    <tr>\n",
       "      <th>9</th>\n",
       "      <td>3208</td>\n",
       "      <td>3208</td>\n",
       "      <td>1572</td>\n",
       "      <td>1576</td>\n",
       "      <td>1614</td>\n",
       "      <td>3208</td>\n",
       "      <td>3208</td>\n",
       "      <td>3208</td>\n",
       "      <td>3208</td>\n",
       "    </tr>\n",
       "  </tbody>\n",
       "</table>\n",
       "</div>"
      ],
      "text/plain": [
       "           date   kp_h_x      Np_      Tp_      Vp_  B_gsm_x  B_gsm_y  \\\n",
       "target                                                                  \n",
       "0       1044116  1044116   353137   521244   945806  1044116  1044116   \n",
       "1       1940917  1940917   944612  1298792  1790324  1940917  1940917   \n",
       "2       1994652  1994652  1328411  1593936  1868195  1994652  1994652   \n",
       "3       1519628  1519628  1219913  1343454  1432348  1519628  1519628   \n",
       "4        625845   625845   532486   575131   589425   625845   625845   \n",
       "5        211388   211388   180398   193255   196063   211388   211388   \n",
       "6         62914    62914    52779    57156    57852    62914    62914   \n",
       "7         20086    20086    16069    16840    17044    20086    20086   \n",
       "8          6750     6750     4682     5033     5219     6750     6750   \n",
       "9          3208     3208     1572     1576     1614     3208     3208   \n",
       "\n",
       "        B_gsm_z     Bmag  \n",
       "target                    \n",
       "0       1044116  1044116  \n",
       "1       1940917  1940917  \n",
       "2       1994652  1994652  \n",
       "3       1519628  1519628  \n",
       "4        625845   625845  \n",
       "5        211388   211388  \n",
       "6         62914    62914  \n",
       "7         20086    20086  \n",
       "8          6750     6750  \n",
       "9          3208     3208  "
      ]
     },
     "execution_count": 112,
     "metadata": {},
     "output_type": "execute_result"
    }
   ],
   "source": [
    "data[change2none].groupby(\"target\").count()"
   ]
  },
  {
   "cell_type": "markdown",
   "metadata": {},
   "source": [
    "# 결측 갯수에 대한 새로운 컬럼 생성"
   ]
  },
  {
   "cell_type": "code",
   "execution_count": 8,
   "metadata": {},
   "outputs": [],
   "source": [
    "data[\"error\"] = data[\"Np\"].map(lambda x: 1 if x < 0 else 0) + \\\n",
    "                data[\"Tp\"].map(lambda x: 1 if x < 0 else 0) + \\\n",
    "                data[\"Vp\"].map(lambda x: 1 if x < 0 else 0)"
   ]
  },
  {
   "cell_type": "code",
   "execution_count": 114,
   "metadata": {},
   "outputs": [
    {
     "data": {
      "text/plain": [
       "<matplotlib.axes._subplots.AxesSubplot at 0x2547d0c3278>"
      ]
     },
     "execution_count": 114,
     "metadata": {},
     "output_type": "execute_result"
    },
    {
     "data": {
      "image/png": "[encoded data removed]",
      "text/plain": [
       "<Figure size 432x288 with 1 Axes>"
      ]
     },
     "metadata": {
      "needs_background": "light"
     },
     "output_type": "display_data"
    }
   ],
   "source": [
    "sns.barplot(x=\"target\", y=\"error\", data=data)"
   ]
  },
  {
   "cell_type": "code",
   "execution_count": 118,
   "metadata": {},
   "outputs": [
    {
     "data": {
      "text/html": [
       "<div>\n",
       "<style scoped>\n",
       "    .dataframe tbody tr th:only-of-type {\n",
       "        vertical-align: middle;\n",
       "    }\n",
       "\n",
       "    .dataframe tbody tr th {\n",
       "        vertical-align: top;\n",
       "    }\n",
       "\n",
       "    .dataframe thead th {\n",
       "        text-align: right;\n",
       "    }\n",
       "</style>\n",
       "<table border=\"1\" class=\"dataframe\">\n",
       "  <thead>\n",
       "    <tr style=\"text-align: right;\">\n",
       "      <th></th>\n",
       "      <th>date</th>\n",
       "      <th>kp_h_x</th>\n",
       "      <th>Np_</th>\n",
       "      <th>Tp_</th>\n",
       "      <th>Vp_</th>\n",
       "      <th>B_gsm_x</th>\n",
       "      <th>B_gsm_y</th>\n",
       "      <th>B_gsm_z</th>\n",
       "      <th>Bmag</th>\n",
       "      <th>target</th>\n",
       "    </tr>\n",
       "    <tr>\n",
       "      <th>error</th>\n",
       "      <th></th>\n",
       "      <th></th>\n",
       "      <th></th>\n",
       "      <th></th>\n",
       "      <th></th>\n",
       "      <th></th>\n",
       "      <th></th>\n",
       "      <th></th>\n",
       "      <th></th>\n",
       "      <th></th>\n",
       "    </tr>\n",
       "  </thead>\n",
       "  <tbody>\n",
       "    <tr>\n",
       "      <th>0</th>\n",
       "      <td>4610434</td>\n",
       "      <td>4610434</td>\n",
       "      <td>4610434</td>\n",
       "      <td>4610434</td>\n",
       "      <td>4610434</td>\n",
       "      <td>4610434</td>\n",
       "      <td>4610434</td>\n",
       "      <td>4610434</td>\n",
       "      <td>4610434</td>\n",
       "      <td>4610434</td>\n",
       "    </tr>\n",
       "    <tr>\n",
       "      <th>1</th>\n",
       "      <td>1007886</td>\n",
       "      <td>1007886</td>\n",
       "      <td>23408</td>\n",
       "      <td>992877</td>\n",
       "      <td>999487</td>\n",
       "      <td>1007886</td>\n",
       "      <td>1007886</td>\n",
       "      <td>1007886</td>\n",
       "      <td>1007886</td>\n",
       "      <td>1007886</td>\n",
       "    </tr>\n",
       "    <tr>\n",
       "      <th>2</th>\n",
       "      <td>1297292</td>\n",
       "      <td>1297292</td>\n",
       "      <td>217</td>\n",
       "      <td>3106</td>\n",
       "      <td>1293969</td>\n",
       "      <td>1297292</td>\n",
       "      <td>1297292</td>\n",
       "      <td>1297292</td>\n",
       "      <td>1297292</td>\n",
       "      <td>1297292</td>\n",
       "    </tr>\n",
       "    <tr>\n",
       "      <th>3</th>\n",
       "      <td>513892</td>\n",
       "      <td>513892</td>\n",
       "      <td>0</td>\n",
       "      <td>0</td>\n",
       "      <td>0</td>\n",
       "      <td>513892</td>\n",
       "      <td>513892</td>\n",
       "      <td>513892</td>\n",
       "      <td>513892</td>\n",
       "      <td>513892</td>\n",
       "    </tr>\n",
       "  </tbody>\n",
       "</table>\n",
       "</div>"
      ],
      "text/plain": [
       "          date   kp_h_x      Np_      Tp_      Vp_  B_gsm_x  B_gsm_y  B_gsm_z  \\\n",
       "error                                                                           \n",
       "0      4610434  4610434  4610434  4610434  4610434  4610434  4610434  4610434   \n",
       "1      1007886  1007886    23408   992877   999487  1007886  1007886  1007886   \n",
       "2      1297292  1297292      217     3106  1293969  1297292  1297292  1297292   \n",
       "3       513892   513892        0        0        0   513892   513892   513892   \n",
       "\n",
       "          Bmag   target  \n",
       "error                    \n",
       "0      4610434  4610434  \n",
       "1      1007886  1007886  \n",
       "2      1297292  1297292  \n",
       "3       513892   513892  "
      ]
     },
     "execution_count": 118,
     "metadata": {},
     "output_type": "execute_result"
    }
   ],
   "source": [
    "data[change2none+[\"error\"]].groupby(\"error\").count()"
   ]
  },
  {
   "cell_type": "markdown",
   "metadata": {},
   "source": [
    "> Np, Tp, Vp가 모두 결측값인 경우는 예측에 영향을 줄 것 같다."
   ]
  },
  {
   "cell_type": "code",
   "execution_count": 126,
   "metadata": {},
   "outputs": [
    {
     "data": {
      "text/plain": [
       "<matplotlib.axes._subplots.AxesSubplot at 0x2547d9761d0>"
      ]
     },
     "execution_count": 126,
     "metadata": {},
     "output_type": "execute_result"
    },
    {
     "data": {
      "image/png": "[encoded data removed]",
      "text/plain": [
       "<Figure size 432x288 with 2 Axes>"
      ]
     },
     "metadata": {
      "needs_background": "light"
     },
     "output_type": "display_data"
    }
   ],
   "source": [
    "sns.heatmap(data[[\"target\", \"error\", \"date\"]].groupby([\"target\", \"error\"]).count().unstack())"
   ]
  },
  {
   "cell_type": "code",
   "execution_count": 9,
   "metadata": {},
   "outputs": [],
   "source": [
    "# 세개 다 error일때만 1로 한다.\n",
    "\n",
    "data[\"error2\"] = data[\"error\"].map({0:1, 1:0, 2:0, 3:0})"
   ]
  },
  {
   "cell_type": "code",
   "execution_count": 134,
   "metadata": {},
   "outputs": [
    {
     "data": {
      "text/plain": [
       "<matplotlib.axes._subplots.AxesSubplot at 0x254859aa320>"
      ]
     },
     "execution_count": 134,
     "metadata": {},
     "output_type": "execute_result"
    },
    {
     "data": {
      "image/png": "[encoded data removed]",
      "text/plain": [
       "<Figure size 432x288 with 2 Axes>"
      ]
     },
     "metadata": {
      "needs_background": "light"
     },
     "output_type": "display_data"
    }
   ],
   "source": [
    "sns.heatmap(data[[\"target\", \"error2\", \"date\"]].groupby([\"target\", \"error2\"]).count().unstack())"
   ]
  },
  {
   "cell_type": "markdown",
   "metadata": {},
   "source": [
    "> 시간은 중요한 변수가 아닌 것 같다."
   ]
  },
  {
   "cell_type": "code",
   "execution_count": 131,
   "metadata": {},
   "outputs": [
    {
     "data": {
      "text/plain": [
       "<matplotlib.axes._subplots.AxesSubplot at 0x2565ce7bf60>"
      ]
     },
     "execution_count": 131,
     "metadata": {},
     "output_type": "execute_result"
    },
    {
     "data": {
      "image/png": "[encoded data removed]",
      "text/plain": [
       "<Figure size 432x288 with 2 Axes>"
      ]
     },
     "metadata": {
      "needs_background": "light"
     },
     "output_type": "display_data"
    }
   ],
   "source": [
    "sns.heatmap(data[[\"target\", \"kp_h_x\", \"date\"]].groupby([\"target\", \"kp_h_x\"]).count().unstack())"
   ]
  },
  {
   "cell_type": "code",
   "execution_count": 10,
   "metadata": {},
   "outputs": [],
   "source": [
    "try1 = data[[\"Vp_\",\"B_gsm_x\", \"B_gsm_y\", \"B_gsm_z\", \"Bmag\", \"error\", \"target\"]]"
   ]
  },
  {
   "cell_type": "markdown",
   "metadata": {},
   "source": [
    "# 결측값 채우기"
   ]
  },
  {
   "cell_type": "code",
   "execution_count": 11,
   "metadata": {},
   "outputs": [
    {
     "name": "stderr",
     "output_type": "stream",
     "text": [
      "C:\\Users\\JINHYO\\Anaconda3\\lib\\site-packages\\ipykernel_launcher.py:1: SettingWithCopyWarning: \n",
      "A value is trying to be set on a copy of a slice from a DataFrame.\n",
      "Try using .loc[row_indexer,col_indexer] = value instead\n",
      "\n",
      "See the caveats in the documentation: http://pandas.pydata.org/pandas-docs/stable/indexing.html#indexing-view-versus-copy\n",
      "  \"\"\"Entry point for launching an IPython kernel.\n"
     ]
    }
   ],
   "source": [
    "try1[\"Vp_\"] = try1.Vp_.interpolate()"
   ]
  },
  {
   "cell_type": "code",
   "execution_count": 12,
   "metadata": {},
   "outputs": [
    {
     "data": {
      "text/html": [
       "<div>\n",
       "<style scoped>\n",
       "    .dataframe tbody tr th:only-of-type {\n",
       "        vertical-align: middle;\n",
       "    }\n",
       "\n",
       "    .dataframe tbody tr th {\n",
       "        vertical-align: top;\n",
       "    }\n",
       "\n",
       "    .dataframe thead th {\n",
       "        text-align: right;\n",
       "    }\n",
       "</style>\n",
       "<table border=\"1\" class=\"dataframe\">\n",
       "  <thead>\n",
       "    <tr style=\"text-align: right;\">\n",
       "      <th></th>\n",
       "      <th>Vp_</th>\n",
       "      <th>B_gsm_x</th>\n",
       "      <th>B_gsm_y</th>\n",
       "      <th>B_gsm_z</th>\n",
       "      <th>Bmag</th>\n",
       "      <th>error</th>\n",
       "      <th>target</th>\n",
       "    </tr>\n",
       "  </thead>\n",
       "  <tbody>\n",
       "    <tr>\n",
       "      <th>0</th>\n",
       "      <td>406.00</td>\n",
       "      <td>-2.174</td>\n",
       "      <td>-2.598</td>\n",
       "      <td>5.550</td>\n",
       "      <td>6.630</td>\n",
       "      <td>0</td>\n",
       "      <td>0</td>\n",
       "    </tr>\n",
       "    <tr>\n",
       "      <th>1</th>\n",
       "      <td>419.12</td>\n",
       "      <td>-1.245</td>\n",
       "      <td>-0.140</td>\n",
       "      <td>6.558</td>\n",
       "      <td>6.796</td>\n",
       "      <td>0</td>\n",
       "      <td>0</td>\n",
       "    </tr>\n",
       "    <tr>\n",
       "      <th>2</th>\n",
       "      <td>411.99</td>\n",
       "      <td>-2.003</td>\n",
       "      <td>-1.198</td>\n",
       "      <td>6.306</td>\n",
       "      <td>6.802</td>\n",
       "      <td>0</td>\n",
       "      <td>0</td>\n",
       "    </tr>\n",
       "    <tr>\n",
       "      <th>3</th>\n",
       "      <td>405.25</td>\n",
       "      <td>-3.093</td>\n",
       "      <td>-2.483</td>\n",
       "      <td>5.545</td>\n",
       "      <td>6.854</td>\n",
       "      <td>0</td>\n",
       "      <td>0</td>\n",
       "    </tr>\n",
       "    <tr>\n",
       "      <th>4</th>\n",
       "      <td>406.76</td>\n",
       "      <td>-3.009</td>\n",
       "      <td>-1.500</td>\n",
       "      <td>5.908</td>\n",
       "      <td>6.842</td>\n",
       "      <td>3</td>\n",
       "      <td>0</td>\n",
       "    </tr>\n",
       "  </tbody>\n",
       "</table>\n",
       "</div>"
      ],
      "text/plain": [
       "      Vp_  B_gsm_x  B_gsm_y  B_gsm_z   Bmag  error  target\n",
       "0  406.00   -2.174   -2.598    5.550  6.630      0       0\n",
       "1  419.12   -1.245   -0.140    6.558  6.796      0       0\n",
       "2  411.99   -2.003   -1.198    6.306  6.802      0       0\n",
       "3  405.25   -3.093   -2.483    5.545  6.854      0       0\n",
       "4  406.76   -3.009   -1.500    5.908  6.842      3       0"
      ]
     },
     "execution_count": 12,
     "metadata": {},
     "output_type": "execute_result"
    }
   ],
   "source": [
    "try1.head()"
   ]
  },
  {
   "cell_type": "markdown",
   "metadata": {},
   "source": [
    "---"
   ]
  },
  {
   "cell_type": "markdown",
   "metadata": {},
   "source": [
    "# B_gsm_x, B_gsm_y, B_gsm_z, Bmag 컬럼을 3시간 단위로  min, median 처리"
   ]
  },
  {
   "cell_type": "code",
   "execution_count": 15,
   "metadata": {},
   "outputs": [],
   "source": [
    "try1 = pd.concat([data[[\"date\", \"kp_h_x\"]], try1], axis=1)"
   ]
  },
  {
   "cell_type": "code",
   "execution_count": 44,
   "metadata": {},
   "outputs": [],
   "source": [
    "try1_min = try1.iloc[:,:-2].groupby([\"date\", \"kp_h_x\"]).min().reset_index(drop=True)"
   ]
  },
  {
   "cell_type": "code",
   "execution_count": 45,
   "metadata": {},
   "outputs": [],
   "source": [
    "minCol = {_:_+\"_min\" for _ in try1_min.columns}"
   ]
  },
  {
   "cell_type": "code",
   "execution_count": 46,
   "metadata": {},
   "outputs": [],
   "source": [
    "try1_min.rename(columns=meanCol, inplace=True)"
   ]
  },
  {
   "cell_type": "code",
   "execution_count": 47,
   "metadata": {},
   "outputs": [],
   "source": [
    "try1_median = try1.iloc[:,:-2].groupby([\"date\", \"kp_h_x\"]).median().reset_index(drop=True)"
   ]
  },
  {
   "cell_type": "code",
   "execution_count": 48,
   "metadata": {},
   "outputs": [],
   "source": [
    "medianCol = {_:_+\"_median\" for _ in try1_median.columns}"
   ]
  },
  {
   "cell_type": "code",
   "execution_count": 49,
   "metadata": {},
   "outputs": [],
   "source": [
    "try1_median.rename(columns=medianCol, inplace=True)"
   ]
  },
  {
   "cell_type": "markdown",
   "metadata": {},
   "source": [
    "# error 컬럼을 3시간 단위로 mean 처리"
   ]
  },
  {
   "cell_type": "code",
   "execution_count": 56,
   "metadata": {},
   "outputs": [],
   "source": [
    "try1_error = try1[[\"date\", \"kp_h_x\", \"error\"]].groupby([\"date\", \"kp_h_x\"]).mean().reset_index(drop=True)"
   ]
  },
  {
   "cell_type": "code",
   "execution_count": 57,
   "metadata": {},
   "outputs": [],
   "source": [
    "fdata = pd.concat([try1_min, try1_median, try1_error], axis=1)"
   ]
  },
  {
   "cell_type": "markdown",
   "metadata": {},
   "source": [
    "---"
   ]
  },
  {
   "cell_type": "markdown",
   "metadata": {},
   "source": [
    "# target 데이터 전처리"
   ]
  },
  {
   "cell_type": "code",
   "execution_count": 65,
   "metadata": {},
   "outputs": [],
   "source": [
    "def target_melt(target:pd.DataFrame, year:int) -> pd.DataFrame :\n",
    "    \"\"\"지자기교란 지수 데이터를 column 1개로 만들어준다. \n",
    "    \n",
    "    parameters\n",
    "    -----------\n",
    "    - target: 지자기교란 지수 DataFrame.\n",
    "    - date: 필요한 연도.\n",
    "    \"\"\"\n",
    "    # 연도 잘라내기\n",
    "    target[\"index\"] = target.date\n",
    "    target = target.set_index(\"index\").loc[f\"{year}-01-01\":f\"{year}-12-31\"]\n",
    "    \n",
    "    # kp_h명 바꾸기\n",
    "    cols = {\n",
    "        \"kp_0h\":\"kp_00h\",\n",
    "        \"kp_3h\":\"kp_03h\",\n",
    "        \"kp_6h\":\"kp_06h\",\n",
    "        \"kp_9h\":\"kp_09h\",\n",
    "    }\n",
    "    target.rename(columns=cols, inplace=True)\n",
    "        \n",
    "    # melt\n",
    "    return target.melt(\"date\").sort_values([\"date\", \"variable\"]).reset_index(drop=True)"
   ]
  },
  {
   "cell_type": "code",
   "execution_count": 85,
   "metadata": {},
   "outputs": [],
   "source": [
    "target_melted = {k: target_melt(target, k) for k in range(1999,2014)}"
   ]
  },
  {
   "cell_type": "code",
   "execution_count": 86,
   "metadata": {},
   "outputs": [],
   "source": [
    "target_melted = pd.concat(target_melted.values(), axis=0).reset_index(drop=True)"
   ]
  },
  {
   "cell_type": "code",
   "execution_count": 87,
   "metadata": {},
   "outputs": [
    {
     "data": {
      "text/html": [
       "<div>\n",
       "<style scoped>\n",
       "    .dataframe tbody tr th:only-of-type {\n",
       "        vertical-align: middle;\n",
       "    }\n",
       "\n",
       "    .dataframe tbody tr th {\n",
       "        vertical-align: top;\n",
       "    }\n",
       "\n",
       "    .dataframe thead th {\n",
       "        text-align: right;\n",
       "    }\n",
       "</style>\n",
       "<table border=\"1\" class=\"dataframe\">\n",
       "  <thead>\n",
       "    <tr style=\"text-align: right;\">\n",
       "      <th></th>\n",
       "      <th>date</th>\n",
       "      <th>variable</th>\n",
       "      <th>value</th>\n",
       "    </tr>\n",
       "  </thead>\n",
       "  <tbody>\n",
       "    <tr>\n",
       "      <th>0</th>\n",
       "      <td>1999-01-01</td>\n",
       "      <td>kp_00h</td>\n",
       "      <td>0</td>\n",
       "    </tr>\n",
       "    <tr>\n",
       "      <th>1</th>\n",
       "      <td>1999-01-01</td>\n",
       "      <td>kp_03h</td>\n",
       "      <td>2</td>\n",
       "    </tr>\n",
       "    <tr>\n",
       "      <th>2</th>\n",
       "      <td>1999-01-01</td>\n",
       "      <td>kp_06h</td>\n",
       "      <td>1</td>\n",
       "    </tr>\n",
       "    <tr>\n",
       "      <th>3</th>\n",
       "      <td>1999-01-01</td>\n",
       "      <td>kp_09h</td>\n",
       "      <td>2</td>\n",
       "    </tr>\n",
       "    <tr>\n",
       "      <th>4</th>\n",
       "      <td>1999-01-01</td>\n",
       "      <td>kp_12h</td>\n",
       "      <td>2</td>\n",
       "    </tr>\n",
       "  </tbody>\n",
       "</table>\n",
       "</div>"
      ],
      "text/plain": [
       "         date variable  value\n",
       "0  1999-01-01   kp_00h      0\n",
       "1  1999-01-01   kp_03h      2\n",
       "2  1999-01-01   kp_06h      1\n",
       "3  1999-01-01   kp_09h      2\n",
       "4  1999-01-01   kp_12h      2"
      ]
     },
     "execution_count": 87,
     "metadata": {},
     "output_type": "execute_result"
    }
   ],
   "source": [
    "target_melted.head()"
   ]
  },
  {
   "cell_type": "code",
   "execution_count": 88,
   "metadata": {},
   "outputs": [
    {
     "data": {
      "text/plain": [
       "(43832, 43832)"
      ]
     },
     "execution_count": 88,
     "metadata": {},
     "output_type": "execute_result"
    }
   ],
   "source": [
    "len(fdata), len(target_melted)"
   ]
  },
  {
   "cell_type": "code",
   "execution_count": 89,
   "metadata": {},
   "outputs": [
    {
     "name": "stdout",
     "output_type": "stream",
     "text": [
      "<class 'pandas.core.frame.DataFrame'>\n",
      "RangeIndex: 43832 entries, 0 to 43831\n",
      "Data columns (total 11 columns):\n",
      "Vp__mean          43832 non-null float64\n",
      "B_gsm_x_mean      43832 non-null float64\n",
      "B_gsm_y_mean      43832 non-null float64\n",
      "B_gsm_z_mean      43832 non-null float64\n",
      "Bmag_mean         43832 non-null float64\n",
      "Vp__median        43832 non-null float64\n",
      "B_gsm_x_median    43832 non-null float64\n",
      "B_gsm_y_median    43832 non-null float64\n",
      "B_gsm_z_median    43832 non-null float64\n",
      "Bmag_median       43832 non-null float64\n",
      "error             43832 non-null float64\n",
      "dtypes: float64(11)\n",
      "memory usage: 3.7 MB\n"
     ]
    }
   ],
   "source": [
    "fdata.info()"
   ]
  },
  {
   "cell_type": "code",
   "execution_count": 90,
   "metadata": {},
   "outputs": [
    {
     "name": "stdout",
     "output_type": "stream",
     "text": [
      "<class 'pandas.core.frame.DataFrame'>\n",
      "RangeIndex: 43832 entries, 0 to 43831\n",
      "Data columns (total 3 columns):\n",
      "date        43832 non-null object\n",
      "variable    43832 non-null object\n",
      "value       43832 non-null int64\n",
      "dtypes: int64(1), object(2)\n",
      "memory usage: 1.0+ MB\n"
     ]
    }
   ],
   "source": [
    "target_melted.info()"
   ]
  },
  {
   "cell_type": "markdown",
   "metadata": {},
   "source": [
    "---"
   ]
  },
  {
   "cell_type": "markdown",
   "metadata": {},
   "source": [
    "# train 데이터와 target 데이터 합치기"
   ]
  },
  {
   "cell_type": "code",
   "execution_count": null,
   "metadata": {},
   "outputs": [],
   "source": [
    "fdata = pd.concat([fdata, target_melted], axis=1)"
   ]
  },
  {
   "cell_type": "code",
   "execution_count": 96,
   "metadata": {},
   "outputs": [],
   "source": [
    "fdata = fdata.drop(columns=[\"date\", \"variable\"]).rename(columns={\"value\":\"target\"})"
   ]
  },
  {
   "cell_type": "markdown",
   "metadata": {},
   "source": [
    "---"
   ]
  },
  {
   "cell_type": "markdown",
   "metadata": {},
   "source": [
    "# 평가함수"
   ]
  },
  {
   "cell_type": "code",
   "execution_count": 58,
   "metadata": {},
   "outputs": [],
   "source": [
    "import math"
   ]
  },
  {
   "cell_type": "code",
   "execution_count": 102,
   "metadata": {},
   "outputs": [],
   "source": [
    "def weightedRMSE(model, test):\n",
    "    \"\"\"홈페이지에 공지된 평가기준\"\"\"\n",
    "    ks = test.target.to_numpy()\n",
    "    kps = model.predict(test.iloc[:,:-1])\n",
    "    sum_temp = 0\n",
    "    n = sum(ks)\n",
    "\n",
    "    for k, kp in zip(ks, kps):\n",
    "        temp = ((kp-k)**2) * (k/n)\n",
    "        sum_temp += temp\n",
    "\n",
    "    return math.sqrt(sum_temp)"
   ]
  },
  {
   "cell_type": "markdown",
   "metadata": {},
   "source": [
    "---"
   ]
  },
  {
   "cell_type": "markdown",
   "metadata": {},
   "source": [
    "# train test split"
   ]
  },
  {
   "cell_type": "code",
   "execution_count": 97,
   "metadata": {},
   "outputs": [],
   "source": [
    "split = 365*8\n",
    "\n",
    "train = fdata[:-split]\n",
    "test = fdata[-split:]"
   ]
  },
  {
   "cell_type": "markdown",
   "metadata": {},
   "source": [
    "----"
   ]
  },
  {
   "cell_type": "markdown",
   "metadata": {},
   "source": [
    "# 모델"
   ]
  },
  {
   "cell_type": "code",
   "execution_count": 61,
   "metadata": {},
   "outputs": [],
   "source": [
    "from sklearn.linear_model import LogisticRegression"
   ]
  },
  {
   "cell_type": "code",
   "execution_count": 62,
   "metadata": {},
   "outputs": [],
   "source": [
    "lr_l1 = LogisticRegression(penalty='l1')"
   ]
  },
  {
   "cell_type": "code",
   "execution_count": 99,
   "metadata": {},
   "outputs": [
    {
     "name": "stderr",
     "output_type": "stream",
     "text": [
      "C:\\Users\\JINHYO\\Anaconda3\\lib\\site-packages\\sklearn\\linear_model\\logistic.py:433: FutureWarning: Default solver will be changed to 'lbfgs' in 0.22. Specify a solver to silence this warning.\n",
      "  FutureWarning)\n",
      "C:\\Users\\JINHYO\\Anaconda3\\lib\\site-packages\\sklearn\\linear_model\\logistic.py:460: FutureWarning: Default multi_class will be changed to 'auto' in 0.22. Specify the multi_class option to silence this warning.\n",
      "  \"this warning.\", FutureWarning)\n",
      "C:\\Users\\JINHYO\\Anaconda3\\lib\\site-packages\\sklearn\\svm\\base.py:931: ConvergenceWarning: Liblinear failed to converge, increase the number of iterations.\n",
      "  \"the number of iterations.\", ConvergenceWarning)\n"
     ]
    },
    {
     "data": {
      "text/plain": [
       "LogisticRegression(C=1.0, class_weight=None, dual=False, fit_intercept=True,\n",
       "          intercept_scaling=1, max_iter=100, multi_class='warn',\n",
       "          n_jobs=None, penalty='l1', random_state=None, solver='warn',\n",
       "          tol=0.0001, verbose=0, warm_start=False)"
      ]
     },
     "execution_count": 99,
     "metadata": {},
     "output_type": "execute_result"
    }
   ],
   "source": [
    "lr_l1.fit(train.iloc[:,:-1], train.target)"
   ]
  },
  {
   "cell_type": "code",
   "execution_count": 103,
   "metadata": {},
   "outputs": [
    {
     "data": {
      "text/plain": [
       "0.9918671031255697"
      ]
     },
     "execution_count": 103,
     "metadata": {},
     "output_type": "execute_result"
    }
   ],
   "source": [
    "weightedRMSE(lr_l1, test)"
   ]
  },
  {
   "cell_type": "code",
   "execution_count": 155,
   "metadata": {},
   "outputs": [],
   "source": [
    "l1_pred = lr_l1.predict(test.iloc[:,:-1])"
   ]
  },
  {
   "cell_type": "code",
   "execution_count": 156,
   "metadata": {},
   "outputs": [
    {
     "data": {
      "text/plain": [
       "[<matplotlib.lines.Line2D at 0x257da723c18>]"
      ]
     },
     "execution_count": 156,
     "metadata": {},
     "output_type": "execute_result"
    },
    {
     "data": {
      "image/png": "[encoded data removed]",
      "text/plain": [
       "<Figure size 432x288 with 1 Axes>"
      ]
     },
     "metadata": {
      "needs_background": "light"
     },
     "output_type": "display_data"
    }
   ],
   "source": [
    "plt.plot(l1_pred)"
   ]
  },
  {
   "cell_type": "markdown",
   "metadata": {},
   "source": [
    "---"
   ]
  },
  {
   "cell_type": "markdown",
   "metadata": {},
   "source": [
    "# problem 전처리"
   ]
  },
  {
   "cell_type": "code",
   "execution_count": 104,
   "metadata": {},
   "outputs": [],
   "source": [
    "problem[\"error\"] = problem[\"Np\"].map(lambda x: 1 if x < 0 else 0) + \\\n",
    "                problem[\"Tp\"].map(lambda x: 1 if x < 0 else 0) + \\\n",
    "                problem[\"Vp\"].map(lambda x: 1 if x < 0 else 0)"
   ]
  },
  {
   "cell_type": "code",
   "execution_count": 116,
   "metadata": {},
   "outputs": [
    {
     "data": {
      "text/html": [
       "<div>\n",
       "<style scoped>\n",
       "    .dataframe tbody tr th:only-of-type {\n",
       "        vertical-align: middle;\n",
       "    }\n",
       "\n",
       "    .dataframe tbody tr th {\n",
       "        vertical-align: top;\n",
       "    }\n",
       "\n",
       "    .dataframe thead th {\n",
       "        text-align: right;\n",
       "    }\n",
       "</style>\n",
       "<table border=\"1\" class=\"dataframe\">\n",
       "  <thead>\n",
       "    <tr style=\"text-align: right;\">\n",
       "      <th></th>\n",
       "      <th>doy</th>\n",
       "      <th>h</th>\n",
       "      <th>m</th>\n",
       "      <th>Np</th>\n",
       "      <th>Tp</th>\n",
       "      <th>Vp</th>\n",
       "      <th>B_gsm_x</th>\n",
       "      <th>B_gsm_y</th>\n",
       "      <th>B_gsm_z</th>\n",
       "      <th>Bmag</th>\n",
       "      <th>error</th>\n",
       "      <th>Vp_</th>\n",
       "    </tr>\n",
       "  </thead>\n",
       "  <tbody>\n",
       "    <tr>\n",
       "      <th>0</th>\n",
       "      <td>1</td>\n",
       "      <td>kp_00h</td>\n",
       "      <td>0</td>\n",
       "      <td>1.852</td>\n",
       "      <td>41618.0</td>\n",
       "      <td>455.61</td>\n",
       "      <td>6.098</td>\n",
       "      <td>2.449</td>\n",
       "      <td>-13.415</td>\n",
       "      <td>14.952</td>\n",
       "      <td>0</td>\n",
       "      <td>455.61</td>\n",
       "    </tr>\n",
       "    <tr>\n",
       "      <th>1</th>\n",
       "      <td>1</td>\n",
       "      <td>kp_00h</td>\n",
       "      <td>1</td>\n",
       "      <td>2.181</td>\n",
       "      <td>33781.0</td>\n",
       "      <td>461.07</td>\n",
       "      <td>6.700</td>\n",
       "      <td>1.502</td>\n",
       "      <td>-13.232</td>\n",
       "      <td>14.912</td>\n",
       "      <td>0</td>\n",
       "      <td>461.07</td>\n",
       "    </tr>\n",
       "    <tr>\n",
       "      <th>2</th>\n",
       "      <td>1</td>\n",
       "      <td>kp_00h</td>\n",
       "      <td>2</td>\n",
       "      <td>2.415</td>\n",
       "      <td>34709.0</td>\n",
       "      <td>464.84</td>\n",
       "      <td>7.390</td>\n",
       "      <td>0.523</td>\n",
       "      <td>-12.941</td>\n",
       "      <td>14.928</td>\n",
       "      <td>0</td>\n",
       "      <td>464.84</td>\n",
       "    </tr>\n",
       "    <tr>\n",
       "      <th>3</th>\n",
       "      <td>1</td>\n",
       "      <td>kp_00h</td>\n",
       "      <td>3</td>\n",
       "      <td>2.359</td>\n",
       "      <td>34183.0</td>\n",
       "      <td>470.76</td>\n",
       "      <td>8.011</td>\n",
       "      <td>-0.098</td>\n",
       "      <td>-12.694</td>\n",
       "      <td>15.013</td>\n",
       "      <td>0</td>\n",
       "      <td>470.76</td>\n",
       "    </tr>\n",
       "    <tr>\n",
       "      <th>4</th>\n",
       "      <td>1</td>\n",
       "      <td>kp_00h</td>\n",
       "      <td>4</td>\n",
       "      <td>1.237</td>\n",
       "      <td>32467.0</td>\n",
       "      <td>469.51</td>\n",
       "      <td>7.493</td>\n",
       "      <td>0.410</td>\n",
       "      <td>-13.058</td>\n",
       "      <td>15.064</td>\n",
       "      <td>0</td>\n",
       "      <td>469.51</td>\n",
       "    </tr>\n",
       "  </tbody>\n",
       "</table>\n",
       "</div>"
      ],
      "text/plain": [
       "   doy       h  m     Np       Tp      Vp  B_gsm_x  B_gsm_y  B_gsm_z    Bmag  \\\n",
       "0    1  kp_00h  0  1.852  41618.0  455.61    6.098    2.449  -13.415  14.952   \n",
       "1    1  kp_00h  1  2.181  33781.0  461.07    6.700    1.502  -13.232  14.912   \n",
       "2    1  kp_00h  2  2.415  34709.0  464.84    7.390    0.523  -12.941  14.928   \n",
       "3    1  kp_00h  3  2.359  34183.0  470.76    8.011   -0.098  -12.694  15.013   \n",
       "4    1  kp_00h  4  1.237  32467.0  469.51    7.493    0.410  -13.058  15.064   \n",
       "\n",
       "   error     Vp_  \n",
       "0      0  455.61  \n",
       "1      0  461.07  \n",
       "2      0  464.84  \n",
       "3      0  470.76  \n",
       "4      0  469.51  "
      ]
     },
     "execution_count": 116,
     "metadata": {},
     "output_type": "execute_result"
    }
   ],
   "source": [
    "problem.head()"
   ]
  },
  {
   "cell_type": "code",
   "execution_count": 108,
   "metadata": {},
   "outputs": [],
   "source": [
    "problem[\"Vp_\"] = problem.Vp.map(lambda x: None if x<0 else x)"
   ]
  },
  {
   "cell_type": "code",
   "execution_count": 109,
   "metadata": {},
   "outputs": [],
   "source": [
    "problem[\"Vp_\"] = problem.Vp_.interpolate()"
   ]
  },
  {
   "cell_type": "code",
   "execution_count": 112,
   "metadata": {},
   "outputs": [],
   "source": [
    "problem[\"h\"] = problem[\"h\"].map({\n",
    "                        0:\"kp_00h\",    1:\"kp_00h\",    2:\"kp_00h\",\n",
    "                        3:\"kp_03h\",    4:\"kp_03h\",    5:\"kp_03h\",\n",
    "                        6:\"kp_06h\",    7:\"kp_06h\",    8:\"kp_06h\",\n",
    "                        9:\"kp_09h\",    10:\"kp_09h\",    11:\"kp_09h\",\n",
    "                        12:\"kp_12h\",    13:\"kp_12h\",    14:\"kp_12h\",\n",
    "                        15:\"kp_15h\",    16:\"kp_15h\",    17:\"kp_15h\",\n",
    "                        18:\"kp_18h\",    19:\"kp_18h\",    20:\"kp_18h\",\n",
    "                        21:\"kp_21h\",    22:\"kp_21h\",    23:\"kp_21h\",\n",
    "                                  })"
   ]
  },
  {
   "cell_type": "code",
   "execution_count": 115,
   "metadata": {},
   "outputs": [],
   "source": [
    "problem_error = problem[[\"doy\", \"h\", \"error\"]].groupby([\"doy\", \"h\"]).mean().reset_index(drop=True)"
   ]
  },
  {
   "cell_type": "code",
   "execution_count": 118,
   "metadata": {},
   "outputs": [],
   "source": [
    "problem_min = problem[[\"doy\", \"h\", \"Vp_\", \"B_gsm_x\", \"B_gsm_y\", \"B_gsm_z\", \"Bmag\"]].groupby([\"doy\", \"h\"]).min().reset_index(drop=True)"
   ]
  },
  {
   "cell_type": "code",
   "execution_count": 119,
   "metadata": {},
   "outputs": [],
   "source": [
    "minCol = {_:_+\"_min\" for _ in problem_min.columns}"
   ]
  },
  {
   "cell_type": "code",
   "execution_count": 120,
   "metadata": {},
   "outputs": [],
   "source": [
    "problem_min.rename(columns=meanCol, inplace=True)"
   ]
  },
  {
   "cell_type": "code",
   "execution_count": 121,
   "metadata": {},
   "outputs": [],
   "source": [
    "problem_median = problem[[\"doy\", \"h\", \"Vp_\", \"B_gsm_x\", \"B_gsm_y\", \"B_gsm_z\", \"Bmag\"]].groupby([\"doy\", \"h\"]).median().reset_index(drop=True)"
   ]
  },
  {
   "cell_type": "code",
   "execution_count": 122,
   "metadata": {},
   "outputs": [],
   "source": [
    "medianCol = {_:_+\"_median\" for _ in problem_median.columns}"
   ]
  },
  {
   "cell_type": "code",
   "execution_count": 123,
   "metadata": {},
   "outputs": [],
   "source": [
    "problem_median.rename(columns=medianCol, inplace=True)"
   ]
  },
  {
   "cell_type": "code",
   "execution_count": 129,
   "metadata": {},
   "outputs": [],
   "source": [
    "problem = pd.concat([problem_median, problem_min, problem_error], axis=1)"
   ]
  },
  {
   "cell_type": "markdown",
   "metadata": {},
   "source": [
    "---"
   ]
  },
  {
   "cell_type": "markdown",
   "metadata": {},
   "source": [
    "# 결과 제출"
   ]
  },
  {
   "cell_type": "code",
   "execution_count": 130,
   "metadata": {},
   "outputs": [],
   "source": [
    "re = lr_l1.predict(problem)"
   ]
  },
  {
   "cell_type": "code",
   "execution_count": 133,
   "metadata": {},
   "outputs": [],
   "source": [
    "result = re"
   ]
  },
  {
   "cell_type": "code",
   "execution_count": 134,
   "metadata": {},
   "outputs": [
    {
     "data": {
      "text/html": [
       "<div>\n",
       "<style scoped>\n",
       "    .dataframe tbody tr th:only-of-type {\n",
       "        vertical-align: middle;\n",
       "    }\n",
       "\n",
       "    .dataframe tbody tr th {\n",
       "        vertical-align: top;\n",
       "    }\n",
       "\n",
       "    .dataframe thead th {\n",
       "        text-align: right;\n",
       "    }\n",
       "</style>\n",
       "<table border=\"1\" class=\"dataframe\">\n",
       "  <thead>\n",
       "    <tr style=\"text-align: right;\">\n",
       "      <th></th>\n",
       "      <th>kp_0h</th>\n",
       "      <th>kp_3h</th>\n",
       "      <th>kp_6h</th>\n",
       "      <th>kp_9h</th>\n",
       "      <th>kp_12h</th>\n",
       "      <th>kp_15h</th>\n",
       "      <th>kp_18h</th>\n",
       "      <th>kp_21h</th>\n",
       "    </tr>\n",
       "  </thead>\n",
       "  <tbody>\n",
       "    <tr>\n",
       "      <th>1</th>\n",
       "      <td>3</td>\n",
       "      <td>3</td>\n",
       "      <td>3</td>\n",
       "      <td>1</td>\n",
       "      <td>2</td>\n",
       "      <td>2</td>\n",
       "      <td>1</td>\n",
       "      <td>1</td>\n",
       "    </tr>\n",
       "    <tr>\n",
       "      <th>2</th>\n",
       "      <td>2</td>\n",
       "      <td>2</td>\n",
       "      <td>2</td>\n",
       "      <td>2</td>\n",
       "      <td>1</td>\n",
       "      <td>2</td>\n",
       "      <td>2</td>\n",
       "      <td>1</td>\n",
       "    </tr>\n",
       "    <tr>\n",
       "      <th>3</th>\n",
       "      <td>1</td>\n",
       "      <td>2</td>\n",
       "      <td>2</td>\n",
       "      <td>2</td>\n",
       "      <td>2</td>\n",
       "      <td>2</td>\n",
       "      <td>1</td>\n",
       "      <td>1</td>\n",
       "    </tr>\n",
       "    <tr>\n",
       "      <th>4</th>\n",
       "      <td>1</td>\n",
       "      <td>2</td>\n",
       "      <td>1</td>\n",
       "      <td>1</td>\n",
       "      <td>1</td>\n",
       "      <td>2</td>\n",
       "      <td>2</td>\n",
       "      <td>1</td>\n",
       "    </tr>\n",
       "    <tr>\n",
       "      <th>5</th>\n",
       "      <td>1</td>\n",
       "      <td>1</td>\n",
       "      <td>2</td>\n",
       "      <td>2</td>\n",
       "      <td>1</td>\n",
       "      <td>2</td>\n",
       "      <td>2</td>\n",
       "      <td>3</td>\n",
       "    </tr>\n",
       "  </tbody>\n",
       "</table>\n",
       "</div>"
      ],
      "text/plain": [
       "   kp_0h  kp_3h  kp_6h  kp_9h  kp_12h  kp_15h  kp_18h  kp_21h\n",
       "1      3      3      3      1       2       2       1       1\n",
       "2      2      2      2      2       1       2       2       1\n",
       "3      1      2      2      2       2       2       1       1\n",
       "4      1      2      1      1       1       2       2       1\n",
       "5      1      1      2      2       1       2       2       3"
      ]
     },
     "execution_count": 134,
     "metadata": {},
     "output_type": "execute_result"
    }
   ],
   "source": [
    "result = result.reshape((-1, 8))\n",
    "result = pd.DataFrame(result, columns=target.columns[1:-1], index=range(1, len(result)+1))\n",
    "result.head()"
   ]
  },
  {
   "cell_type": "code",
   "execution_count": 135,
   "metadata": {},
   "outputs": [],
   "source": [
    "result.to_csv(\"result.csv\")"
   ]
  },
  {
   "cell_type": "markdown",
   "metadata": {},
   "source": [
    "## knn"
   ]
  },
  {
   "cell_type": "code",
   "execution_count": 136,
   "metadata": {},
   "outputs": [],
   "source": [
    "from sklearn.neighbors import KNeighborsClassifier"
   ]
  },
  {
   "cell_type": "code",
   "execution_count": 152,
   "metadata": {},
   "outputs": [],
   "source": [
    "knn5 = KNeighborsClassifier(n_neighbors=50)\n",
    "knn300 = KNeighborsClassifier(n_neighbors=150)"
   ]
  },
  {
   "cell_type": "code",
   "execution_count": 153,
   "metadata": {},
   "outputs": [
    {
     "data": {
      "text/plain": [
       "KNeighborsClassifier(algorithm='auto', leaf_size=30, metric='minkowski',\n",
       "           metric_params=None, n_jobs=None, n_neighbors=150, p=2,\n",
       "           weights='uniform')"
      ]
     },
     "execution_count": 153,
     "metadata": {},
     "output_type": "execute_result"
    }
   ],
   "source": [
    "knn5.fit(train.iloc[:,:-1], train.target)\n",
    "knn300.fit(train.iloc[:,:-1], train.target)"
   ]
  },
  {
   "cell_type": "code",
   "execution_count": 154,
   "metadata": {},
   "outputs": [
    {
     "data": {
      "text/plain": [
       "1.0397106562339973"
      ]
     },
     "execution_count": 154,
     "metadata": {},
     "output_type": "execute_result"
    }
   ],
   "source": [
    "weightedRMSE(knn5, test)"
   ]
  },
  {
   "cell_type": "code",
   "execution_count": 151,
   "metadata": {},
   "outputs": [
    {
     "data": {
      "text/plain": [
       "1.054346354229018"
      ]
     },
     "execution_count": 151,
     "metadata": {},
     "output_type": "execute_result"
    }
   ],
   "source": [
    "weightedRMSE(knn300, test)"
   ]
  },
  {
   "cell_type": "code",
   "execution_count": 141,
   "metadata": {},
   "outputs": [
    {
     "data": {
      "text/plain": [
       "40912"
      ]
     },
     "execution_count": 141,
     "metadata": {},
     "output_type": "execute_result"
    }
   ],
   "source": [
    "len(train)"
   ]
  },
  {
   "cell_type": "markdown",
   "metadata": {},
   "source": [
    "---"
   ]
  },
  {
   "cell_type": "code",
   "execution_count": null,
   "metadata": {},
   "outputs": [],
   "source": []
  },
  {
   "cell_type": "code",
   "execution_count": null,
   "metadata": {},
   "outputs": [],
   "source": []
  }
 ],
 "metadata": {
  "kernelspec": {
   "display_name": "Python 3",
   "language": "python",
   "name": "python3"
  },
  "language_info": {
   "codemirror_mode": {
    "name": "ipython",
    "version": 3
   },
   "file_extension": ".py",
   "mimetype": "text/x-python",
   "name": "python",
   "nbconvert_exporter": "python",
   "pygments_lexer": "ipython3",
   "version": "3.7.3"
  }
 },
 "nbformat": 4,
 "nbformat_minor": 2
}
