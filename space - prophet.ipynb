{
 "cells": [
  {
   "cell_type": "code",
   "execution_count": 1,
   "metadata": {},
   "outputs": [],
   "source": [
    "import os\n",
    "import numpy as np\n",
    "import pandas as pd"
   ]
  },
  {
   "cell_type": "code",
   "execution_count": 2,
   "metadata": {},
   "outputs": [
    {
     "data": {
      "text/html": [
       "<div>\n",
       "<style scoped>\n",
       "    .dataframe tbody tr th:only-of-type {\n",
       "        vertical-align: middle;\n",
       "    }\n",
       "\n",
       "    .dataframe tbody tr th {\n",
       "        vertical-align: top;\n",
       "    }\n",
       "\n",
       "    .dataframe thead th {\n",
       "        text-align: right;\n",
       "    }\n",
       "</style>\n",
       "<table border=\"1\" class=\"dataframe\">\n",
       "  <thead>\n",
       "    <tr style=\"text-align: right;\">\n",
       "      <th></th>\n",
       "      <th>dt</th>\n",
       "      <th>value</th>\n",
       "    </tr>\n",
       "  </thead>\n",
       "  <tbody>\n",
       "    <tr>\n",
       "      <th>0</th>\n",
       "      <td>1999-01-01 00:00:00</td>\n",
       "      <td>0</td>\n",
       "    </tr>\n",
       "    <tr>\n",
       "      <th>1</th>\n",
       "      <td>1999-01-01 03:00:00</td>\n",
       "      <td>2</td>\n",
       "    </tr>\n",
       "    <tr>\n",
       "      <th>2</th>\n",
       "      <td>1999-01-01 06:00:00</td>\n",
       "      <td>1</td>\n",
       "    </tr>\n",
       "    <tr>\n",
       "      <th>3</th>\n",
       "      <td>1999-01-01 09:00:00</td>\n",
       "      <td>2</td>\n",
       "    </tr>\n",
       "    <tr>\n",
       "      <th>4</th>\n",
       "      <td>1999-01-01 12:00:00</td>\n",
       "      <td>2</td>\n",
       "    </tr>\n",
       "  </tbody>\n",
       "</table>\n",
       "</div>"
      ],
      "text/plain": [
       "                   dt  value\n",
       "0 1999-01-01 00:00:00      0\n",
       "1 1999-01-01 03:00:00      2\n",
       "2 1999-01-01 06:00:00      1\n",
       "3 1999-01-01 09:00:00      2\n",
       "4 1999-01-01 12:00:00      2"
      ]
     },
     "execution_count": 2,
     "metadata": {},
     "output_type": "execute_result"
    }
   ],
   "source": [
    "target = pd.read_csv(\"proc_data/target.csv\", parse_dates=['dt'])\n",
    "target.head()"
   ]
  },
  {
   "cell_type": "code",
   "execution_count": 3,
   "metadata": {},
   "outputs": [
    {
     "data": {
      "text/html": [
       "<div>\n",
       "<style scoped>\n",
       "    .dataframe tbody tr th:only-of-type {\n",
       "        vertical-align: middle;\n",
       "    }\n",
       "\n",
       "    .dataframe tbody tr th {\n",
       "        vertical-align: top;\n",
       "    }\n",
       "\n",
       "    .dataframe thead th {\n",
       "        text-align: right;\n",
       "    }\n",
       "</style>\n",
       "<table border=\"1\" class=\"dataframe\">\n",
       "  <thead>\n",
       "    <tr style=\"text-align: right;\">\n",
       "      <th></th>\n",
       "      <th>ds</th>\n",
       "      <th>y</th>\n",
       "    </tr>\n",
       "  </thead>\n",
       "  <tbody>\n",
       "    <tr>\n",
       "      <th>0</th>\n",
       "      <td>1999-01-01 00:00:00</td>\n",
       "      <td>0</td>\n",
       "    </tr>\n",
       "    <tr>\n",
       "      <th>1</th>\n",
       "      <td>1999-01-01 03:00:00</td>\n",
       "      <td>2</td>\n",
       "    </tr>\n",
       "    <tr>\n",
       "      <th>2</th>\n",
       "      <td>1999-01-01 06:00:00</td>\n",
       "      <td>1</td>\n",
       "    </tr>\n",
       "    <tr>\n",
       "      <th>3</th>\n",
       "      <td>1999-01-01 09:00:00</td>\n",
       "      <td>2</td>\n",
       "    </tr>\n",
       "    <tr>\n",
       "      <th>4</th>\n",
       "      <td>1999-01-01 12:00:00</td>\n",
       "      <td>2</td>\n",
       "    </tr>\n",
       "  </tbody>\n",
       "</table>\n",
       "</div>"
      ],
      "text/plain": [
       "                   ds  y\n",
       "0 1999-01-01 00:00:00  0\n",
       "1 1999-01-01 03:00:00  2\n",
       "2 1999-01-01 06:00:00  1\n",
       "3 1999-01-01 09:00:00  2\n",
       "4 1999-01-01 12:00:00  2"
      ]
     },
     "execution_count": 3,
     "metadata": {},
     "output_type": "execute_result"
    }
   ],
   "source": [
    "df = target.rename(columns={\"dt\":\"ds\", \"value\":\"y\"})\n",
    "df.head()"
   ]
  },
  {
   "cell_type": "code",
   "execution_count": 4,
   "metadata": {},
   "outputs": [
    {
     "name": "stdout",
     "output_type": "stream",
     "text": [
      "<class 'pandas.core.frame.DataFrame'>\n",
      "RangeIndex: 43832 entries, 0 to 43831\n",
      "Data columns (total 2 columns):\n",
      "ds    43832 non-null datetime64[ns]\n",
      "y     43832 non-null int64\n",
      "dtypes: datetime64[ns](1), int64(1)\n",
      "memory usage: 685.0 KB\n"
     ]
    }
   ],
   "source": [
    "df.info()"
   ]
  },
  {
   "cell_type": "code",
   "execution_count": 5,
   "metadata": {},
   "outputs": [],
   "source": [
    "from fbprophet import Prophet"
   ]
  },
  {
   "cell_type": "code",
   "execution_count": 6,
   "metadata": {},
   "outputs": [
    {
     "data": {
      "text/plain": [
       "<fbprophet.forecaster.Prophet at 0x15aadcc2668>"
      ]
     },
     "execution_count": 6,
     "metadata": {},
     "output_type": "execute_result"
    }
   ],
   "source": [
    "prop = Prophet(interval_width=0.95)\n",
    "prop.fit(df)"
   ]
  },
  {
   "cell_type": "code",
   "execution_count": 7,
   "metadata": {},
   "outputs": [
    {
     "data": {
      "text/html": [
       "<div>\n",
       "<style scoped>\n",
       "    .dataframe tbody tr th:only-of-type {\n",
       "        vertical-align: middle;\n",
       "    }\n",
       "\n",
       "    .dataframe tbody tr th {\n",
       "        vertical-align: top;\n",
       "    }\n",
       "\n",
       "    .dataframe thead th {\n",
       "        text-align: right;\n",
       "    }\n",
       "</style>\n",
       "<table border=\"1\" class=\"dataframe\">\n",
       "  <thead>\n",
       "    <tr style=\"text-align: right;\">\n",
       "      <th></th>\n",
       "      <th>ds</th>\n",
       "    </tr>\n",
       "  </thead>\n",
       "  <tbody>\n",
       "    <tr>\n",
       "      <th>44192</th>\n",
       "      <td>2014-12-27 21:00:00</td>\n",
       "    </tr>\n",
       "    <tr>\n",
       "      <th>44193</th>\n",
       "      <td>2014-12-28 21:00:00</td>\n",
       "    </tr>\n",
       "    <tr>\n",
       "      <th>44194</th>\n",
       "      <td>2014-12-29 21:00:00</td>\n",
       "    </tr>\n",
       "    <tr>\n",
       "      <th>44195</th>\n",
       "      <td>2014-12-30 21:00:00</td>\n",
       "    </tr>\n",
       "    <tr>\n",
       "      <th>44196</th>\n",
       "      <td>2014-12-31 21:00:00</td>\n",
       "    </tr>\n",
       "  </tbody>\n",
       "</table>\n",
       "</div>"
      ],
      "text/plain": [
       "                       ds\n",
       "44192 2014-12-27 21:00:00\n",
       "44193 2014-12-28 21:00:00\n",
       "44194 2014-12-29 21:00:00\n",
       "44195 2014-12-30 21:00:00\n",
       "44196 2014-12-31 21:00:00"
      ]
     },
     "execution_count": 7,
     "metadata": {},
     "output_type": "execute_result"
    }
   ],
   "source": [
    "future = prop.make_future_dataframe(periods=365)\n",
    "future.tail()"
   ]
  },
  {
   "cell_type": "code",
   "execution_count": 8,
   "metadata": {},
   "outputs": [
    {
     "data": {
      "text/html": [
       "<div>\n",
       "<style scoped>\n",
       "    .dataframe tbody tr th:only-of-type {\n",
       "        vertical-align: middle;\n",
       "    }\n",
       "\n",
       "    .dataframe tbody tr th {\n",
       "        vertical-align: top;\n",
       "    }\n",
       "\n",
       "    .dataframe thead th {\n",
       "        text-align: right;\n",
       "    }\n",
       "</style>\n",
       "<table border=\"1\" class=\"dataframe\">\n",
       "  <thead>\n",
       "    <tr style=\"text-align: right;\">\n",
       "      <th></th>\n",
       "      <th>ds</th>\n",
       "      <th>trend</th>\n",
       "      <th>yhat_lower</th>\n",
       "      <th>yhat_upper</th>\n",
       "      <th>trend_lower</th>\n",
       "      <th>trend_upper</th>\n",
       "      <th>additive_terms</th>\n",
       "      <th>additive_terms_lower</th>\n",
       "      <th>additive_terms_upper</th>\n",
       "      <th>daily</th>\n",
       "      <th>...</th>\n",
       "      <th>weekly</th>\n",
       "      <th>weekly_lower</th>\n",
       "      <th>weekly_upper</th>\n",
       "      <th>yearly</th>\n",
       "      <th>yearly_lower</th>\n",
       "      <th>yearly_upper</th>\n",
       "      <th>multiplicative_terms</th>\n",
       "      <th>multiplicative_terms_lower</th>\n",
       "      <th>multiplicative_terms_upper</th>\n",
       "      <th>yhat</th>\n",
       "    </tr>\n",
       "  </thead>\n",
       "  <tbody>\n",
       "    <tr>\n",
       "      <th>44192</th>\n",
       "      <td>2014-12-27 21:00:00</td>\n",
       "      <td>1.699528</td>\n",
       "      <td>-1.157112</td>\n",
       "      <td>3.598269</td>\n",
       "      <td>1.150419</td>\n",
       "      <td>2.280268</td>\n",
       "      <td>-0.345841</td>\n",
       "      <td>-0.345841</td>\n",
       "      <td>-0.345841</td>\n",
       "      <td>0.105235</td>\n",
       "      <td>...</td>\n",
       "      <td>0.003740</td>\n",
       "      <td>0.003740</td>\n",
       "      <td>0.003740</td>\n",
       "      <td>-0.454816</td>\n",
       "      <td>-0.454816</td>\n",
       "      <td>-0.454816</td>\n",
       "      <td>0.0</td>\n",
       "      <td>0.0</td>\n",
       "      <td>0.0</td>\n",
       "      <td>1.353687</td>\n",
       "    </tr>\n",
       "    <tr>\n",
       "      <th>44193</th>\n",
       "      <td>2014-12-28 21:00:00</td>\n",
       "      <td>1.699673</td>\n",
       "      <td>-1.272317</td>\n",
       "      <td>3.723813</td>\n",
       "      <td>1.148354</td>\n",
       "      <td>2.282181</td>\n",
       "      <td>-0.350148</td>\n",
       "      <td>-0.350148</td>\n",
       "      <td>-0.350148</td>\n",
       "      <td>0.105235</td>\n",
       "      <td>...</td>\n",
       "      <td>-0.001785</td>\n",
       "      <td>-0.001785</td>\n",
       "      <td>-0.001785</td>\n",
       "      <td>-0.453598</td>\n",
       "      <td>-0.453598</td>\n",
       "      <td>-0.453598</td>\n",
       "      <td>0.0</td>\n",
       "      <td>0.0</td>\n",
       "      <td>0.0</td>\n",
       "      <td>1.349524</td>\n",
       "    </tr>\n",
       "    <tr>\n",
       "      <th>44194</th>\n",
       "      <td>2014-12-29 21:00:00</td>\n",
       "      <td>1.699818</td>\n",
       "      <td>-0.951705</td>\n",
       "      <td>3.806794</td>\n",
       "      <td>1.146331</td>\n",
       "      <td>2.284094</td>\n",
       "      <td>-0.330887</td>\n",
       "      <td>-0.330887</td>\n",
       "      <td>-0.330887</td>\n",
       "      <td>0.105235</td>\n",
       "      <td>...</td>\n",
       "      <td>0.014738</td>\n",
       "      <td>0.014738</td>\n",
       "      <td>0.014738</td>\n",
       "      <td>-0.450860</td>\n",
       "      <td>-0.450860</td>\n",
       "      <td>-0.450860</td>\n",
       "      <td>0.0</td>\n",
       "      <td>0.0</td>\n",
       "      <td>0.0</td>\n",
       "      <td>1.368931</td>\n",
       "    </tr>\n",
       "    <tr>\n",
       "      <th>44195</th>\n",
       "      <td>2014-12-30 21:00:00</td>\n",
       "      <td>1.699963</td>\n",
       "      <td>-0.924289</td>\n",
       "      <td>3.905914</td>\n",
       "      <td>1.144341</td>\n",
       "      <td>2.286007</td>\n",
       "      <td>-0.315657</td>\n",
       "      <td>-0.315657</td>\n",
       "      <td>-0.315657</td>\n",
       "      <td>0.105235</td>\n",
       "      <td>...</td>\n",
       "      <td>0.025620</td>\n",
       "      <td>0.025620</td>\n",
       "      <td>0.025620</td>\n",
       "      <td>-0.446512</td>\n",
       "      <td>-0.446512</td>\n",
       "      <td>-0.446512</td>\n",
       "      <td>0.0</td>\n",
       "      <td>0.0</td>\n",
       "      <td>0.0</td>\n",
       "      <td>1.384306</td>\n",
       "    </tr>\n",
       "    <tr>\n",
       "      <th>44196</th>\n",
       "      <td>2014-12-31 21:00:00</td>\n",
       "      <td>1.700108</td>\n",
       "      <td>-1.169109</td>\n",
       "      <td>3.785815</td>\n",
       "      <td>1.142352</td>\n",
       "      <td>2.287919</td>\n",
       "      <td>-0.338504</td>\n",
       "      <td>-0.338504</td>\n",
       "      <td>-0.338504</td>\n",
       "      <td>0.105235</td>\n",
       "      <td>...</td>\n",
       "      <td>-0.003250</td>\n",
       "      <td>-0.003250</td>\n",
       "      <td>-0.003250</td>\n",
       "      <td>-0.440489</td>\n",
       "      <td>-0.440489</td>\n",
       "      <td>-0.440489</td>\n",
       "      <td>0.0</td>\n",
       "      <td>0.0</td>\n",
       "      <td>0.0</td>\n",
       "      <td>1.361604</td>\n",
       "    </tr>\n",
       "  </tbody>\n",
       "</table>\n",
       "<p>5 rows × 22 columns</p>\n",
       "</div>"
      ],
      "text/plain": [
       "                       ds     trend  yhat_lower  yhat_upper  trend_lower  \\\n",
       "44192 2014-12-27 21:00:00  1.699528   -1.157112    3.598269     1.150419   \n",
       "44193 2014-12-28 21:00:00  1.699673   -1.272317    3.723813     1.148354   \n",
       "44194 2014-12-29 21:00:00  1.699818   -0.951705    3.806794     1.146331   \n",
       "44195 2014-12-30 21:00:00  1.699963   -0.924289    3.905914     1.144341   \n",
       "44196 2014-12-31 21:00:00  1.700108   -1.169109    3.785815     1.142352   \n",
       "\n",
       "       trend_upper  additive_terms  additive_terms_lower  \\\n",
       "44192     2.280268       -0.345841             -0.345841   \n",
       "44193     2.282181       -0.350148             -0.350148   \n",
       "44194     2.284094       -0.330887             -0.330887   \n",
       "44195     2.286007       -0.315657             -0.315657   \n",
       "44196     2.287919       -0.338504             -0.338504   \n",
       "\n",
       "       additive_terms_upper     daily  ...    weekly  weekly_lower  \\\n",
       "44192             -0.345841  0.105235  ...  0.003740      0.003740   \n",
       "44193             -0.350148  0.105235  ... -0.001785     -0.001785   \n",
       "44194             -0.330887  0.105235  ...  0.014738      0.014738   \n",
       "44195             -0.315657  0.105235  ...  0.025620      0.025620   \n",
       "44196             -0.338504  0.105235  ... -0.003250     -0.003250   \n",
       "\n",
       "       weekly_upper    yearly  yearly_lower  yearly_upper  \\\n",
       "44192      0.003740 -0.454816     -0.454816     -0.454816   \n",
       "44193     -0.001785 -0.453598     -0.453598     -0.453598   \n",
       "44194      0.014738 -0.450860     -0.450860     -0.450860   \n",
       "44195      0.025620 -0.446512     -0.446512     -0.446512   \n",
       "44196     -0.003250 -0.440489     -0.440489     -0.440489   \n",
       "\n",
       "       multiplicative_terms  multiplicative_terms_lower  \\\n",
       "44192                   0.0                         0.0   \n",
       "44193                   0.0                         0.0   \n",
       "44194                   0.0                         0.0   \n",
       "44195                   0.0                         0.0   \n",
       "44196                   0.0                         0.0   \n",
       "\n",
       "       multiplicative_terms_upper      yhat  \n",
       "44192                         0.0  1.353687  \n",
       "44193                         0.0  1.349524  \n",
       "44194                         0.0  1.368931  \n",
       "44195                         0.0  1.384306  \n",
       "44196                         0.0  1.361604  \n",
       "\n",
       "[5 rows x 22 columns]"
      ]
     },
     "execution_count": 8,
     "metadata": {},
     "output_type": "execute_result"
    }
   ],
   "source": [
    "forecast = prop.predict(future)\n",
    "forecast.tail()"
   ]
  },
  {
   "cell_type": "code",
   "execution_count": 9,
   "metadata": {
    "scrolled": true
   },
   "outputs": [
    {
     "data": {
      "text/plain": [
       "<matplotlib.axes._subplots.AxesSubplot at 0x25f97945208>"
      ]
     },
     "execution_count": 9,
     "metadata": {},
     "output_type": "execute_result"
    },
    {
     "data": {
      "image/png": "[encoded data removed]",
      "text/plain": [
       "<Figure size 432x288 with 1 Axes>"
      ]
     },
     "metadata": {
      "needs_background": "light"
     },
     "output_type": "display_data"
    }
   ],
   "source": [
    "forecast.iloc[-365:, :].yhat.plot()"
   ]
  },
  {
   "cell_type": "code",
   "execution_count": 13,
   "metadata": {},
   "outputs": [
    {
     "data": {
      "text/plain": [
       "12861"
      ]
     },
     "execution_count": 13,
     "metadata": {},
     "output_type": "execute_result"
    }
   ],
   "source": [
    "forecast.yhat.values.argmax(axis=-1)"
   ]
  },
  {
   "cell_type": "code",
   "execution_count": null,
   "metadata": {},
   "outputs": [],
   "source": []
  }
 ],
 "metadata": {
  "kernelspec": {
   "display_name": "Python 3",
   "language": "python",
   "name": "python3"
  },
  "language_info": {
   "codemirror_mode": {
    "name": "ipython",
    "version": 3
   },
   "file_extension": ".py",
   "mimetype": "text/x-python",
   "name": "python",
   "nbconvert_exporter": "python",
   "pygments_lexer": "ipython3",
   "version": "3.7.3"
  }
 },
 "nbformat": 4,
 "nbformat_minor": 2
}
