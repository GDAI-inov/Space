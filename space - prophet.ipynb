{
 "cells": [
  {
   "cell_type": "code",
   "execution_count": 1,
   "metadata": {},
   "outputs": [],
   "source": [
    "import numpy as np\n",
    "import pandas as pd"
   ]
  },
  {
   "cell_type": "code",
   "execution_count": 2,
   "metadata": {},
   "outputs": [
    {
     "data": {
      "text/html": [
       "<div>\n",
       "<style scoped>\n",
       "    .dataframe tbody tr th:only-of-type {\n",
       "        vertical-align: middle;\n",
       "    }\n",
       "\n",
       "    .dataframe tbody tr th {\n",
       "        vertical-align: top;\n",
       "    }\n",
       "\n",
       "    .dataframe thead th {\n",
       "        text-align: right;\n",
       "    }\n",
       "</style>\n",
       "<table border=\"1\" class=\"dataframe\">\n",
       "  <thead>\n",
       "    <tr style=\"text-align: right;\">\n",
       "      <th></th>\n",
       "      <th>dt</th>\n",
       "      <th>value</th>\n",
       "    </tr>\n",
       "  </thead>\n",
       "  <tbody>\n",
       "    <tr>\n",
       "      <th>0</th>\n",
       "      <td>1999-01-01 00:00:00</td>\n",
       "      <td>0</td>\n",
       "    </tr>\n",
       "    <tr>\n",
       "      <th>1</th>\n",
       "      <td>1999-01-01 03:00:00</td>\n",
       "      <td>2</td>\n",
       "    </tr>\n",
       "    <tr>\n",
       "      <th>2</th>\n",
       "      <td>1999-01-01 06:00:00</td>\n",
       "      <td>1</td>\n",
       "    </tr>\n",
       "    <tr>\n",
       "      <th>3</th>\n",
       "      <td>1999-01-01 09:00:00</td>\n",
       "      <td>2</td>\n",
       "    </tr>\n",
       "    <tr>\n",
       "      <th>4</th>\n",
       "      <td>1999-01-01 12:00:00</td>\n",
       "      <td>2</td>\n",
       "    </tr>\n",
       "  </tbody>\n",
       "</table>\n",
       "</div>"
      ],
      "text/plain": [
       "                   dt  value\n",
       "0 1999-01-01 00:00:00      0\n",
       "1 1999-01-01 03:00:00      2\n",
       "2 1999-01-01 06:00:00      1\n",
       "3 1999-01-01 09:00:00      2\n",
       "4 1999-01-01 12:00:00      2"
      ]
     },
     "execution_count": 2,
     "metadata": {},
     "output_type": "execute_result"
    }
   ],
   "source": [
    "target = pd.read_csv(\"proc_data/target.csv\", parse_dates=['dt'])\n",
    "target.head()"
   ]
  },
  {
   "cell_type": "code",
   "execution_count": 3,
   "metadata": {},
   "outputs": [
    {
     "data": {
      "text/html": [
       "<div>\n",
       "<style scoped>\n",
       "    .dataframe tbody tr th:only-of-type {\n",
       "        vertical-align: middle;\n",
       "    }\n",
       "\n",
       "    .dataframe tbody tr th {\n",
       "        vertical-align: top;\n",
       "    }\n",
       "\n",
       "    .dataframe thead th {\n",
       "        text-align: right;\n",
       "    }\n",
       "</style>\n",
       "<table border=\"1\" class=\"dataframe\">\n",
       "  <thead>\n",
       "    <tr style=\"text-align: right;\">\n",
       "      <th></th>\n",
       "      <th>ds</th>\n",
       "      <th>y</th>\n",
       "    </tr>\n",
       "  </thead>\n",
       "  <tbody>\n",
       "    <tr>\n",
       "      <th>0</th>\n",
       "      <td>1999-01-01 00:00:00</td>\n",
       "      <td>0</td>\n",
       "    </tr>\n",
       "    <tr>\n",
       "      <th>1</th>\n",
       "      <td>1999-01-01 03:00:00</td>\n",
       "      <td>2</td>\n",
       "    </tr>\n",
       "    <tr>\n",
       "      <th>2</th>\n",
       "      <td>1999-01-01 06:00:00</td>\n",
       "      <td>1</td>\n",
       "    </tr>\n",
       "    <tr>\n",
       "      <th>3</th>\n",
       "      <td>1999-01-01 09:00:00</td>\n",
       "      <td>2</td>\n",
       "    </tr>\n",
       "    <tr>\n",
       "      <th>4</th>\n",
       "      <td>1999-01-01 12:00:00</td>\n",
       "      <td>2</td>\n",
       "    </tr>\n",
       "  </tbody>\n",
       "</table>\n",
       "</div>"
      ],
      "text/plain": [
       "                   ds  y\n",
       "0 1999-01-01 00:00:00  0\n",
       "1 1999-01-01 03:00:00  2\n",
       "2 1999-01-01 06:00:00  1\n",
       "3 1999-01-01 09:00:00  2\n",
       "4 1999-01-01 12:00:00  2"
      ]
     },
     "execution_count": 3,
     "metadata": {},
     "output_type": "execute_result"
    }
   ],
   "source": [
    "df = target.rename(columns={\"dt\":\"ds\", \"value\":\"y\"})\n",
    "df.head()"
   ]
  },
  {
   "cell_type": "code",
   "execution_count": 4,
   "metadata": {},
   "outputs": [
    {
     "name": "stdout",
     "output_type": "stream",
     "text": [
      "<class 'pandas.core.frame.DataFrame'>\n",
      "RangeIndex: 43832 entries, 0 to 43831\n",
      "Data columns (total 2 columns):\n",
      "ds    43832 non-null datetime64[ns]\n",
      "y     43832 non-null int64\n",
      "dtypes: datetime64[ns](1), int64(1)\n",
      "memory usage: 685.0 KB\n"
     ]
    }
   ],
   "source": [
    "df.info()"
   ]
  },
  {
   "cell_type": "code",
   "execution_count": 5,
   "metadata": {},
   "outputs": [
    {
     "name": "stderr",
     "output_type": "stream",
     "text": [
      "ERROR:fbprophet:Importing plotly failed. Interactive plots will not work.\n"
     ]
    }
   ],
   "source": [
    "from fbprophet import Prophet"
   ]
  },
  {
   "cell_type": "code",
   "execution_count": 6,
   "metadata": {},
   "outputs": [
    {
     "data": {
      "text/plain": [
       "<fbprophet.forecaster.Prophet at 0x204157ed748>"
      ]
     },
     "execution_count": 6,
     "metadata": {},
     "output_type": "execute_result"
    }
   ],
   "source": [
    "prop = Prophet()\n",
    "prop.fit(df)"
   ]
  },
  {
   "cell_type": "code",
   "execution_count": 7,
   "metadata": {},
   "outputs": [
    {
     "data": {
      "text/html": [
       "<div>\n",
       "<style scoped>\n",
       "    .dataframe tbody tr th:only-of-type {\n",
       "        vertical-align: middle;\n",
       "    }\n",
       "\n",
       "    .dataframe tbody tr th {\n",
       "        vertical-align: top;\n",
       "    }\n",
       "\n",
       "    .dataframe thead th {\n",
       "        text-align: right;\n",
       "    }\n",
       "</style>\n",
       "<table border=\"1\" class=\"dataframe\">\n",
       "  <thead>\n",
       "    <tr style=\"text-align: right;\">\n",
       "      <th></th>\n",
       "      <th>ds</th>\n",
       "    </tr>\n",
       "  </thead>\n",
       "  <tbody>\n",
       "    <tr>\n",
       "      <th>44192</th>\n",
       "      <td>2014-12-27 21:00:00</td>\n",
       "    </tr>\n",
       "    <tr>\n",
       "      <th>44193</th>\n",
       "      <td>2014-12-28 21:00:00</td>\n",
       "    </tr>\n",
       "    <tr>\n",
       "      <th>44194</th>\n",
       "      <td>2014-12-29 21:00:00</td>\n",
       "    </tr>\n",
       "    <tr>\n",
       "      <th>44195</th>\n",
       "      <td>2014-12-30 21:00:00</td>\n",
       "    </tr>\n",
       "    <tr>\n",
       "      <th>44196</th>\n",
       "      <td>2014-12-31 21:00:00</td>\n",
       "    </tr>\n",
       "  </tbody>\n",
       "</table>\n",
       "</div>"
      ],
      "text/plain": [
       "                       ds\n",
       "44192 2014-12-27 21:00:00\n",
       "44193 2014-12-28 21:00:00\n",
       "44194 2014-12-29 21:00:00\n",
       "44195 2014-12-30 21:00:00\n",
       "44196 2014-12-31 21:00:00"
      ]
     },
     "execution_count": 7,
     "metadata": {},
     "output_type": "execute_result"
    }
   ],
   "source": [
    "future = prop.make_future_dataframe(periods=365)\n",
    "future.tail()"
   ]
  },
  {
   "cell_type": "code",
   "execution_count": 8,
   "metadata": {},
   "outputs": [
    {
     "data": {
      "text/html": [
       "<div>\n",
       "<style scoped>\n",
       "    .dataframe tbody tr th:only-of-type {\n",
       "        vertical-align: middle;\n",
       "    }\n",
       "\n",
       "    .dataframe tbody tr th {\n",
       "        vertical-align: top;\n",
       "    }\n",
       "\n",
       "    .dataframe thead th {\n",
       "        text-align: right;\n",
       "    }\n",
       "</style>\n",
       "<table border=\"1\" class=\"dataframe\">\n",
       "  <thead>\n",
       "    <tr style=\"text-align: right;\">\n",
       "      <th></th>\n",
       "      <th>ds</th>\n",
       "      <th>trend</th>\n",
       "      <th>yhat_lower</th>\n",
       "      <th>yhat_upper</th>\n",
       "      <th>trend_lower</th>\n",
       "      <th>trend_upper</th>\n",
       "      <th>additive_terms</th>\n",
       "      <th>additive_terms_lower</th>\n",
       "      <th>additive_terms_upper</th>\n",
       "      <th>daily</th>\n",
       "      <th>...</th>\n",
       "      <th>weekly</th>\n",
       "      <th>weekly_lower</th>\n",
       "      <th>weekly_upper</th>\n",
       "      <th>yearly</th>\n",
       "      <th>yearly_lower</th>\n",
       "      <th>yearly_upper</th>\n",
       "      <th>multiplicative_terms</th>\n",
       "      <th>multiplicative_terms_lower</th>\n",
       "      <th>multiplicative_terms_upper</th>\n",
       "      <th>yhat</th>\n",
       "    </tr>\n",
       "  </thead>\n",
       "  <tbody>\n",
       "    <tr>\n",
       "      <th>44192</th>\n",
       "      <td>2014-12-27 21:00:00</td>\n",
       "      <td>1.697835</td>\n",
       "      <td>-0.217213</td>\n",
       "      <td>2.797257</td>\n",
       "      <td>1.450490</td>\n",
       "      <td>1.981161</td>\n",
       "      <td>-0.345095</td>\n",
       "      <td>-0.345095</td>\n",
       "      <td>-0.345095</td>\n",
       "      <td>0.105237</td>\n",
       "      <td>...</td>\n",
       "      <td>0.003738</td>\n",
       "      <td>0.003738</td>\n",
       "      <td>0.003738</td>\n",
       "      <td>-0.454070</td>\n",
       "      <td>-0.454070</td>\n",
       "      <td>-0.454070</td>\n",
       "      <td>0.0</td>\n",
       "      <td>0.0</td>\n",
       "      <td>0.0</td>\n",
       "      <td>1.352740</td>\n",
       "    </tr>\n",
       "    <tr>\n",
       "      <th>44193</th>\n",
       "      <td>2014-12-28 21:00:00</td>\n",
       "      <td>1.697979</td>\n",
       "      <td>-0.147024</td>\n",
       "      <td>2.852027</td>\n",
       "      <td>1.449508</td>\n",
       "      <td>1.982486</td>\n",
       "      <td>-0.349424</td>\n",
       "      <td>-0.349424</td>\n",
       "      <td>-0.349424</td>\n",
       "      <td>0.105237</td>\n",
       "      <td>...</td>\n",
       "      <td>-0.001787</td>\n",
       "      <td>-0.001787</td>\n",
       "      <td>-0.001787</td>\n",
       "      <td>-0.452873</td>\n",
       "      <td>-0.452873</td>\n",
       "      <td>-0.452873</td>\n",
       "      <td>0.0</td>\n",
       "      <td>0.0</td>\n",
       "      <td>0.0</td>\n",
       "      <td>1.348555</td>\n",
       "    </tr>\n",
       "    <tr>\n",
       "      <th>44194</th>\n",
       "      <td>2014-12-29 21:00:00</td>\n",
       "      <td>1.698122</td>\n",
       "      <td>-0.277455</td>\n",
       "      <td>2.923111</td>\n",
       "      <td>1.448140</td>\n",
       "      <td>1.983812</td>\n",
       "      <td>-0.330182</td>\n",
       "      <td>-0.330182</td>\n",
       "      <td>-0.330182</td>\n",
       "      <td>0.105237</td>\n",
       "      <td>...</td>\n",
       "      <td>0.014738</td>\n",
       "      <td>0.014738</td>\n",
       "      <td>0.014738</td>\n",
       "      <td>-0.450157</td>\n",
       "      <td>-0.450157</td>\n",
       "      <td>-0.450157</td>\n",
       "      <td>0.0</td>\n",
       "      <td>0.0</td>\n",
       "      <td>0.0</td>\n",
       "      <td>1.367940</td>\n",
       "    </tr>\n",
       "    <tr>\n",
       "      <th>44195</th>\n",
       "      <td>2014-12-30 21:00:00</td>\n",
       "      <td>1.698266</td>\n",
       "      <td>-0.230393</td>\n",
       "      <td>2.948148</td>\n",
       "      <td>1.446772</td>\n",
       "      <td>1.985138</td>\n",
       "      <td>-0.314971</td>\n",
       "      <td>-0.314971</td>\n",
       "      <td>-0.314971</td>\n",
       "      <td>0.105237</td>\n",
       "      <td>...</td>\n",
       "      <td>0.025622</td>\n",
       "      <td>0.025622</td>\n",
       "      <td>0.025622</td>\n",
       "      <td>-0.445830</td>\n",
       "      <td>-0.445830</td>\n",
       "      <td>-0.445830</td>\n",
       "      <td>0.0</td>\n",
       "      <td>0.0</td>\n",
       "      <td>0.0</td>\n",
       "      <td>1.383295</td>\n",
       "    </tr>\n",
       "    <tr>\n",
       "      <th>44196</th>\n",
       "      <td>2014-12-31 21:00:00</td>\n",
       "      <td>1.698409</td>\n",
       "      <td>-0.292915</td>\n",
       "      <td>2.984490</td>\n",
       "      <td>1.445740</td>\n",
       "      <td>1.986463</td>\n",
       "      <td>-0.337837</td>\n",
       "      <td>-0.337837</td>\n",
       "      <td>-0.337837</td>\n",
       "      <td>0.105237</td>\n",
       "      <td>...</td>\n",
       "      <td>-0.003245</td>\n",
       "      <td>-0.003245</td>\n",
       "      <td>-0.003245</td>\n",
       "      <td>-0.439829</td>\n",
       "      <td>-0.439829</td>\n",
       "      <td>-0.439829</td>\n",
       "      <td>0.0</td>\n",
       "      <td>0.0</td>\n",
       "      <td>0.0</td>\n",
       "      <td>1.360572</td>\n",
       "    </tr>\n",
       "  </tbody>\n",
       "</table>\n",
       "<p>5 rows × 22 columns</p>\n",
       "</div>"
      ],
      "text/plain": [
       "                       ds     trend  yhat_lower  yhat_upper  trend_lower  \\\n",
       "44192 2014-12-27 21:00:00  1.697835   -0.217213    2.797257     1.450490   \n",
       "44193 2014-12-28 21:00:00  1.697979   -0.147024    2.852027     1.449508   \n",
       "44194 2014-12-29 21:00:00  1.698122   -0.277455    2.923111     1.448140   \n",
       "44195 2014-12-30 21:00:00  1.698266   -0.230393    2.948148     1.446772   \n",
       "44196 2014-12-31 21:00:00  1.698409   -0.292915    2.984490     1.445740   \n",
       "\n",
       "       trend_upper  additive_terms  additive_terms_lower  \\\n",
       "44192     1.981161       -0.345095             -0.345095   \n",
       "44193     1.982486       -0.349424             -0.349424   \n",
       "44194     1.983812       -0.330182             -0.330182   \n",
       "44195     1.985138       -0.314971             -0.314971   \n",
       "44196     1.986463       -0.337837             -0.337837   \n",
       "\n",
       "       additive_terms_upper     daily  ...    weekly  weekly_lower  \\\n",
       "44192             -0.345095  0.105237  ...  0.003738      0.003738   \n",
       "44193             -0.349424  0.105237  ... -0.001787     -0.001787   \n",
       "44194             -0.330182  0.105237  ...  0.014738      0.014738   \n",
       "44195             -0.314971  0.105237  ...  0.025622      0.025622   \n",
       "44196             -0.337837  0.105237  ... -0.003245     -0.003245   \n",
       "\n",
       "       weekly_upper    yearly  yearly_lower  yearly_upper  \\\n",
       "44192      0.003738 -0.454070     -0.454070     -0.454070   \n",
       "44193     -0.001787 -0.452873     -0.452873     -0.452873   \n",
       "44194      0.014738 -0.450157     -0.450157     -0.450157   \n",
       "44195      0.025622 -0.445830     -0.445830     -0.445830   \n",
       "44196     -0.003245 -0.439829     -0.439829     -0.439829   \n",
       "\n",
       "       multiplicative_terms  multiplicative_terms_lower  \\\n",
       "44192                   0.0                         0.0   \n",
       "44193                   0.0                         0.0   \n",
       "44194                   0.0                         0.0   \n",
       "44195                   0.0                         0.0   \n",
       "44196                   0.0                         0.0   \n",
       "\n",
       "       multiplicative_terms_upper      yhat  \n",
       "44192                         0.0  1.352740  \n",
       "44193                         0.0  1.348555  \n",
       "44194                         0.0  1.367940  \n",
       "44195                         0.0  1.383295  \n",
       "44196                         0.0  1.360572  \n",
       "\n",
       "[5 rows x 22 columns]"
      ]
     },
     "execution_count": 8,
     "metadata": {},
     "output_type": "execute_result"
    }
   ],
   "source": [
    "forecast = prop.predict(future)\n",
    "forecast.tail()"
   ]
  },
  {
   "cell_type": "code",
   "execution_count": 9,
   "metadata": {},
   "outputs": [
    {
     "data": {
      "text/plain": [
       "<matplotlib.axes._subplots.AxesSubplot at 0x204176f5e10>"
      ]
     },
     "execution_count": 9,
     "metadata": {},
     "output_type": "execute_result"
    },
    {
     "data": {
      "image/png": "[encoded data removed]",
      "text/plain": [
       "<Figure size 432x288 with 1 Axes>"
      ]
     },
     "metadata": {
      "needs_background": "light"
     },
     "output_type": "display_data"
    }
   ],
   "source": [
    "forecast.iloc[-365:, :].yhat.plot()"
   ]
  }
 ],
 "metadata": {
  "kernelspec": {
   "display_name": "Python 3",
   "language": "python",
   "name": "python3"
  },
  "language_info": {
   "codemirror_mode": {
    "name": "ipython",
    "version": 3
   },
   "file_extension": ".py",
   "mimetype": "text/x-python",
   "name": "python",
   "nbconvert_exporter": "python",
   "pygments_lexer": "ipython3",
   "version": "3.7.3"
  }
 },
 "nbformat": 4,
 "nbformat_minor": 2
}
