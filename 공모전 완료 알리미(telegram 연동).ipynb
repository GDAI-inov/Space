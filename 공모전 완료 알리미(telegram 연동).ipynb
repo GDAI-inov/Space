{
 "cells": [
  {
   "cell_type": "code",
   "execution_count": 32,
   "metadata": {},
   "outputs": [],
   "source": [
    "import requests\n",
    "import json\n",
    "import time"
   ]
  },
  {
   "cell_type": "code",
   "execution_count": 18,
   "metadata": {},
   "outputs": [],
   "source": [
    "headers = {\"user-agent\":\"Mozilla/5.0 (Windows NT 10.0; Win64; x64) AppleWebKit/537.36 (KHTML, like Gecko) Chrome/76.0.3809.132 Safari/537.36\"}"
   ]
  },
  {
   "cell_type": "code",
   "execution_count": 2,
   "metadata": {},
   "outputs": [],
   "source": [
    "resp =requests.request(\"post\",\n",
    "                       \"https://sapiensteam.com/make/ajaxContestList.do\",\n",
    "                      data = {\"currentPageNo\": \"1\", \"recordCountPerPage\": \"10\"},\n",
    "                      headers={\"user-agent\":\"Mozilla/5.0 (Windows NT 10.0; Win64; x64) AppleWebKit/537.36 (KHTML, like Gecko) Chrome/76.0.3809.132 Safari/537.36\"})"
   ]
  },
  {
   "cell_type": "code",
   "execution_count": 8,
   "metadata": {},
   "outputs": [],
   "source": [
    "resp_js = json.loads(resp.text)"
   ]
  },
  {
   "cell_type": "code",
   "execution_count": 9,
   "metadata": {},
   "outputs": [
    {
     "data": {
      "text/plain": [
       "dict_keys(['result', 'rPageCnt', 'rCount', 'rPageNo', 'rList'])"
      ]
     },
     "execution_count": 9,
     "metadata": {},
     "output_type": "execute_result"
    }
   ],
   "source": [
    "resp_js.keys()"
   ]
  },
  {
   "cell_type": "code",
   "execution_count": 16,
   "metadata": {},
   "outputs": [
    {
     "data": {
      "text/plain": [
       "'심사중'"
      ]
     },
     "execution_count": 16,
     "metadata": {},
     "output_type": "execute_result"
    }
   ],
   "source": [
    "[_ for _ in resp_js[\"rList\"] if \"우주전파\" in _[\"contestTitle\"]][0][\"statusNm\"]"
   ]
  },
  {
   "cell_type": "code",
   "execution_count": 34,
   "metadata": {},
   "outputs": [
    {
     "data": {
      "text/plain": [
       "True"
      ]
     },
     "execution_count": 34,
     "metadata": {},
     "output_type": "execute_result"
    }
   ],
   "source": [
    "[_ for _ in resp_js[\"rList\"] if \"우주전파\" in _[\"contestTitle\"]][0][\"statusNm\"] == '심사중'"
   ]
  },
  {
   "cell_type": "markdown",
   "metadata": {},
   "source": [
    "# telegram"
   ]
  },
  {
   "cell_type": "code",
   "execution_count": 19,
   "metadata": {},
   "outputs": [
    {
     "name": "stdout",
     "output_type": "stream",
     "text": [
      "Collecting python-telegram-bot\n",
      "  Downloading https://files.pythonhosted.org/packages/25/06/5047b87e9ec3ffd9af6f83069803921f2f02c9411753d610cc569c8e4638/python_telegram_bot-12.0.0-py2.py3-none-any.whl (346kB)\n",
      "Requirement already satisfied: certifi in c:\\users\\jinhyo\\anaconda3\\lib\\site-packages (from python-telegram-bot) (2019.3.9)\n",
      "Requirement already satisfied: tornado>=5.1 in c:\\users\\jinhyo\\anaconda3\\lib\\site-packages (from python-telegram-bot) (6.0.2)\n",
      "Requirement already satisfied: future>=0.16.0 in c:\\users\\jinhyo\\anaconda3\\lib\\site-packages (from python-telegram-bot) (0.17.1)\n",
      "Requirement already satisfied: cryptography in c:\\users\\jinhyo\\anaconda3\\lib\\site-packages (from python-telegram-bot) (2.6.1)\n",
      "Requirement already satisfied: six>=1.4.1 in c:\\users\\jinhyo\\anaconda3\\lib\\site-packages (from cryptography->python-telegram-bot) (1.12.0)\n",
      "Requirement already satisfied: cffi!=1.11.3,>=1.8 in c:\\users\\jinhyo\\anaconda3\\lib\\site-packages (from cryptography->python-telegram-bot) (1.12.2)\n",
      "Requirement already satisfied: asn1crypto>=0.21.0 in c:\\users\\jinhyo\\anaconda3\\lib\\site-packages (from cryptography->python-telegram-bot) (0.24.0)\n",
      "Requirement already satisfied: pycparser in c:\\users\\jinhyo\\anaconda3\\lib\\site-packages (from cffi!=1.11.3,>=1.8->cryptography->python-telegram-bot) (2.19)\n",
      "Installing collected packages: python-telegram-bot\n",
      "Successfully installed python-telegram-bot-12.0.0\n"
     ]
    },
    {
     "name": "stderr",
     "output_type": "stream",
     "text": [
      "WARNING: You are using pip version 19.2.1, however version 19.2.3 is available.\n",
      "You should consider upgrading via the 'python -m pip install --upgrade pip' command.\n"
     ]
    }
   ],
   "source": [
    "!pip install python-telegram-bot"
   ]
  },
  {
   "cell_type": "code",
   "execution_count": 20,
   "metadata": {},
   "outputs": [],
   "source": [
    "import telegram"
   ]
  },
  {
   "cell_type": "code",
   "execution_count": 25,
   "metadata": {},
   "outputs": [],
   "source": [
    "bot = telegram.Bot(token=\"텔레그램에서 BotFather를 검색한 후, Bot을 만들고 token을 받으세요!\")"
   ]
  },
  {
   "cell_type": "code",
   "execution_count": 30,
   "metadata": {},
   "outputs": [],
   "source": [
    "# 가장 마지막에 메시지를 보낸 사람의 id\n",
    "# 미리 bot에게 아무 메시지나 보내놓아야한다.\n",
    "\n",
    "chat_id = bot.getUpdates()[-1].message.chat.id"
   ]
  },
  {
   "cell_type": "code",
   "execution_count": 31,
   "metadata": {},
   "outputs": [
    {
     "data": {
      "text/plain": [
       "<telegram.message.Message at 0x283ba855a20>"
      ]
     },
     "execution_count": 31,
     "metadata": {},
     "output_type": "execute_result"
    }
   ],
   "source": [
    "# test\n",
    "\n",
    "bot.sendMessage(chat_id=chat_id, text='심사가 끝났어요!')"
   ]
  },
  {
   "cell_type": "markdown",
   "metadata": {},
   "source": [
    "# 완성"
   ]
  },
  {
   "cell_type": "code",
   "execution_count": null,
   "metadata": {},
   "outputs": [],
   "source": [
    "while True:\n",
    "    resp =requests.request(\"post\",\n",
    "                        \"https://sapiensteam.com/make/ajaxContestList.do\",\n",
    "                        data = {\"currentPageNo\": \"1\", \"recordCountPerPage\": \"10\"},\n",
    "                        headers=headers)\n",
    "    resp = json.loads(resp.text)\n",
    "    status =[_ for _ in resp[\"rList\"] if \"우주전파\" in _[\"contestTitle\"]][0][\"statusNm\"]\n",
    "    if not status == \"심사중\":\n",
    "        bot.sendMessage(chat_id=chat_id, text='심사가 끝났어요!')\n",
    "        bot.sendMessage(chat_id=chat_id, text='https://sapiensteam.com/make/play/whiteboard/feedMain.do?contestId=23')\n",
    "        break\n",
    "    else:\n",
    "        time.sleep(60) # 1분마다 체크"
   ]
  }
 ],
 "metadata": {
  "kernelspec": {
   "display_name": "Python 3",
   "language": "python",
   "name": "python3"
  },
  "language_info": {
   "codemirror_mode": {
    "name": "ipython",
    "version": 3
   },
   "file_extension": ".py",
   "mimetype": "text/x-python",
   "name": "python",
   "nbconvert_exporter": "python",
   "pygments_lexer": "ipython3",
   "version": "3.7.3"
  }
 },
 "nbformat": 4,
 "nbformat_minor": 2
}
