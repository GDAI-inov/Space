{
 "cells": [
  {
   "cell_type": "code",
   "execution_count": 5,
   "metadata": {},
   "outputs": [],
   "source": [
    "import os\n",
    "import pandas as pd\n",
    "import numpy as np\n",
    "import matplotlib.pyplot as plt\n",
    "import seaborn as sns\n",
    "import sklearn\n",
    "import pickle"
   ]
  },
  {
   "cell_type": "code",
   "execution_count": 23,
   "metadata": {},
   "outputs": [
    {
     "name": "stdout",
     "output_type": "stream",
     "text": [
      "The watermark extension is already loaded. To reload it, use:\n",
      "  %reload_ext watermark\n"
     ]
    }
   ],
   "source": [
    "%load_ext watermark"
   ]
  },
  {
   "cell_type": "code",
   "execution_count": 27,
   "metadata": {},
   "outputs": [
    {
     "name": "stdout",
     "output_type": "stream",
     "text": [
      "jinhyo \n",
      "last updated: 2019-09-04 \n",
      "\n",
      "CPython 3.7.3\n",
      "IPython 7.4.0\n",
      "\n",
      "numpy 1.16.2\n",
      "pandas 0.24.2\n",
      "matplotlib 3.0.3\n",
      "seaborn 0.9.0\n",
      "missingno 0.4.2\n",
      "sklearn 0.20.3\n"
     ]
    }
   ],
   "source": [
    "%watermark -ajinhyo -u -d -v -pnumpy,pandas,matplotlib,seaborn,missingno,sklearn"
   ]
  },
  {
   "cell_type": "markdown",
   "metadata": {},
   "source": [
    "---"
   ]
  },
  {
   "cell_type": "markdown",
   "metadata": {},
   "source": [
    "# 1. 데이터 불러오기"
   ]
  },
  {
   "cell_type": "code",
   "execution_count": 27,
   "metadata": {},
   "outputs": [
    {
     "data": {
      "text/html": [
       "<div>\n",
       "<style scoped>\n",
       "    .dataframe tbody tr th:only-of-type {\n",
       "        vertical-align: middle;\n",
       "    }\n",
       "\n",
       "    .dataframe tbody tr th {\n",
       "        vertical-align: top;\n",
       "    }\n",
       "\n",
       "    .dataframe thead th {\n",
       "        text-align: right;\n",
       "    }\n",
       "</style>\n",
       "<table border=\"1\" class=\"dataframe\">\n",
       "  <thead>\n",
       "    <tr style=\"text-align: right;\">\n",
       "      <th></th>\n",
       "      <th>dt</th>\n",
       "      <th>Np</th>\n",
       "      <th>Tp</th>\n",
       "      <th>Vp</th>\n",
       "      <th>B_gsm_x</th>\n",
       "      <th>B_gsm_y</th>\n",
       "      <th>B_gsm_z</th>\n",
       "      <th>Bmag</th>\n",
       "    </tr>\n",
       "  </thead>\n",
       "  <tbody>\n",
       "    <tr>\n",
       "      <th>475059</th>\n",
       "      <td>2008-12-17 21:30:00</td>\n",
       "      <td>-9999.900</td>\n",
       "      <td>-9999.9</td>\n",
       "      <td>313.42</td>\n",
       "      <td>1.150</td>\n",
       "      <td>3.872</td>\n",
       "      <td>0.425</td>\n",
       "      <td>4.073</td>\n",
       "    </tr>\n",
       "    <tr>\n",
       "      <th>192011</th>\n",
       "      <td>2011-05-23 05:31:00</td>\n",
       "      <td>-9999.900</td>\n",
       "      <td>111190.0</td>\n",
       "      <td>449.31</td>\n",
       "      <td>-1.941</td>\n",
       "      <td>2.932</td>\n",
       "      <td>2.447</td>\n",
       "      <td>4.312</td>\n",
       "    </tr>\n",
       "    <tr>\n",
       "      <th>95732</th>\n",
       "      <td>2004-03-11 21:54:00</td>\n",
       "      <td>4.035</td>\n",
       "      <td>354450.0</td>\n",
       "      <td>659.36</td>\n",
       "      <td>2.273</td>\n",
       "      <td>-6.299</td>\n",
       "      <td>-1.331</td>\n",
       "      <td>7.295</td>\n",
       "    </tr>\n",
       "    <tr>\n",
       "      <th>490526</th>\n",
       "      <td>2001-12-30 08:25:00</td>\n",
       "      <td>14.631</td>\n",
       "      <td>20700.0</td>\n",
       "      <td>398.38</td>\n",
       "      <td>6.750</td>\n",
       "      <td>-13.002</td>\n",
       "      <td>13.066</td>\n",
       "      <td>19.632</td>\n",
       "    </tr>\n",
       "    <tr>\n",
       "      <th>287432</th>\n",
       "      <td>2005-08-01 21:53:00</td>\n",
       "      <td>-9999.900</td>\n",
       "      <td>-9999.9</td>\n",
       "      <td>-9999.90</td>\n",
       "      <td>5.473</td>\n",
       "      <td>-3.739</td>\n",
       "      <td>-0.891</td>\n",
       "      <td>6.738</td>\n",
       "    </tr>\n",
       "  </tbody>\n",
       "</table>\n",
       "</div>"
      ],
      "text/plain": [
       "                        dt        Np        Tp       Vp  B_gsm_x  B_gsm_y  \\\n",
       "475059 2008-12-17 21:30:00 -9999.900   -9999.9   313.42    1.150    3.872   \n",
       "192011 2011-05-23 05:31:00 -9999.900  111190.0   449.31   -1.941    2.932   \n",
       "95732  2004-03-11 21:54:00     4.035  354450.0   659.36    2.273   -6.299   \n",
       "490526 2001-12-30 08:25:00    14.631   20700.0   398.38    6.750  -13.002   \n",
       "287432 2005-08-01 21:53:00 -9999.900   -9999.9 -9999.90    5.473   -3.739   \n",
       "\n",
       "        B_gsm_z    Bmag  \n",
       "475059    0.425   4.073  \n",
       "192011    2.447   4.312  \n",
       "95732    -1.331   7.295  \n",
       "490526   13.066  19.632  \n",
       "287432   -0.891   6.738  "
      ]
     },
     "execution_count": 27,
     "metadata": {},
     "output_type": "execute_result"
    }
   ],
   "source": [
    "# 붙임1 지자기교란 예측모델 개발용 데이터셋_수정190820/태양풍\n",
    "\n",
    "ace = pd.DataFrame()\n",
    "for name in os.listdir('proc_data/ace'):\n",
    "    ins_data = pd.read_csv(f'proc_data/ace/{name}', parse_dates=['dt'])\n",
    "    ace = pd.concat([ace, ins_data], axis=0)\n",
    "\n",
    "ace.sample(5)"
   ]
  },
  {
   "cell_type": "code",
   "execution_count": 28,
   "metadata": {},
   "outputs": [
    {
     "data": {
      "text/html": [
       "<div>\n",
       "<style scoped>\n",
       "    .dataframe tbody tr th:only-of-type {\n",
       "        vertical-align: middle;\n",
       "    }\n",
       "\n",
       "    .dataframe tbody tr th {\n",
       "        vertical-align: top;\n",
       "    }\n",
       "\n",
       "    .dataframe thead th {\n",
       "        text-align: right;\n",
       "    }\n",
       "</style>\n",
       "<table border=\"1\" class=\"dataframe\">\n",
       "  <thead>\n",
       "    <tr style=\"text-align: right;\">\n",
       "      <th></th>\n",
       "      <th>dt</th>\n",
       "      <th>value</th>\n",
       "    </tr>\n",
       "  </thead>\n",
       "  <tbody>\n",
       "    <tr>\n",
       "      <th>0</th>\n",
       "      <td>1999-01-01 00:00:00</td>\n",
       "      <td>0</td>\n",
       "    </tr>\n",
       "    <tr>\n",
       "      <th>1</th>\n",
       "      <td>1999-01-01 03:00:00</td>\n",
       "      <td>2</td>\n",
       "    </tr>\n",
       "    <tr>\n",
       "      <th>2</th>\n",
       "      <td>1999-01-01 06:00:00</td>\n",
       "      <td>1</td>\n",
       "    </tr>\n",
       "    <tr>\n",
       "      <th>3</th>\n",
       "      <td>1999-01-01 09:00:00</td>\n",
       "      <td>2</td>\n",
       "    </tr>\n",
       "    <tr>\n",
       "      <th>4</th>\n",
       "      <td>1999-01-01 12:00:00</td>\n",
       "      <td>2</td>\n",
       "    </tr>\n",
       "  </tbody>\n",
       "</table>\n",
       "</div>"
      ],
      "text/plain": [
       "                   dt  value\n",
       "0 1999-01-01 00:00:00      0\n",
       "1 1999-01-01 03:00:00      2\n",
       "2 1999-01-01 06:00:00      1\n",
       "3 1999-01-01 09:00:00      2\n",
       "4 1999-01-01 12:00:00      2"
      ]
     },
     "execution_count": 28,
     "metadata": {},
     "output_type": "execute_result"
    }
   ],
   "source": [
    "# 붙임1 지자기교란 예측모델 개발용 데이터셋_수정190820/지자기교란 지수\n",
    "\n",
    "target = pd.read_csv(\"proc_data/target.csv\", parse_dates=['dt'])\n",
    "target.head()"
   ]
  },
  {
   "cell_type": "code",
   "execution_count": 29,
   "metadata": {},
   "outputs": [
    {
     "data": {
      "text/html": [
       "<div>\n",
       "<style scoped>\n",
       "    .dataframe tbody tr th:only-of-type {\n",
       "        vertical-align: middle;\n",
       "    }\n",
       "\n",
       "    .dataframe tbody tr th {\n",
       "        vertical-align: top;\n",
       "    }\n",
       "\n",
       "    .dataframe thead th {\n",
       "        text-align: right;\n",
       "    }\n",
       "</style>\n",
       "<table border=\"1\" class=\"dataframe\">\n",
       "  <thead>\n",
       "    <tr style=\"text-align: right;\">\n",
       "      <th></th>\n",
       "      <th>dt</th>\n",
       "      <th>Np</th>\n",
       "      <th>Tp</th>\n",
       "      <th>Vp</th>\n",
       "      <th>B_gsm_x</th>\n",
       "      <th>B_gsm_y</th>\n",
       "      <th>B_gsm_z</th>\n",
       "      <th>Bmag</th>\n",
       "    </tr>\n",
       "  </thead>\n",
       "  <tbody>\n",
       "    <tr>\n",
       "      <th>0</th>\n",
       "      <td>2015-01-01 00:00:00</td>\n",
       "      <td>1.852</td>\n",
       "      <td>41618.0</td>\n",
       "      <td>455.61</td>\n",
       "      <td>6.098</td>\n",
       "      <td>2.449</td>\n",
       "      <td>-13.415</td>\n",
       "      <td>14.952</td>\n",
       "    </tr>\n",
       "    <tr>\n",
       "      <th>1</th>\n",
       "      <td>2015-01-01 00:01:00</td>\n",
       "      <td>2.181</td>\n",
       "      <td>33781.0</td>\n",
       "      <td>461.07</td>\n",
       "      <td>6.700</td>\n",
       "      <td>1.502</td>\n",
       "      <td>-13.232</td>\n",
       "      <td>14.912</td>\n",
       "    </tr>\n",
       "    <tr>\n",
       "      <th>2</th>\n",
       "      <td>2015-01-01 00:02:00</td>\n",
       "      <td>2.415</td>\n",
       "      <td>34709.0</td>\n",
       "      <td>464.84</td>\n",
       "      <td>7.390</td>\n",
       "      <td>0.523</td>\n",
       "      <td>-12.941</td>\n",
       "      <td>14.928</td>\n",
       "    </tr>\n",
       "    <tr>\n",
       "      <th>3</th>\n",
       "      <td>2015-01-01 00:03:00</td>\n",
       "      <td>2.359</td>\n",
       "      <td>34183.0</td>\n",
       "      <td>470.76</td>\n",
       "      <td>8.011</td>\n",
       "      <td>-0.098</td>\n",
       "      <td>-12.694</td>\n",
       "      <td>15.013</td>\n",
       "    </tr>\n",
       "    <tr>\n",
       "      <th>4</th>\n",
       "      <td>2015-01-01 00:04:00</td>\n",
       "      <td>1.237</td>\n",
       "      <td>32467.0</td>\n",
       "      <td>469.51</td>\n",
       "      <td>7.493</td>\n",
       "      <td>0.410</td>\n",
       "      <td>-13.058</td>\n",
       "      <td>15.064</td>\n",
       "    </tr>\n",
       "  </tbody>\n",
       "</table>\n",
       "</div>"
      ],
      "text/plain": [
       "                   dt     Np       Tp      Vp  B_gsm_x  B_gsm_y  B_gsm_z  \\\n",
       "0 2015-01-01 00:00:00  1.852  41618.0  455.61    6.098    2.449  -13.415   \n",
       "1 2015-01-01 00:01:00  2.181  33781.0  461.07    6.700    1.502  -13.232   \n",
       "2 2015-01-01 00:02:00  2.415  34709.0  464.84    7.390    0.523  -12.941   \n",
       "3 2015-01-01 00:03:00  2.359  34183.0  470.76    8.011   -0.098  -12.694   \n",
       "4 2015-01-01 00:04:00  1.237  32467.0  469.51    7.493    0.410  -13.058   \n",
       "\n",
       "     Bmag  \n",
       "0  14.952  \n",
       "1  14.912  \n",
       "2  14.928  \n",
       "3  15.013  \n",
       "4  15.064  "
      ]
     },
     "execution_count": 29,
     "metadata": {},
     "output_type": "execute_result"
    }
   ],
   "source": [
    "# 붙임2 AI 경진대회 문제(태양풍 데이터)\n",
    "\n",
    "problem = pd.read_csv(\"proc_data/problem.csv\", parse_dates=['dt'])\n",
    "problem.head()"
   ]
  },
  {
   "cell_type": "code",
   "execution_count": 30,
   "metadata": {},
   "outputs": [
    {
     "data": {
      "text/html": [
       "<div>\n",
       "<style scoped>\n",
       "    .dataframe tbody tr th:only-of-type {\n",
       "        vertical-align: middle;\n",
       "    }\n",
       "\n",
       "    .dataframe tbody tr th {\n",
       "        vertical-align: top;\n",
       "    }\n",
       "\n",
       "    .dataframe thead th {\n",
       "        text-align: right;\n",
       "    }\n",
       "</style>\n",
       "<table border=\"1\" class=\"dataframe\">\n",
       "  <thead>\n",
       "    <tr style=\"text-align: right;\">\n",
       "      <th></th>\n",
       "      <th>dt</th>\n",
       "      <th>Np</th>\n",
       "      <th>Tp</th>\n",
       "      <th>Vp</th>\n",
       "      <th>B_gsm_x</th>\n",
       "      <th>B_gsm_y</th>\n",
       "      <th>B_gsm_z</th>\n",
       "      <th>Bmag</th>\n",
       "    </tr>\n",
       "  </thead>\n",
       "  <tbody>\n",
       "    <tr>\n",
       "      <th>0</th>\n",
       "      <td>2014-06-29 00:01:00</td>\n",
       "      <td>2.416</td>\n",
       "      <td>65701.0</td>\n",
       "      <td>402.18</td>\n",
       "      <td>-4.212</td>\n",
       "      <td>-3.982</td>\n",
       "      <td>2.445</td>\n",
       "      <td>6.298</td>\n",
       "    </tr>\n",
       "    <tr>\n",
       "      <th>1</th>\n",
       "      <td>2014-06-29 00:02:00</td>\n",
       "      <td>2.493</td>\n",
       "      <td>68240.0</td>\n",
       "      <td>399.89</td>\n",
       "      <td>-4.566</td>\n",
       "      <td>-3.473</td>\n",
       "      <td>2.766</td>\n",
       "      <td>6.430</td>\n",
       "    </tr>\n",
       "    <tr>\n",
       "      <th>2</th>\n",
       "      <td>2014-06-29 00:03:00</td>\n",
       "      <td>2.582</td>\n",
       "      <td>85224.0</td>\n",
       "      <td>389.17</td>\n",
       "      <td>-5.456</td>\n",
       "      <td>-2.370</td>\n",
       "      <td>2.837</td>\n",
       "      <td>6.596</td>\n",
       "    </tr>\n",
       "    <tr>\n",
       "      <th>3</th>\n",
       "      <td>2014-06-29 00:04:00</td>\n",
       "      <td>2.686</td>\n",
       "      <td>90925.0</td>\n",
       "      <td>390.59</td>\n",
       "      <td>-5.550</td>\n",
       "      <td>-1.988</td>\n",
       "      <td>2.768</td>\n",
       "      <td>6.519</td>\n",
       "    </tr>\n",
       "    <tr>\n",
       "      <th>4</th>\n",
       "      <td>2014-06-29 00:05:00</td>\n",
       "      <td>2.676</td>\n",
       "      <td>79821.0</td>\n",
       "      <td>392.44</td>\n",
       "      <td>-4.922</td>\n",
       "      <td>-3.073</td>\n",
       "      <td>2.679</td>\n",
       "      <td>6.416</td>\n",
       "    </tr>\n",
       "  </tbody>\n",
       "</table>\n",
       "</div>"
      ],
      "text/plain": [
       "                   dt     Np       Tp      Vp  B_gsm_x  B_gsm_y  B_gsm_z  \\\n",
       "0 2014-06-29 00:01:00  2.416  65701.0  402.18   -4.212   -3.982    2.445   \n",
       "1 2014-06-29 00:02:00  2.493  68240.0  399.89   -4.566   -3.473    2.766   \n",
       "2 2014-06-29 00:03:00  2.582  85224.0  389.17   -5.456   -2.370    2.837   \n",
       "3 2014-06-29 00:04:00  2.686  90925.0  390.59   -5.550   -1.988    2.768   \n",
       "4 2014-06-29 00:05:00  2.676  79821.0  392.44   -4.922   -3.073    2.679   \n",
       "\n",
       "    Bmag  \n",
       "0  6.298  \n",
       "1  6.430  \n",
       "2  6.596  \n",
       "3  6.519  \n",
       "4  6.416  "
      ]
     },
     "execution_count": 30,
     "metadata": {},
     "output_type": "execute_result"
    }
   ],
   "source": [
    "# 붙임5 추가 태양풍 데이터(과제문제의 전년도 6개월)\n",
    "\n",
    "additional = pd.read_csv(\"proc_data/additional.csv\", parse_dates=['dt'])\n",
    "additional.head()"
   ]
  },
  {
   "cell_type": "markdown",
   "metadata": {},
   "source": [
    "---"
   ]
  },
  {
   "cell_type": "markdown",
   "metadata": {},
   "source": [
    "# 1.5 기초통계분석"
   ]
  },
  {
   "cell_type": "markdown",
   "metadata": {},
   "source": [
    "---"
   ]
  },
  {
   "cell_type": "markdown",
   "metadata": {},
   "source": [
    "# 2.데이터 전처리"
   ]
  },
  {
   "cell_type": "code",
   "execution_count": 188,
   "metadata": {},
   "outputs": [],
   "source": [
    "from copy import deepcopy\n",
    "ace_origin = deepcopy(ace)\n",
    "target_origin = target.copy()"
   ]
  },
  {
   "cell_type": "markdown",
   "metadata": {},
   "source": [
    "---"
   ]
  },
  {
   "cell_type": "markdown",
   "metadata": {},
   "source": [
    "# 3.시각화"
   ]
  },
  {
   "cell_type": "code",
   "execution_count": 160,
   "metadata": {},
   "outputs": [
    {
     "data": {
      "text/plain": [
       "<seaborn.axisgrid.PairGrid at 0x1e616712978>"
      ]
     },
     "execution_count": 160,
     "metadata": {},
     "output_type": "execute_result"
    },
    {
     "data": {
      "image/png": "[encoded data removed]",
      "text/plain": [
       "<Figure size 1260x1260 with 56 Axes>"
      ]
     },
     "metadata": {
      "needs_background": "light"
     },
     "output_type": "display_data"
    }
   ],
   "source": [
    "sns.pairplot(ace[1999])"
   ]
  },
  {
   "cell_type": "code",
   "execution_count": 161,
   "metadata": {},
   "outputs": [
    {
     "data": {
      "text/plain": [
       "<matplotlib.axes._subplots.AxesSubplot at 0x1e625c1be48>"
      ]
     },
     "execution_count": 161,
     "metadata": {},
     "output_type": "execute_result"
    },
    {
     "data": {
      "image/png": "[encoded data removed]",
      "text/plain": [
       "<Figure size 432x288 with 2 Axes>"
      ]
     },
     "metadata": {
      "needs_background": "light"
     },
     "output_type": "display_data"
    }
   ],
   "source": [
    "sns.heatmap(ace[1999].corr())"
   ]
  },
  {
   "cell_type": "code",
   "execution_count": 275,
   "metadata": {},
   "outputs": [
    {
     "data": {
      "text/plain": [
       "<matplotlib.axes._subplots.AxesSubplot at 0x1e6c1dd4080>"
      ]
     },
     "execution_count": 275,
     "metadata": {},
     "output_type": "execute_result"
    },
    {
     "data": {
      "image/png": "[encoded data removed]",
      "text/plain": [
       "<Figure size 1080x576 with 1 Axes>"
      ]
     },
     "metadata": {
      "needs_background": "light"
     },
     "output_type": "display_data"
    }
   ],
   "source": [
    "plt.figure(figsize=(15, 8))\n",
    "sns.lineplot(data=target)"
   ]
  },
  {
   "cell_type": "markdown",
   "metadata": {},
   "source": [
    "# train test split"
   ]
  },
  {
   "cell_type": "code",
   "execution_count": 166,
   "metadata": {},
   "outputs": [],
   "source": [
    "ace_train = pd.DataFrame(columns=ace[1999].columns)\n",
    "\n",
    "for year in range(1999, 2012):\n",
    "    ace_train = pd.concat([ace_train, ace[year]], axis=0)"
   ]
  },
  {
   "cell_type": "code",
   "execution_count": 179,
   "metadata": {},
   "outputs": [],
   "source": [
    "ace_train = pd.concat([\n",
    "    ace_train, \n",
    "    ace[2012].loc[:pd.Timestamp(year=2012, month=6, day=30, hour=23, minute=59), :]\n",
    "], axis=0)"
   ]
  },
  {
   "cell_type": "code",
   "execution_count": 183,
   "metadata": {},
   "outputs": [
    {
     "name": "stdout",
     "output_type": "stream",
     "text": [
      "<class 'pandas.core.frame.DataFrame'>\n",
      "DatetimeIndex: 6688353 entries, 1999-01-01 00:00:00 to 2012-06-30 23:59:00\n",
      "Data columns (total 7 columns):\n",
      "Np         float64\n",
      "Tp         float64\n",
      "Vp         float64\n",
      "B_gsm_x    float64\n",
      "B_gsm_y    float64\n",
      "B_gsm_z    float64\n",
      "Bmag       float64\n",
      "dtypes: float64(7)\n",
      "memory usage: 408.2 MB\n"
     ]
    }
   ],
   "source": [
    "ace_train.info()"
   ]
  },
  {
   "cell_type": "code",
   "execution_count": 184,
   "metadata": {},
   "outputs": [],
   "source": [
    "ace_test = pd.DataFrame(columns=ace_total.columns)\n",
    "\n",
    "ace_test = pd.concat([\n",
    "    ace_test,\n",
    "    ace[2012].loc[pd.Timestamp(year=2012, month=7, day=1, hour=0, minute=0):, :],\n",
    "    ace[2013]\n",
    "], axis=0)"
   ]
  },
  {
   "cell_type": "code",
   "execution_count": 185,
   "metadata": {},
   "outputs": [
    {
     "name": "stdout",
     "output_type": "stream",
     "text": [
      "<class 'pandas.core.frame.DataFrame'>\n",
      "DatetimeIndex: 741151 entries, 2012-07-01 00:00:00 to 2013-12-31 23:59:00\n",
      "Data columns (total 7 columns):\n",
      "Np         741151 non-null float64\n",
      "Tp         741151 non-null float64\n",
      "Vp         741151 non-null float64\n",
      "B_gsm_x    741151 non-null float64\n",
      "B_gsm_y    741151 non-null float64\n",
      "B_gsm_z    741151 non-null float64\n",
      "Bmag       741151 non-null float64\n",
      "dtypes: float64(7)\n",
      "memory usage: 45.2 MB\n"
     ]
    }
   ],
   "source": [
    "ace_test.info()"
   ]
  },
  {
   "cell_type": "code",
   "execution_count": 279,
   "metadata": {
    "scrolled": true
   },
   "outputs": [],
   "source": [
    "ace_train_y = target.loc[:pd.Timestamp(year=2012, month=6, day=30, hour=21)]"
   ]
  },
  {
   "cell_type": "code",
   "execution_count": 284,
   "metadata": {},
   "outputs": [],
   "source": [
    "ace_test_y = target.iloc[len(ace_train_y):]"
   ]
  },
  {
   "cell_type": "code",
   "execution_count": null,
   "metadata": {},
   "outputs": [],
   "source": []
  },
  {
   "cell_type": "code",
   "execution_count": null,
   "metadata": {},
   "outputs": [],
   "source": []
  },
  {
   "cell_type": "code",
   "execution_count": null,
   "metadata": {},
   "outputs": [],
   "source": []
  },
  {
   "cell_type": "markdown",
   "metadata": {},
   "source": [
    "# "
   ]
  },
  {
   "cell_type": "code",
   "execution_count": null,
   "metadata": {},
   "outputs": [],
   "source": []
  },
  {
   "cell_type": "code",
   "execution_count": null,
   "metadata": {},
   "outputs": [],
   "source": []
  },
  {
   "cell_type": "code",
   "execution_count": null,
   "metadata": {},
   "outputs": [],
   "source": []
  }
 ],
 "metadata": {
  "kernelspec": {
   "display_name": "Python 3",
   "language": "python",
   "name": "python3"
  },
  "language_info": {
   "codemirror_mode": {
    "name": "ipython",
    "version": 3
   },
   "file_extension": ".py",
   "mimetype": "text/x-python",
   "name": "python",
   "nbconvert_exporter": "python",
   "pygments_lexer": "ipython3",
   "version": "3.7.3"
  }
 },
 "nbformat": 4,
 "nbformat_minor": 2
}
